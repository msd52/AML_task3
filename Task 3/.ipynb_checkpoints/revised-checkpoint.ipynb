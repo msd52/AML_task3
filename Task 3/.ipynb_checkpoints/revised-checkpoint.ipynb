{
 "cells": [
  {
   "cell_type": "code",
   "execution_count": 8,
   "id": "091f630e",
   "metadata": {},
   "outputs": [],
   "source": [
    "import os\n",
    "os.environ['CUDA_VISIBLE_DEVICES'] = '0'\n",
    "\n",
    "import numpy as np\n",
    "import cv2\n",
    "import matplotlib.pyplot as plt\n",
    "import pickle\n",
    "import gzip\n",
    "import numpy as np\n",
    "import os"
   ]
  },
  {
   "cell_type": "code",
   "execution_count": 9,
   "id": "5903070e",
   "metadata": {},
   "outputs": [],
   "source": [
    "# helper function for data visualization\n",
    "def visualize(**images):\n",
    "    \"\"\"PLot images in one row.\"\"\"\n",
    "    n = len(images)\n",
    "    plt.figure(figsize=(16, 5))\n",
    "    for i, (name, image) in enumerate(images.items()):\n",
    "        print(image.shape)\n",
    "        plt.subplot(1, n, i + 1)\n",
    "        plt.xticks([])\n",
    "        plt.yticks([])\n",
    "        plt.title(' '.join(name.split('_')).title())\n",
    "        plt.imshow(image)\n",
    "    plt.show()"
   ]
  },
  {
   "cell_type": "code",
   "execution_count": 10,
   "id": "dcdddf37",
   "metadata": {},
   "outputs": [],
   "source": [
    "def load_zipped_pickle(filename):\n",
    "    with gzip.open(filename, 'rb') as f:\n",
    "        loaded_object = pickle.load(f)\n",
    "        return loaded_object"
   ]
  },
  {
   "cell_type": "code",
   "execution_count": 11,
   "id": "8c28da2c",
   "metadata": {},
   "outputs": [],
   "source": [
    "def save_zipped_pickle(obj, filename):\n",
    "    with gzip.open(filename, 'wb') as f:\n",
    "        pickle.dump(obj, f, 2)"
   ]
  },
  {
   "cell_type": "code",
   "execution_count": 16,
   "id": "ccac5f90",
   "metadata": {},
   "outputs": [],
   "source": [
    "# load data\n",
    "trainX = load_zipped_pickle(\"task3data/train.pkl\")\n",
    "testX = load_zipped_pickle(\"task3data/test.pkl\")\n",
    "samples = load_zipped_pickle(\"task3data/sample.pkl\")"
   ]
  },
  {
   "cell_type": "code",
   "execution_count": 14,
   "id": "b3a6350f",
   "metadata": {},
   "outputs": [],
   "source": [
    "from torch.utils.data import DataLoader\n",
    "from torch.utils.data import Dataset as BaseDataset"
   ]
  },
  {
   "cell_type": "code",
   "execution_count": 17,
   "id": "4a378b6c",
   "metadata": {},
   "outputs": [],
   "source": [
    "trainX_extr = []\n",
    "for i in range(len(trainX)):\n",
    "    video = trainX[i][\"video\"]\n",
    "    frames = trainX[i][\"frames\"]\n",
    "    frame1 = trainX[i][\"video\"][:,:,frames[0]]\n",
    "    frame2 = trainX[i][\"video\"][:,:,frames[1]]\n",
    "    frame3 = trainX[i][\"video\"][:,:,frames[2]]\n",
    "    label1 = trainX[i][\"label\"][:,:,frames[0]]\n",
    "    label2 = trainX[i][\"label\"][:,:,frames[1]]\n",
    "    label3 = trainX[i][\"label\"][:,:,frames[2]]\n",
    "    trainX_extr.append((frame1,label1))\n",
    "    trainX_extr.append((frame2,label2))\n",
    "    trainX_extr.append((frame3,label3))"
   ]
  },
  {
   "cell_type": "code",
   "execution_count": 19,
   "id": "558eef07",
   "metadata": {},
   "outputs": [],
   "source": [
    "test_data = []\n",
    "for i in range(len(testX)):\n",
    "    video = testX[i][\"video\"]\n",
    "    for j in range(video.shape[2]):\n",
    "        test_data.append(video[:,:,j])"
   ]
  },
  {
   "cell_type": "code",
   "execution_count": 18,
   "id": "21daf7a1",
   "metadata": {},
   "outputs": [],
   "source": [
    "class Dataset2(BaseDataset):\n",
    "    \"\"\"mitral valve Dataset. Read images, apply augmentation and preprocessing transformations.\n",
    "    \n",
    "    Args:\n",
    "        images_dir (str): path to images folder\n",
    "        masks_dir (str): path to segmentation masks folder\n",
    "        class_values (list): values of classes to extract from segmentation mask\n",
    "        augmentation (albumentations.Compose): data transfromation pipeline \n",
    "            (e.g. flip, scale, etc.)\n",
    "        preprocessing (albumentations.Compose): data preprocessing \n",
    "            (e.g. noralization, shape manipulation, etc.)\n",
    "    \n",
    "    \"\"\"\n",
    "    \n",
    "    CLASSES = ['valve']\n",
    "    \n",
    "    def __init__(\n",
    "            self, \n",
    "            data,\n",
    "            classes=None, \n",
    "            augmentation=None, \n",
    "            preprocessing=None,\n",
    "    ):\n",
    "        self.data = data\n",
    "        self.images_fps = [pair[0] for pair in self.data]\n",
    "        self.masks_fps = [pair[1] for pair in self.data]\n",
    "        \n",
    "        # convert str names to class values on masks\n",
    "        self.class_values = [self.CLASSES.index(cls.lower()) for cls in classes]\n",
    "        \n",
    "        self.augmentation = augmentation\n",
    "        self.preprocessing = preprocessing\n",
    "    \n",
    "    def __getitem__(self, i):\n",
    "        \n",
    "        # read data\n",
    "#        image = cv2.cvtColor(image, cv2.COLOR_BGR2RGB)\n",
    "#        mask = cv2.imread(self.masks_fps[i], 0)\n",
    "        \n",
    "        image = self.images_fps[i][:,:,np.newaxis]\n",
    "        mask = self.masks_fps[i]\n",
    "        print(np.array(image).shape)\n",
    "        print(np.array(mask).shape)\n",
    "        \n",
    "        # extract certain classes from mask (e.g. cars)\n",
    "        masks = [(mask == v) for v in self.class_values]\n",
    "        mask = np.stack(masks, axis=-1).astype('float')\n",
    "        \n",
    "        print(np.array(image).shape)\n",
    "        print(np.array(mask).shape)\n",
    "        # apply augmentations\n",
    "        if self.augmentation:\n",
    "            sample = self.augmentation(image=image, mask=mask)\n",
    "            image, mask = sample['image'], sample['mask']\n",
    "            \n",
    "        print(f\"image has shape {np.array(image).shape}\")\n",
    "        print(f\"mask has shape{np.array(mask).shape}\")\n",
    "        # apply preprocessing\n",
    "        if self.preprocessing:\n",
    "            sample = self.preprocessing(image=image, mask=mask)\n",
    "            image, mask = sample['image'], sample['mask']\n",
    "        print(np.array(image).shape)\n",
    "        print(np.array(mask).shape)  \n",
    "        return image, mask\n",
    "        \n",
    "    def __len__(self):\n",
    "        return len(self.data)"
   ]
  },
  {
   "cell_type": "code",
   "execution_count": null,
   "id": "c63b575b",
   "metadata": {},
   "outputs": [],
   "source": []
  }
 ],
 "metadata": {
  "kernelspec": {
   "display_name": "Python 3 (ipykernel)",
   "language": "python",
   "name": "python3"
  },
  "language_info": {
   "codemirror_mode": {
    "name": "ipython",
    "version": 3
   },
   "file_extension": ".py",
   "mimetype": "text/x-python",
   "name": "python",
   "nbconvert_exporter": "python",
   "pygments_lexer": "ipython3",
   "version": "3.9.7"
  }
 },
 "nbformat": 4,
 "nbformat_minor": 5
}
