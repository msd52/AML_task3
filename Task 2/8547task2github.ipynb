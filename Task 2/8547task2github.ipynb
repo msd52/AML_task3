{
  "nbformat": 4,
  "nbformat_minor": 0,
  "metadata": {
    "colab": {
      "name": "Untitled3.ipynb",
      "provenance": []
    },
    "kernelspec": {
      "name": "python3",
      "display_name": "Python 3"
    },
    "language_info": {
      "name": "python"
    }
  },
  "cells": [
    {
      "cell_type": "code",
      "metadata": {
        "id": "2RsELu0PpWYF",
        "colab": {
          "base_uri": "https://localhost:8080/"
        },
        "outputId": "0546eaff-47c2-4689-cd4b-e94e4f8993e3"
      },
      "source": [
        "!pip install biosppy\n",
        "!pip install antropy"
      ],
      "execution_count": 1,
      "outputs": [
        {
          "output_type": "stream",
          "name": "stdout",
          "text": [
            "Collecting biosppy\n",
            "  Downloading biosppy-0.7.3.tar.gz (85 kB)\n",
            "\u001b[?25l\r\u001b[K     |███▉                            | 10 kB 5.8 MB/s eta 0:00:01\r\u001b[K     |███████▊                        | 20 kB 10.1 MB/s eta 0:00:01\r\u001b[K     |███████████▌                    | 30 kB 13.8 MB/s eta 0:00:01\r\u001b[K     |███████████████▍                | 40 kB 17.2 MB/s eta 0:00:01\r\u001b[K     |███████████████████▏            | 51 kB 7.7 MB/s eta 0:00:01\r\u001b[K     |███████████████████████         | 61 kB 8.2 MB/s eta 0:00:01\r\u001b[K     |███████████████████████████     | 71 kB 6.7 MB/s eta 0:00:01\r\u001b[K     |██████████████████████████████▊ | 81 kB 7.5 MB/s eta 0:00:01\r\u001b[K     |████████████████████████████████| 85 kB 2.3 MB/s \n",
            "\u001b[?25hCollecting bidict\n",
            "  Downloading bidict-0.21.4-py3-none-any.whl (36 kB)\n",
            "Requirement already satisfied: h5py in /usr/local/lib/python3.7/dist-packages (from biosppy) (3.1.0)\n",
            "Requirement already satisfied: matplotlib in /usr/local/lib/python3.7/dist-packages (from biosppy) (3.2.2)\n",
            "Requirement already satisfied: numpy in /usr/local/lib/python3.7/dist-packages (from biosppy) (1.19.5)\n",
            "Requirement already satisfied: scikit-learn in /usr/local/lib/python3.7/dist-packages (from biosppy) (1.0.1)\n",
            "Requirement already satisfied: scipy in /usr/local/lib/python3.7/dist-packages (from biosppy) (1.4.1)\n",
            "Collecting shortuuid\n",
            "  Downloading shortuuid-1.0.8-py3-none-any.whl (9.5 kB)\n",
            "Requirement already satisfied: six in /usr/local/lib/python3.7/dist-packages (from biosppy) (1.15.0)\n",
            "Requirement already satisfied: joblib in /usr/local/lib/python3.7/dist-packages (from biosppy) (1.1.0)\n",
            "Requirement already satisfied: opencv-python in /usr/local/lib/python3.7/dist-packages (from biosppy) (4.1.2.30)\n",
            "Requirement already satisfied: cached-property in /usr/local/lib/python3.7/dist-packages (from h5py->biosppy) (1.5.2)\n",
            "Requirement already satisfied: python-dateutil>=2.1 in /usr/local/lib/python3.7/dist-packages (from matplotlib->biosppy) (2.8.2)\n",
            "Requirement already satisfied: cycler>=0.10 in /usr/local/lib/python3.7/dist-packages (from matplotlib->biosppy) (0.11.0)\n",
            "Requirement already satisfied: pyparsing!=2.0.4,!=2.1.2,!=2.1.6,>=2.0.1 in /usr/local/lib/python3.7/dist-packages (from matplotlib->biosppy) (3.0.6)\n",
            "Requirement already satisfied: kiwisolver>=1.0.1 in /usr/local/lib/python3.7/dist-packages (from matplotlib->biosppy) (1.3.2)\n",
            "Requirement already satisfied: threadpoolctl>=2.0.0 in /usr/local/lib/python3.7/dist-packages (from scikit-learn->biosppy) (3.0.0)\n",
            "Building wheels for collected packages: biosppy\n",
            "  Building wheel for biosppy (setup.py) ... \u001b[?25l\u001b[?25hdone\n",
            "  Created wheel for biosppy: filename=biosppy-0.7.3-py2.py3-none-any.whl size=95430 sha256=ea2cc4e1938632d0cb5cb7bce7e8412bd5c3d379a03c5147c05f13505fcc5901\n",
            "  Stored in directory: /root/.cache/pip/wheels/2f/4f/8f/28b2adc462d7e37245507324f4817ce1c64ef2464f099f4f0b\n",
            "Successfully built biosppy\n",
            "Installing collected packages: shortuuid, bidict, biosppy\n",
            "Successfully installed bidict-0.21.4 biosppy-0.7.3 shortuuid-1.0.8\n",
            "Collecting antropy\n",
            "  Downloading antropy-0.1.4.tar.gz (16 kB)\n",
            "Collecting stochastic\n",
            "  Downloading stochastic-0.6.0-py3-none-any.whl (49 kB)\n",
            "\u001b[K     |████████████████████████████████| 49 kB 3.7 MB/s \n",
            "\u001b[?25hRequirement already satisfied: numpy<2.0,>=1.17 in /usr/local/lib/python3.7/dist-packages (from stochastic->antropy) (1.19.5)\n",
            "Requirement already satisfied: scipy<2.0,>=1.3 in /usr/local/lib/python3.7/dist-packages (from stochastic->antropy) (1.4.1)\n",
            "Building wheels for collected packages: antropy\n",
            "  Building wheel for antropy (setup.py) ... \u001b[?25l\u001b[?25hdone\n",
            "  Created wheel for antropy: filename=antropy-0.1.4-py3-none-any.whl size=16158 sha256=6b5c80ccc349d2b7393d390f8ddada00f3aa4e0c329197afcee9c9f14712ca47\n",
            "  Stored in directory: /root/.cache/pip/wheels/d4/cc/6b/28fa7036bdabc6f1f92fd6a108ae259dbb48f107f676d6b491\n",
            "Successfully built antropy\n",
            "Installing collected packages: stochastic, antropy\n",
            "Successfully installed antropy-0.1.4 stochastic-0.6.0\n"
          ]
        }
      ]
    },
    {
      "cell_type": "code",
      "metadata": {
        "id": "TNsNhcUWpQtq"
      },
      "source": [
        "import biosppy.signals.ecg as ecg\n",
        "import antropy as ant\n",
        "import matplotlib.pyplot as plt"
      ],
      "execution_count": 2,
      "outputs": []
    },
    {
      "cell_type": "code",
      "metadata": {
        "id": "B2Jjw8ELKCPs"
      },
      "source": [
        "import torch\n",
        "import numpy as np\n",
        "import pandas as pd\n",
        "\n",
        "train_X = pd.read_csv('X_train.csv')\n",
        "train_X_tensor = torch.tensor(train_X.values)[:,1:]\n",
        "train_y = pd.read_csv(\"y_train.csv\")\n",
        "train_y_tensor = torch.tensor(train_y.values)[:,1:]\n",
        "\n",
        "test_X = pd.read_csv('X_test.csv')\n",
        "test_X_tensor = torch.tensor(test_X.values)[:,1:]"
      ],
      "execution_count": 3,
      "outputs": []
    },
    {
      "cell_type": "code",
      "metadata": {
        "colab": {
          "base_uri": "https://localhost:8080/"
        },
        "id": "0hMIgIrkdvMH",
        "outputId": "9de471ff-5f47-47d2-9caf-c5f5f7fb1f3a"
      },
      "source": [
        "test_X_tensor.shape"
      ],
      "execution_count": 4,
      "outputs": [
        {
          "output_type": "execute_result",
          "data": {
            "text/plain": [
              "torch.Size([3411, 17842])"
            ]
          },
          "metadata": {},
          "execution_count": 4
        }
      ]
    },
    {
      "cell_type": "code",
      "metadata": {
        "id": "he3s235ecZDM"
      },
      "source": [
        "X_train = train_X_tensor.numpy()\n",
        "y_train = train_y_tensor.numpy()"
      ],
      "execution_count": 5,
      "outputs": []
    },
    {
      "cell_type": "code",
      "metadata": {
        "colab": {
          "base_uri": "https://localhost:8080/"
        },
        "id": "zEMHmzud83hZ",
        "outputId": "b66087c9-078f-4469-cfd7-f6732830cdd1"
      },
      "source": [
        "y_train.shape"
      ],
      "execution_count": 6,
      "outputs": [
        {
          "output_type": "execute_result",
          "data": {
            "text/plain": [
              "(5117, 1)"
            ]
          },
          "metadata": {},
          "execution_count": 6
        }
      ]
    },
    {
      "cell_type": "code",
      "metadata": {
        "colab": {
          "base_uri": "https://localhost:8080/"
        },
        "id": "Do2P2GH-84vz",
        "outputId": "02a09bb9-c86c-499b-da35-61397b36ae92"
      },
      "source": [
        "X_train.shape"
      ],
      "execution_count": 7,
      "outputs": [
        {
          "output_type": "execute_result",
          "data": {
            "text/plain": [
              "(5117, 17842)"
            ]
          },
          "metadata": {},
          "execution_count": 7
        }
      ]
    },
    {
      "cell_type": "code",
      "metadata": {
        "id": "itxAiIj7cp25"
      },
      "source": [
        "y_train = np.squeeze(y_train, axis=1)"
      ],
      "execution_count": 8,
      "outputs": []
    },
    {
      "cell_type": "code",
      "metadata": {
        "id": "zlDdgCGpyrf9",
        "cellView": "form"
      },
      "source": [
        "#@title hide pls\n",
        "signal = X_train[1]\n",
        "signal = signal[~np.isnan(signal)] #drop nans\n",
        "r_peaks = ecg.engzee_segmenter(signal, 300)['rpeaks'] #300 is the sampling rate afaik\n",
        "# print(r_peaks)\n",
        "\n",
        "if len(r_peaks) >= 2:\n",
        "    #print(ecg.extract_heartbeats(signal, r_peaks, 300))\n",
        "    beats = ecg.extract_heartbeats(signal, r_peaks, 300)['templates']\n",
        "beats.shape\n",
        "r_peaks"
      ],
      "execution_count": null,
      "outputs": []
    },
    {
      "cell_type": "code",
      "metadata": {
        "id": "EAQl9Lo7w_A8"
      },
      "source": [
        "!pip install pyhrv\n",
        "from pyhrv.frequency_domain import welch_psd"
      ],
      "execution_count": null,
      "outputs": []
    },
    {
      "cell_type": "code",
      "metadata": {
        "id": "_hViaZ1d0l2k"
      },
      "source": [
        "fbands = {'ulf': (0.0, 0.033), 'vlf': (0.033, 0.04), 'lf': (0.04, 0.15), 'hf': (0.15, 0.4)} #WHY CANT I ADD 5th frequency?\n",
        "# fbands = {'vlf': (0.033, 0.04), 'lf': (0.04, 0.15), 'hf': (0.15, 0.4),\"noise\":(0.4,100)} #WHY CANT I ADD 5th frequency?"
      ],
      "execution_count": 10,
      "outputs": []
    },
    {
      "cell_type": "code",
      "metadata": {
        "cellView": "form",
        "id": "prGlPeFBv9VZ"
      },
      "source": [
        "#@title hide pls\n",
        "signal = X_train[0]\n",
        "signal = signal[~np.isnan(signal)] #drop nans\n",
        "\n",
        "res = ecg.ecg(signal, sampling_rate=300, show=False)\n",
        "r_peaks = res['rpeaks']\n",
        "heart_rates = res['heart_rate']\n",
        "\n",
        "# else:\n",
        "#   print(f\"len(r_peaks) = {len(r_peaks)}, len(signal)={len(signal)} index is {i}\")\n",
        "# r_peaks = ecg.engzee_segmenter(signal, 300)['rpeaks'] #300 is the sampling rate afaik\n",
        "# extracted_rpeaks.append([signal,r_peaks])\n",
        "print(heart_rates)\n",
        "print(r_peaks.shape)"
      ],
      "execution_count": null,
      "outputs": []
    },
    {
      "cell_type": "code",
      "metadata": {
        "id": "ysm6hMGowzVk"
      },
      "source": [
        "extracted_rpeaks = []"
      ],
      "execution_count": 11,
      "outputs": []
    },
    {
      "cell_type": "code",
      "metadata": {
        "id": "PkKKkOOVwgV9",
        "colab": {
          "base_uri": "https://localhost:8080/"
        },
        "outputId": "a0808a19-0ed4-4d5b-eea0-6fb2e0a88b0d"
      },
      "source": [
        "max = 0\n",
        "for i in range(len(X_train)):\n",
        "    signal = X_train[i]\n",
        "    signal = signal[~np.isnan(signal)] #drop nans\n",
        "    if (i%500==0):\n",
        "      print(i)\n",
        "    res = ecg.ecg(signal, sampling_rate=300, show=False)\n",
        "    r_peaks = res['rpeaks']\n",
        "    heart_rates = res[\"heart_rate\"]\n",
        "    if len(r_peaks)>max:\n",
        "      max = len(r_peaks)\n",
        "    if len(r_peaks) < 5:\n",
        "      print(f\"Inappropriate input encountered: len(r_peaks) = {len(r_peaks)}, len(signal)={len(signal)} index is {i}\")\n",
        "    # else:\n",
        "    #   print(f\"len(r_peaks) = {len(r_peaks)}, len(signal)={len(signal)} index is {i}\")\n",
        "    # r_peaks = ecg.engzee_segmenter(signal, 300)['rpeaks'] #300 is the sampling rate afaik\n",
        "    extracted_rpeaks.append([signal,r_peaks,heart_rates])\n",
        "print(max)"
      ],
      "execution_count": 13,
      "outputs": [
        {
          "output_type": "stream",
          "name": "stdout",
          "text": [
            "0\n",
            "500\n",
            "1000\n",
            "1500\n",
            "2000\n",
            "2500\n",
            "3000\n",
            "3500\n",
            "4000\n",
            "4500\n",
            "5000\n",
            "160\n"
          ]
        }
      ]
    },
    {
      "cell_type": "code",
      "metadata": {
        "id": "dfQ2NiVxSZ98"
      },
      "source": [
        "min = 150\n",
        "for i in range(5117):\n",
        "  r_peaks = extracted_rpeaks[i][1]\n",
        "  if len(r_peaks)<min:\n",
        "    min = len(r_peaks)\n",
        "min"
      ],
      "execution_count": null,
      "outputs": []
    },
    {
      "cell_type": "code",
      "metadata": {
        "colab": {
          "base_uri": "https://localhost:8080/"
        },
        "id": "ov4M6nazv432",
        "outputId": "5722c5be-e370-48e3-98ca-9fc2bcf93c64"
      },
      "source": [
        "len(extracted_rpeaks)"
      ],
      "execution_count": 14,
      "outputs": [
        {
          "output_type": "execute_result",
          "data": {
            "text/plain": [
              "5117"
            ]
          },
          "metadata": {},
          "execution_count": 14
        }
      ]
    },
    {
      "cell_type": "code",
      "metadata": {
        "id": "WiftgFPQ-c6p",
        "cellView": "form"
      },
      "source": [
        "#@title pls hide yeo\n",
        "count =0\n",
        "diffs = []\n",
        "for i in range(len(y_train[y_train==3])):\n",
        "  signal = X_train[y_train==3][i]\n",
        "  label = y_train[y_train==3][i]\n",
        "  signal = signal[~np.isnan(signal)] #drop nans\n",
        "\n",
        "  res = ecg.ecg(signal, sampling_rate=300, show=False, )\n",
        "  r_peaks = res['rpeaks']\n",
        "  heart_rates = res[\"heart_rate\"]\n",
        "  beats = res[\"templates\"]\n",
        "  filtered = res[\"filtered\"]\n",
        "  r_peaks_s = r_peaks/300\n",
        "  freqs = 20*np.log10(np.abs(np.fft.rfft(signal)))\n",
        "  f = np.linspace(0, 300/2, len(freqs))\n",
        "  plt.plot(f, freqs)\n",
        "  # a = welch_psd(rpeaks=r_peaks_s, fbands = fbands, show=False, show_param=False, legend=False)#, fbands=None)\n",
        "  # res_filt = ecg.ecg(filtered, sampling_rate=300, show=False, )\n",
        "  # beats_filt = res_filt[\"templates\"]\n",
        "  # print(np.mean(np.mean(beats,axis=0)-np.mean(beats_filt,axis=0)))\n",
        "\n",
        "  #print(f\"num of rpeaks if {len(r_peaks)} and avg heartrate is {np.mean(heart_rates)}\")\n",
        "  #print(f\"I have {len(r_peaks)} pulses but I should have {np.mean(heart_rates[2:])*len(signal)/18000}\")\n",
        "  # c = np.mean(sorted(heart_rates[:-2]))*len(signal)/18000\n",
        "  # diff = np.abs((len(r_peaks)/c)-1)\n",
        "  # print(diff)\n",
        "  # diffs.append(diff)\n",
        "# print(np.mean(np.array(diffs)))\n",
        "\n",
        "  # print(r_peaks)\n",
        "  # print(r_peaks.shape)\n",
        "  # print(heart_rates[:15])\n",
        "  # print(heart_rates.shape)\n",
        "  # print(beats)\n",
        "  # print(beats.shape)"
      ],
      "execution_count": null,
      "outputs": []
    },
    {
      "cell_type": "code",
      "metadata": {
        "id": "bvNxQsDiZx1u"
      },
      "source": [
        "import scipy.signal"
      ],
      "execution_count": null,
      "outputs": []
    },
    {
      "cell_type": "code",
      "metadata": {
        "colab": {
          "base_uri": "https://localhost:8080/"
        },
        "id": "P5xLR7G7ZzGL",
        "outputId": "3bdaa35f-8560-44f3-fa6d-8b33c5748754"
      },
      "source": [
        "signal = X_train[y_train==0][8]\n",
        "label = y_train[y_train==3][0]\n",
        "signal = signal[~np.isnan(signal)] #drop nans\n",
        "f, Pxx_spec = scipy.signal.welch(signal, 300, 'flattop', 1024, scaling='spectrum')\n",
        "Pxx_spec.shape"
      ],
      "execution_count": null,
      "outputs": [
        {
          "output_type": "execute_result",
          "data": {
            "text/plain": [
              "(513,)"
            ]
          },
          "metadata": {},
          "execution_count": 162
        }
      ]
    },
    {
      "cell_type": "code",
      "metadata": {
        "colab": {
          "base_uri": "https://localhost:8080/"
        },
        "id": "oJwxh8S5aslG",
        "outputId": "aedee815-a6fa-4dd0-bebd-5e00fd58fe8b"
      },
      "source": [
        "Pxx_spec[0::10].shape"
      ],
      "execution_count": null,
      "outputs": [
        {
          "output_type": "execute_result",
          "data": {
            "text/plain": [
              "(52,)"
            ]
          },
          "metadata": {},
          "execution_count": 165
        }
      ]
    },
    {
      "cell_type": "code",
      "metadata": {
        "colab": {
          "base_uri": "https://localhost:8080/"
        },
        "id": "xGCxZxp5Ls_I",
        "cellView": "form",
        "outputId": "3008badf-edd1-4c5b-be48-ef503c36cc83"
      },
      "source": [
        "#@title hide yo\n",
        "# signal = X_train[y_train==0][6]\n",
        "# label = y_train[y_train==3][0]\n",
        "# signal = signal[~np.isnan(signal)] #drop nans\n",
        "# res = ecg.ecg(signal, sampling_rate=300, show=False, )\n",
        "# r_peaks = res['rpeaks']\n",
        "# heart_rates = res[\"heart_rate\"]\n",
        "# beats = res[\"templates\"]\n",
        "# filtered = res[\"filtered\"]\n",
        "# r_peaks_s = r_peaks/300\n",
        "# freqs = 20*np.log10(np.abs(np.fft.rfft(signal)))\n",
        "# f = np.linspace(0, 300/2, len(freqs))\n",
        "# len(freqs)"
      ],
      "execution_count": null,
      "outputs": [
        {
          "output_type": "execute_result",
          "data": {
            "text/plain": [
              "4122"
            ]
          },
          "metadata": {},
          "execution_count": 153
        }
      ]
    },
    {
      "cell_type": "code",
      "metadata": {
        "id": "7F3JagN2Mfcw"
      },
      "source": [
        "import scipy as scipy"
      ],
      "execution_count": 18,
      "outputs": []
    },
    {
      "cell_type": "code",
      "metadata": {
        "colab": {
          "base_uri": "https://localhost:8080/"
        },
        "id": "L9ipOgjOUv2v",
        "outputId": "1851842d-685b-4ff4-c43a-190be34c2741"
      },
      "source": [
        "np.histogram([1,2,3,4,5],bins=2)[1]"
      ],
      "execution_count": null,
      "outputs": [
        {
          "output_type": "execute_result",
          "data": {
            "text/plain": [
              "array([1., 3., 5.])"
            ]
          },
          "metadata": {},
          "execution_count": 73
        }
      ]
    },
    {
      "cell_type": "code",
      "metadata": {
        "id": "HxTWSIoNOyia"
      },
      "source": [
        "extracted_features_l = np.ones((5117,5*27+5*4+2+2+2+2*4+1+1+61+10+45))"
      ],
      "execution_count": 40,
      "outputs": []
    },
    {
      "cell_type": "code",
      "metadata": {
        "id": "dTwipG4_6_89"
      },
      "source": [
        "for i in range(len(extracted_rpeaks)):\n",
        "    signal, r_peaks, heart_rates = (extracted_rpeaks[i][0],extracted_rpeaks[i][1],extracted_rpeaks[i][2])\n",
        "    if (i%500==0):\n",
        "      print(f\"processing point {i}\")\n",
        "    if len(r_peaks) >= 5:\n",
        "        #print(ecg.extract_heartbeats(signal, r_peaks, 300))\n",
        "        beats = ecg.extract_heartbeats(signal, r_peaks, 300,before=0.45,after=0.45)['templates']\n",
        "        if len(beats) != 0:\n",
        "            r_diffs = np.diff(r_peaks)\n",
        "            mu = np.mean(beats, axis=0)[0::10] \n",
        "            mini = np.amin(beats, axis=0)[0::10] \n",
        "            maxa = np.amax(beats, axis=0)[0::10]  \n",
        "            var = np.std(beats, axis=0)[0::10] \n",
        "            med = np.median(beats, axis=0)[0::10]\n",
        "            r_mu = np.mean(r_diffs)\n",
        "            r_mini = np.amin(r_diffs) \n",
        "            r_maxa = np.amax(r_diffs)  \n",
        "            r_var = np.std(r_diffs)\n",
        "            r_med = np.median(r_diffs)\n",
        "            r_kurtosis= scipy.stats.kurtosis(r_diffs)\n",
        "            r_skew = scipy.stats.skew(r_diffs)\n",
        "            r_20 = np.percentile(r_diffs,20)\n",
        "            r_40 = np.percentile(r_diffs,40)\n",
        "            r_60 = np.percentile(r_diffs,60)\n",
        "            r_80 = np.percentile(r_diffs,80)\n",
        "            r_hist = np.histogram(r_diffs,bins=14)[1]\n",
        "            smentropy = ant.sample_entropy(mu)\n",
        "            appentropy = ant.app_entropy(mu)\n",
        "\n",
        "            r_diffs_diffs = np.diff(r_diffs)\n",
        "            r_diffs_mu = np.mean(r_diffs_diffs)\n",
        "            r_diffs_maxa = np.amax(r_diffs_diffs)\n",
        "            r_diffs_mini = np.amin(r_diffs_diffs)\n",
        "            r_diffs_var = np.std(r_diffs_diffs)\n",
        "            r_diffs_med = np.median(r_diffs_diffs)\n",
        "            kurtosis= scipy.stats.kurtosis(signal)\n",
        "            skew = scipy.stats.skew(signal)\n",
        "            r_diffs_25 = np.percentile(r_diffs_diffs,25)\n",
        "            r_diffs_75 = np.percentile(r_diffs_diffs,75)\n",
        "            nn_50 = len(r_diffs_diffs[r_diffs_diffs>15]) / len(r_diffs_diffs)\n",
        "            nn_20 = len(r_diffs_diffs[r_diffs_diffs>6]) / len(r_diffs_diffs)\n",
        "            c = np.mean(sorted(heart_rates[:-2]))*len(signal)/18000\n",
        "            rat = np.abs((len(r_peaks)/c)-1)\n",
        "            cv_rr = r_var/r_mu\n",
        "            cv_drr = r_diffs_var/r_mu\n",
        "            r_diffs_hist = np.histogram(r_diffs_diffs,bins=14)[1]\n",
        "\n",
        "            r_diffs_diffs_2 = np.diff(r_diffs_diffs)\n",
        "            r_diffs2_mu = np.mean(r_diffs_diffs_2)\n",
        "            r_diffs2_maxa = np.amax(r_diffs_diffs_2)\n",
        "            r_diffs2_mini = np.amin(r_diffs_diffs_2)\n",
        "            r_diffs2_var = np.std(r_diffs_diffs_2)\n",
        "            r_diffs2_med = np.median(r_diffs_diffs_2)\n",
        "            r_diffs2 = np.array([r_diffs_mu,r_diffs_maxa,r_diffs_mini,r_diffs_var,r_diffs_med])\n",
        "            r_diffs_2_hist = np.histogram(r_diffs_diffs_2,bins=14)[1]\n",
        "\n",
        "            abla, lospowers = scipy.signal.welch(signal, 300, 'flattop', 1024, scaling='spectrum')\n",
        "            #heart rate stats\n",
        "            if len(heart_rates)>0:\n",
        "              hr_mu = np.mean(heart_rates)\n",
        "              hr_maxa = np.amax(heart_rates)\n",
        "              hr_mini = np.amin(heart_rates)\n",
        "              hr_var = np.std(heart_rates)\n",
        "              hr_med = np.median(heart_rates)\n",
        "            else:\n",
        "              hr_mu = np.nan\n",
        "              hr_maxa = np.nan\n",
        "              hr_mini = np.nan\n",
        "              hr_var = np.nan\n",
        "              hr_med = np.nan\n",
        "            r_stats = np.array([r_mu,r_var,r_mini,r_maxa,r_med,r_diffs_mu,r_diffs_maxa,r_diffs_mini,r_diffs_var,r_diffs_med, r_diffs_25, r_diffs_75,hr_mu,hr_maxa,hr_mini,hr_var,hr_med,nn_50,nn_20,smentropy,appentropy,rat,cv_rr,cv_drr,r_skew,r_kurtosis,skew,kurtosis,r_20,r_40,r_60,r_80])\n",
        "            r_stats = np.concatenate((r_stats,r_diffs2,lospowers[0:10],lospowers[10::10],r_hist,r_diffs_hist,r_diffs_2_hist))\n",
        "            #HRV STATS\n",
        "\n",
        "            r_peaks_s = r_peaks/300\n",
        "            a = welch_psd(rpeaks=r_peaks_s, fbands = fbands, show=False, show_param=False, legend=False)#, fbands=None)\n",
        "            hrv_stats = np.concatenate((a[\"fft_peak\"],a[\"fft_abs\"],np.array([a[\"fft_ratio\"]])))\n",
        "\n",
        "            extracted_features_l[i] = np.array(np.concatenate((mu,var,mini,maxa,med,r_stats,hrv_stats)))\n",
        "    else:  \n",
        "        print(f\"Inappropriate input encountered: len(r_peaks) = {len(r_peaks)}, len(signal)={len(signal)} index is {i}\")\n",
        "        extracted_features_l[i]=np.ones(5*27+5*4+2+2+2+2*4+1+1+61+10+45) #np.array([np.ones(18),np.ones(18),np.ones(18),np.ones(18)])"
      ],
      "execution_count": null,
      "outputs": []
    },
    {
      "cell_type": "code",
      "metadata": {
        "id": "LPFAWOZw6F27",
        "cellView": "form"
      },
      "source": [
        "#@title My title\n",
        "# for i in range(len(extracted_rpeaks)):\n",
        "\n",
        "#     signal = signal[~np.isnan(signal)] #drop nans\n",
        "#     r_peaks = ecg.engzee_segmenter(signal, 300)['rpeaks'] #300 is the sampling rate afaik\n",
        "#     # print(r_peaks)\n",
        "\n",
        "#     if len(r_peaks) >= 5:\n",
        "#         #print(ecg.extract_heartbeats(signal, r_peaks, 300))\n",
        "#         beats = ecg.extract_heartbeats(signal, r_peaks, 300)['templates']\n",
        "#         if len(beats) != 0:\n",
        "#             r_diffs = np.diff(r_peaks)\n",
        "#             mu = np.mean(beats, axis=0)[0::10] \n",
        "#             mini = np.amin(beats, axis=0)[0::10] \n",
        "#             maxa = np.amax(beats, axis=0)[0::10]  \n",
        "#             var = np.std(beats, axis=0)[0::10] \n",
        "#             r_mean = np.mean(r_diffs)\n",
        "#             r_mini = np.amin(r_diffs) \n",
        "#             r_maxa = np.amax(r_diffs)  \n",
        "#             r_var = np.std(r_peaks)\n",
        "#             r_med = np.median(r_peaks)\n",
        "#             # md = np.median(beats, axis=0)\n",
        "#             r_stats = np.array([r_mean,r_mini,r_maxa,r_var,r_med])\n",
        "\n",
        "#             #HRV STATS\n",
        "#             r_peaks_s = r_peaks/300\n",
        "#             a = welch_psd(rpeaks=r_peaks_s, show=False, show_param=False, legend=False)#, fbands=None)\n",
        "#             hrv_stats = np.concatenate((a[\"fft_peak\"],a[\"fft_rel\"],a[\"fft_abs\"],a[\"fft_log\"]))\n",
        "#             return np.array(np.concatenate((mu,var,mini,maxa,r_stats,hrv_stats)))\n",
        "#         print(f\"Inappropriate input encountered: len(r_peaks) was >=5 but len(beats)=0 => peaks = {len(r_peaks)}, len(beats)={len(beats)}, signal length ={len(signal)}\")\n",
        "#     print(f\"Inappropriate input encountered: len(r_peaks) was <5 => peaks = {len(r_peaks)}, signal length ={len(signal)}\")\n",
        "#     return np.ones(4*18+5+4*3) #np.array([np.ones(18),np.ones(18),np.ones(18),np.ones(18)])"
      ],
      "execution_count": null,
      "outputs": []
    },
    {
      "cell_type": "code",
      "metadata": {
        "id": "l8JChKmUKbDa"
      },
      "source": [
        ""
      ],
      "execution_count": null,
      "outputs": []
    },
    {
      "cell_type": "code",
      "metadata": {
        "id": "5_UcdNyBJ6GJ"
      },
      "source": [
        "for i in range(len(extracted_rpeaks)):\n",
        "    signal, r_peaks, heart_rates = (extracted_rpeaks[i][0],extracted_rpeaks[i][1],extracted_rpeaks[i][2])\n",
        "    if (i%500==0):\n",
        "      print(f\"processing point {i}\")\n",
        "    signal"
      ],
      "execution_count": null,
      "outputs": []
    },
    {
      "cell_type": "code",
      "metadata": {
        "id": "wgvWqyYTmMVQ"
      },
      "source": [
        "# extracted_features = np.apply_along_axis(extract_features, 1, X_train)"
      ],
      "execution_count": null,
      "outputs": []
    },
    {
      "cell_type": "code",
      "metadata": {
        "id": "kEu9x2hH1zn5"
      },
      "source": [
        "bool_extracted = (extracted_features_l == np.array(np.ones(5*27+5*4+2+2+2+2*4+1+1+61+10+45))).all(axis=1)"
      ],
      "execution_count": 48,
      "outputs": []
    },
    {
      "cell_type": "code",
      "metadata": {
        "colab": {
          "base_uri": "https://localhost:8080/"
        },
        "id": "od4zeoGt2OP4",
        "outputId": "d62673b2-f845-4815-a0b8-99718350922a"
      },
      "source": [
        "bool_extracted"
      ],
      "execution_count": 49,
      "outputs": [
        {
          "output_type": "execute_result",
          "data": {
            "text/plain": [
              "array([False, False, False, ..., False, False, False])"
            ]
          },
          "metadata": {},
          "execution_count": 49
        }
      ]
    },
    {
      "cell_type": "code",
      "metadata": {
        "id": "yDDX8uXtx7Qm"
      },
      "source": [
        "extracted_features_valid = extracted_features_l[~bool_extracted]"
      ],
      "execution_count": 50,
      "outputs": []
    },
    {
      "cell_type": "code",
      "metadata": {
        "colab": {
          "base_uri": "https://localhost:8080/"
        },
        "id": "g9VMVjnE4nnd",
        "outputId": "6928f49f-1708-48fd-9ef8-24171fc42def"
      },
      "source": [
        "extracted_features_valid.shape"
      ],
      "execution_count": 51,
      "outputs": [
        {
          "output_type": "execute_result",
          "data": {
            "text/plain": [
              "(5117, 287)"
            ]
          },
          "metadata": {},
          "execution_count": 51
        }
      ]
    },
    {
      "cell_type": "code",
      "metadata": {
        "id": "x06DmrDY4-Ou"
      },
      "source": [
        "extracted_features_collapsed = extracted_features_valid#np.concatenate(np.stack(extracted_features_valid,axis=1),axis=1)\n",
        "labels_collapsed = y_train[~bool_extracted]"
      ],
      "execution_count": 52,
      "outputs": []
    },
    {
      "cell_type": "code",
      "metadata": {
        "colab": {
          "base_uri": "https://localhost:8080/"
        },
        "id": "JrUplHu17nL8",
        "outputId": "ed2482ad-d156-40e0-df03-d5c22912c0f2"
      },
      "source": [
        "extracted_features_collapsed.shape"
      ],
      "execution_count": 53,
      "outputs": [
        {
          "output_type": "execute_result",
          "data": {
            "text/plain": [
              "(5117, 287)"
            ]
          },
          "metadata": {},
          "execution_count": 53
        }
      ]
    },
    {
      "cell_type": "code",
      "metadata": {
        "id": "DS-Gq44vmp79"
      },
      "source": [
        "# #check if all inappropriate ones are noise:\n",
        "# hopefully_noise_3 = y_train[bool_extracted]\n",
        "# hopefully_noise_3"
      ],
      "execution_count": null,
      "outputs": []
    },
    {
      "cell_type": "markdown",
      "metadata": {
        "id": "WO_rakKYK0mn"
      },
      "source": [
        "------------------------------------------------------Classification------------------------------------------------"
      ]
    },
    {
      "cell_type": "code",
      "metadata": {
        "id": "pYLjPeWj8cLh"
      },
      "source": [
        "#Training-val split\n",
        "extracted_features_collapsed_a = extracted_features_collapsed[:4660]\n",
        "labels_collapsed_a = labels_collapsed[:4660]\n",
        "extracted_features_collapsed_b = extracted_features_collapsed[4660:]\n",
        "labels_collapsed_b = labels_collapsed[4660:]"
      ],
      "execution_count": 55,
      "outputs": []
    },
    {
      "cell_type": "code",
      "metadata": {
        "id": "lRsMj58N8H8d"
      },
      "source": [
        "from sklearn.ensemble import GradientBoostingClassifier\n",
        "from sklearn.neural_network import MLPClassifier\n",
        "from sklearn.utils.class_weight import compute_sample_weight"
      ],
      "execution_count": 29,
      "outputs": []
    },
    {
      "cell_type": "code",
      "metadata": {
        "colab": {
          "base_uri": "https://localhost:8080/"
        },
        "id": "KAkpNxqXe3e6",
        "outputId": "36a934fb-781d-4608-e7e7-92ecf9931502"
      },
      "source": [
        "#Weigh examples\n",
        "weighted_labels = compute_sample_weight( class_weight= \"balanced\" , y =labels_collapsed)\n",
        "weighted_labels "
      ],
      "execution_count": 56,
      "outputs": [
        {
          "output_type": "execute_result",
          "data": {
            "text/plain": [
              "array([0.42219472, 0.42219472, 0.42219472, ..., 0.42219472, 0.42219472,\n",
              "       0.86787653])"
            ]
          },
          "metadata": {},
          "execution_count": 56
        }
      ]
    },
    {
      "cell_type": "code",
      "metadata": {
        "id": "elXVSr5l-LTL",
        "cellView": "form"
      },
      "source": [
        "#@title hide pls\n",
        "# !pip install pytorch-tabnet\n",
        "# from pytorch_tabnet.tab_model import TabNetClassifier, TabNetRegressor\n",
        "# tab = TabNetClassifier(n_d=24,n_a=24)  #TabNetRegressor()\n",
        "# tab.fit(extracted_features_collapsed_a[:4300], labels_collapsed_a[:4300],eval_set=[(extracted_features_collapsed_a[4300:], labels_collapsed_a[4300:])],patience=150, max_epochs=1000)\n",
        "# np.sum(labels_collapsed_b == tab.predict(extracted_features_collapsed_b))/len(labels_collapsed_b)\n",
        "# #got 0.723, and it even didnt train on the last 300 datapoints"
      ],
      "execution_count": null,
      "outputs": []
    },
    {
      "cell_type": "code",
      "metadata": {
        "id": "TcmPzuct_F7f"
      },
      "source": [
        "# weighted_labels[labels_collapsed==0] *=0.8\n",
        "# weighted_labels[labels_collapsed==1] *=1.2\n",
        "# weighted_labels[labels_collapsed==2] *=1.2\n",
        "# weighted_labels[labels_collapsed==3] *=1.5\n",
        "# weighted_labels[labels_collapsed==0] *=0.7\n",
        "# weighted_labels[labels_collapsed==1] *=1.4\n",
        "# weighted_labels[labels_collapsed==2] *=1.4\n",
        "# weighted_labels[labels_collapsed==3] *=1.7"
      ],
      "execution_count": null,
      "outputs": []
    },
    {
      "cell_type": "code",
      "metadata": {
        "id": "gJg12-A0yDWX",
        "colab": {
          "base_uri": "https://localhost:8080/"
        },
        "outputId": "03c13026-7e29-4e86-c480-828060a955ae"
      },
      "source": [
        "!pip install lightgbm"
      ],
      "execution_count": 32,
      "outputs": [
        {
          "output_type": "stream",
          "name": "stdout",
          "text": [
            "Requirement already satisfied: lightgbm in /usr/local/lib/python3.7/dist-packages (2.2.3)\n",
            "Requirement already satisfied: scikit-learn in /usr/local/lib/python3.7/dist-packages (from lightgbm) (1.0.1)\n",
            "Requirement already satisfied: scipy in /usr/local/lib/python3.7/dist-packages (from lightgbm) (1.4.1)\n",
            "Requirement already satisfied: numpy in /usr/local/lib/python3.7/dist-packages (from lightgbm) (1.19.5)\n",
            "Requirement already satisfied: joblib>=0.11 in /usr/local/lib/python3.7/dist-packages (from scikit-learn->lightgbm) (1.1.0)\n",
            "Requirement already satisfied: threadpoolctl>=2.0.0 in /usr/local/lib/python3.7/dist-packages (from scikit-learn->lightgbm) (3.0.0)\n"
          ]
        }
      ]
    },
    {
      "cell_type": "code",
      "metadata": {
        "id": "Ii82xSlKyRI8"
      },
      "source": [
        "from lightgbm import LGBMClassifier"
      ],
      "execution_count": 33,
      "outputs": []
    },
    {
      "cell_type": "code",
      "metadata": {
        "colab": {
          "base_uri": "https://localhost:8080/"
        },
        "id": "9swaatobySIG",
        "outputId": "4b9c20a5-5f18-4d4c-d9f9-0b66328d82ad"
      },
      "source": [
        "lgb = LGBMClassifier(n_estimators=1500, min_child_weight=3, num_leaves=20 ,learning_rate=0.1, max_depth=10, random_state=0, reg_lambda=5)\n",
        "lgb.fit(extracted_features_collapsed_a, labels_collapsed_a, weighted_labels[:4660])\n",
        "np.sum(labels_collapsed_b == lgb.predict(extracted_features_collapsed_b))/len(labels_collapsed_b)\n",
        "#851"
      ],
      "execution_count": 57,
      "outputs": [
        {
          "output_type": "execute_result",
          "data": {
            "text/plain": [
              "0.8643326039387309"
            ]
          },
          "metadata": {},
          "execution_count": 57
        }
      ]
    },
    {
      "cell_type": "code",
      "metadata": {
        "id": "omjxLCjSioLm"
      },
      "source": [
        "importances = lgb.feature_importances_"
      ],
      "execution_count": 235,
      "outputs": []
    },
    {
      "cell_type": "code",
      "metadata": {
        "id": "S319PGxSL2Bb"
      },
      "source": [
        "extracted_pruned =  extracted_features_collapsed[:,importances>sorted(importances)[10]]\n",
        "extracted_pruned_a = extracted_pruned[:4660]\n",
        "extracted_pruned_b =  extracted_pruned[4660:]"
      ],
      "execution_count": 255,
      "outputs": []
    },
    {
      "cell_type": "code",
      "metadata": {
        "colab": {
          "base_uri": "https://localhost:8080/"
        },
        "id": "LX5G-Np2Mhs2",
        "outputId": "a32185c0-46c9-4356-9282-7aef37ce7341"
      },
      "source": [
        "sorted(importances)[10]"
      ],
      "execution_count": 254,
      "outputs": [
        {
          "output_type": "execute_result",
          "data": {
            "text/plain": [
              "29"
            ]
          },
          "metadata": {},
          "execution_count": 254
        }
      ]
    },
    {
      "cell_type": "code",
      "metadata": {
        "colab": {
          "base_uri": "https://localhost:8080/"
        },
        "id": "UN91qv50MVIW",
        "outputId": "115962cb-8e0a-45c0-e897-d5004c393592"
      },
      "source": [
        "lgb_pru = LGBMClassifier(n_estimators=1500, min_child_weight=3, learning_rate=0.1, max_depth=10, random_state=0)\n",
        "lgb_pru.fit(extracted_pruned_a, labels_collapsed_a, weighted_labels[:4660])\n",
        "np.sum(labels_collapsed_b == lgb_pru.predict(extracted_pruned_b))/len(labels_collapsed_b)"
      ],
      "execution_count": 257,
      "outputs": [
        {
          "output_type": "execute_result",
          "data": {
            "text/plain": [
              "0.8358862144420132"
            ]
          },
          "metadata": {},
          "execution_count": 257
        }
      ]
    },
    {
      "cell_type": "code",
      "metadata": {
        "colab": {
          "base_uri": "https://localhost:8080/"
        },
        "id": "8MB_oQWrbqny",
        "outputId": "1b13a4f7-3158-47df-a88b-31109632dabd"
      },
      "source": [
        "a = lgb3.predict(extracted_features_collapsed_b)==lgb.predict(extracted_features_collapsed_b)\n",
        "len(a[a==True])"
      ],
      "execution_count": null,
      "outputs": [
        {
          "output_type": "execute_result",
          "data": {
            "text/plain": [
              "385"
            ]
          },
          "metadata": {},
          "execution_count": 102
        }
      ]
    },
    {
      "cell_type": "code",
      "metadata": {
        "id": "VhL5UsXbXqkQ"
      },
      "source": [
        "#@title best settings so far\n",
        "# lgb = LGBMClassifier(n_estimators=1500, min_child_weight=3, learning_rate=0.1, max_depth=10, random_state=0, reg_lambda=5)\n",
        "# lgb.fit(extracted_features_collapsed_a, labels_collapsed_a, weighted_labels[:4660])\n",
        "# np.sum(labels_collapsed_b == lgb.predict(extracted_features_collapsed_b))/len(labels_collapsed_b)\n",
        "#851"
      ],
      "execution_count": 35,
      "outputs": []
    },
    {
      "cell_type": "code",
      "metadata": {
        "id": "hykzbliT1fi-"
      },
      "source": [
        "pred = lgb.predict(extracted_features_collapsed_b)\n",
        "tot = 0\n",
        "count0=0\n",
        "count1=0\n",
        "count2=0\n",
        "count3=0\n",
        "\n",
        "for i in range(5117-4660):\n",
        "  signal, r_peaks, heart_rates = (extracted_rpeaks[i+4660][0],extracted_rpeaks[i+4660][1],extracted_rpeaks[i+4660][2])\n",
        "  if pred[i]!=labels_collapsed_b[i]:\n",
        "    print(f\"actual label is {labels_collapsed_b[i]} predicted is {pred[i]}\")\n",
        "    if labels_collapsed_b[i]==0:\n",
        "      count0+=1\n",
        "    if labels_collapsed_b[i]==1:\n",
        "      count1+=1\n",
        "    if labels_collapsed_b[i]==2:\n",
        "      count2+=1\n",
        "    if labels_collapsed_b[i]==3:\n",
        "      count3+=1\n",
        "# i=0\n",
        "# if labels_collapsed_b[i]==0:\n",
        "# signal, r_peaks, heart_rates = (extracted_rpeaks[i+4660][0],extracted_rpeaks[i+4660][1],extracted_rpeaks[i+4660][2])\n",
        "# if pred[i]!=labels_collapsed_b[i]:\n",
        "#   print(f\"actual label is {labels_collapsed_b[i]} predicted is {pred[i]}\")\n",
        "#   plt.plot"
      ],
      "execution_count": null,
      "outputs": []
    },
    {
      "cell_type": "code",
      "metadata": {
        "colab": {
          "base_uri": "https://localhost:8080/"
        },
        "id": "_p6o7rtUzHrp",
        "outputId": "4d6f2044-90b9-4d28-849f-d8230367d644"
      },
      "source": [
        "# lgb = LGBMClassifier(n_estimators=2000, min_child_weight=3, learning_rate=0.1, max_depth=10, random_state=0, reg_lambda=0.5)\n",
        "# lgb.fit(extracted_features_collapsed, labels_collapsed, weighted_labels)\n",
        "# np.sum(labels_collapsed == lgb.predict(extracted_features_collapsed))/len(labels_collapsed)\n",
        "lgb = LGBMClassifier(n_estimators=1500, min_child_weight=3, num_leaves=20 ,learning_rate=0.1, max_depth=10, random_state=0, reg_lambda=5)\n",
        "lgb.fit(extracted_features_collapsed, labels_collapsed, weighted_labels)\n",
        "np.sum(labels_collapsed == lgb.predict(extracted_features_collapsed))/len(labels_collapsed)\n",
        "#851"
      ],
      "execution_count": 64,
      "outputs": [
        {
          "output_type": "execute_result",
          "data": {
            "text/plain": [
              "1.0"
            ]
          },
          "metadata": {},
          "execution_count": 64
        }
      ]
    },
    {
      "cell_type": "code",
      "metadata": {
        "colab": {
          "base_uri": "https://localhost:8080/"
        },
        "id": "nTeVMNBz3TvJ",
        "outputId": "f02cd09d-28e9-4c2c-9854-ae10c4731e32"
      },
      "source": [
        "!pip install xgboost\n",
        "from xgboost import XGBClassifier"
      ],
      "execution_count": null,
      "outputs": [
        {
          "output_type": "stream",
          "name": "stdout",
          "text": [
            "Requirement already satisfied: xgboost in /usr/local/lib/python3.7/dist-packages (0.90)\n",
            "Requirement already satisfied: numpy in /usr/local/lib/python3.7/dist-packages (from xgboost) (1.19.5)\n",
            "Requirement already satisfied: scipy in /usr/local/lib/python3.7/dist-packages (from xgboost) (1.4.1)\n"
          ]
        }
      ]
    },
    {
      "cell_type": "code",
      "metadata": {
        "colab": {
          "base_uri": "https://localhost:8080/"
        },
        "id": "kQkVMcBt3Wb3",
        "outputId": "2f669b94-9be5-445f-ef03-02430ff20478"
      },
      "source": [
        "xgb = XGBClassifier(n_estimators=1250, min_child_weight=3, learning_rate=0.145, max_depth=9, random_state=0)\n",
        "xgb.fit(extracted_features_collapsed_a, labels_collapsed_a, weighted_labels[:4660])\n",
        "np.sum(labels_collapsed_b == xgb.predict(extracted_features_collapsed_b))/len(labels_collapsed_b)"
      ],
      "execution_count": null,
      "outputs": [
        {
          "output_type": "execute_result",
          "data": {
            "text/plain": [
              "0.838074398249453"
            ]
          },
          "metadata": {},
          "execution_count": 199
        }
      ]
    },
    {
      "cell_type": "code",
      "metadata": {
        "id": "4CDMB1yYxsYf"
      },
      "source": [
        "xgb = XGBClassifier(n_estimators=1250, min_child_weight=3, learning_rate=0.1, max_depth=9, random_state=0)\n",
        "xgb.fit(extracted_features_collapsed, labels_collapsed, weighted_labels)\n",
        "np.sum(labels_collapsed == xgb.predict(extracted_features_collapsed))/len(labels_collapsed)"
      ],
      "execution_count": null,
      "outputs": []
    },
    {
      "cell_type": "code",
      "metadata": {
        "colab": {
          "base_uri": "https://localhost:8080/"
        },
        "id": "2h6amC8Ntq3W",
        "outputId": "dc60f622-b0ef-4071-ec90-2a48d6a2cafd"
      },
      "source": [
        "np.sum(labels_collapsed_a == xgb.predict(extracted_features_collapsed_a))/len(labels_collapsed_a)"
      ],
      "execution_count": null,
      "outputs": [
        {
          "output_type": "execute_result",
          "data": {
            "text/plain": [
              "1.0"
            ]
          },
          "metadata": {},
          "execution_count": 34
        }
      ]
    },
    {
      "cell_type": "markdown",
      "metadata": {
        "id": "YZV--1VnFEbU"
      },
      "source": [
        "----------------------------------NN APPROACH---------------------------"
      ]
    },
    {
      "cell_type": "code",
      "metadata": {
        "id": "PEZXOousKMfh"
      },
      "source": [
        "from sklearn.neural_network import MLPClassifier"
      ],
      "execution_count": 201,
      "outputs": []
    },
    {
      "cell_type": "code",
      "metadata": {
        "colab": {
          "base_uri": "https://localhost:8080/"
        },
        "id": "kYf0TpETKeLF",
        "outputId": "67f7070a-e270-471e-fcd4-204eddc2de5b"
      },
      "source": [
        "extracted_features_collapsed -> 147,148,149,150,151,154,156,286"
      ],
      "execution_count": 209,
      "outputs": [
        {
          "output_type": "execute_result",
          "data": {
            "text/plain": [
              "True"
            ]
          },
          "metadata": {},
          "execution_count": 209
        }
      ]
    },
    {
      "cell_type": "code",
      "metadata": {
        "id": "QoZtrDJ1QDv3"
      },
      "source": [
        "#remove nan columns\n",
        "extracted_features_nonan = np.concatenate((extracted_features_collapsed[:,:147],extracted_features_collapsed[:,152:154],extracted_features_collapsed[:,155][:,np.newaxis],extracted_features_collapsed[:,157:286]),axis=1)"
      ],
      "execution_count": 315,
      "outputs": []
    },
    {
      "cell_type": "code",
      "metadata": {
        "colab": {
          "base_uri": "https://localhost:8080/"
        },
        "id": "ILxDGwJGKz2A",
        "outputId": "4b4641ac-805f-41e7-8de7-eeba387ce1c9"
      },
      "source": [
        "np.isnan(extracted_features_nonan).any()"
      ],
      "execution_count": 316,
      "outputs": [
        {
          "output_type": "execute_result",
          "data": {
            "text/plain": [
              "False"
            ]
          },
          "metadata": {},
          "execution_count": 316
        }
      ]
    },
    {
      "cell_type": "code",
      "metadata": {
        "id": "LMuAA_KNKP7p"
      },
      "source": [
        "from sklearn.pipeline import make_pipeline\n",
        "from sklearn.preprocessing import StandardScaler\n",
        "mlp = make_pipeline(StandardScaler(),MLPClassifier(hidden_layer_sizes=(256, 128, 64), max_iter=1000, alpha=2, verbose=True, solver=\"adam\", learning_rate_init= 0.0005, learning_rate=\"adaptive\", batch_size=512, n_iter_no_change=300))\n",
        "mlp.fit(extracted_features_nonan[:4660], labels_collapsed_a)\n",
        "np.sum(labels_collapsed_b == mlp.predict(extracted_features_nonan[4660:]))/len(labels_collapsed_b)\n",
        "#825"
      ],
      "execution_count": null,
      "outputs": []
    },
    {
      "cell_type": "code",
      "metadata": {
        "id": "PJfJHDq5RPe8"
      },
      "source": [
        "from sklearn.pipeline import make_pipeline\n",
        "from sklearn.preprocessing import StandardScaler\n",
        "from sklearn.svm import SVC\n",
        "svc = make_pipeline(StandardScaler(), SVC(gamma='auto', C=5.5))\n",
        "svc.fit(extracted_features_nonan[:4660], labels_collapsed_a)\n",
        "np.sum(labels_collapsed_b == svc.predict(extracted_features_nonan[4660:]))/len(labels_collapsed_b)\n",
        "#8.27"
      ],
      "execution_count": null,
      "outputs": []
    },
    {
      "cell_type": "code",
      "metadata": {
        "id": "s0iXPXduSbnS"
      },
      "source": [
        "import keras\n",
        "from keras.models import Sequential\n",
        "from keras.layers import Dense, Dropout, Activation\n",
        "from keras.optimizers import SGD"
      ],
      "execution_count": null,
      "outputs": []
    },
    {
      "cell_type": "code",
      "metadata": {
        "id": "cfyukWSAT5ND"
      },
      "source": [
        "from keras.wrappers.scikit_learn import KerasClassifier"
      ],
      "execution_count": null,
      "outputs": []
    },
    {
      "cell_type": "code",
      "metadata": {
        "id": "yj12YFUPUFX7"
      },
      "source": [
        "def twoLayerFeedForward():\n",
        "    clf = Sequential()\n",
        "    clf.add(Dense(9, activation='relu', input_dim=3))\n",
        "    clf.add(Dense(9, activation='relu'))\n",
        "    clf.add(Dense(3, activation='softmax'))\n",
        "    clf.compile(loss='categorical_crossentropy', optimizer=SGD(), metrics=[\"accuracy\"])\n",
        "    return clf"
      ],
      "execution_count": null,
      "outputs": []
    },
    {
      "cell_type": "markdown",
      "metadata": {
        "id": "sggpf2N9T6V3"
      },
      "source": [
        "----------------------------SKORCH NNs AHEAD-------------------------"
      ]
    },
    {
      "cell_type": "code",
      "metadata": {
        "id": "BO0WjIk5FDjH"
      },
      "source": [
        "import torch as torch\n",
        "from torch.nn import Linear, Dropout, Module\n",
        "from torch.utils.data import TensorDataset, DataLoader\n",
        "import torch.nn.functional as F\n",
        "\n",
        "from sklearn.preprocessing import MinMaxScaler"
      ],
      "execution_count": 338,
      "outputs": []
    },
    {
      "cell_type": "code",
      "metadata": {
        "id": "C2VH6ePIUy4_"
      },
      "source": [
        "class NeuralNet(Module):\n",
        "    def __init__(self, num_units=10, dropout=0.1):\n",
        "        super(NeuralNet, self).__init__()\n",
        "        self.num_units = num_units\n",
        "        self.linear_1 = Linear(279, 512)\n",
        "        self.dropout = Dropout(0.2)\n",
        "        self.linear_2 = Linear(512, 256)\n",
        "        self.dropout = Dropout(0.2)\n",
        "        self.linear_3 = Linear(256, 128)\n",
        "        \n",
        "        self.dropout = Dropout(0.1)\n",
        "        self.linear_4 = Linear(128, 64)\n",
        "        self.dropout = Dropout(0.1)\n",
        "        self.linear_5 = Linear(64, 4)\n",
        "\n",
        "\n",
        "    def forward(self, x):\n",
        "\n",
        "        x = self.linear_1(x)\n",
        "        x = F.relu(x)\n",
        "        x = self.linear_2(x)\n",
        "        x = F.relu(x)\n",
        "        x = self.linear_3(x)\n",
        "\n",
        "        x = F.relu(x)\n",
        "        x = self.linear_4(x)\n",
        "        x = F.relu(x)\n",
        "        x = self.linear_5(x)\n",
        "        x = F.softmax(x, dim=-1)\n",
        "\n",
        "        return x"
      ],
      "execution_count": 395,
      "outputs": []
    },
    {
      "cell_type": "code",
      "metadata": {
        "id": "lshEE3IdVKzs"
      },
      "source": [
        "!pip install skorch"
      ],
      "execution_count": null,
      "outputs": []
    },
    {
      "cell_type": "code",
      "metadata": {
        "id": "cE568r1MVjnI"
      },
      "source": [
        "# Import SKORCH NN classifier\n",
        "from skorch import NeuralNetClassifier\n",
        "from torch import optim"
      ],
      "execution_count": 331,
      "outputs": []
    },
    {
      "cell_type": "code",
      "metadata": {
        "colab": {
          "base_uri": "https://localhost:8080/"
        },
        "id": "ci2M8NHKdAIH",
        "outputId": "80f37f93-0555-4e1a-9b13-15d74d3d4924"
      },
      "source": [
        "X_train[:,0::15].shape"
      ],
      "execution_count": 404,
      "outputs": [
        {
          "output_type": "execute_result",
          "data": {
            "text/plain": [
              "(5117, 1190)"
            ]
          },
          "metadata": {},
          "execution_count": 404
        }
      ]
    },
    {
      "cell_type": "code",
      "metadata": {
        "id": "5jM1SBgYUtZF"
      },
      "source": [
        "# The Neural Net is initialized with fixed hyperparameters\n",
        "nn = make_pipeline(StandardScaler(), NeuralNetClassifier(NeuralNet, max_epochs=250, lr=0.0001, optimizer__weight_decay=0.1, batch_size=512, optimizer=optim.Adam))\n",
        "# Training\n",
        "# nn.fit(self.x, self.y)"
      ],
      "execution_count": 400,
      "outputs": []
    },
    {
      "cell_type": "code",
      "metadata": {
        "colab": {
          "base_uri": "https://localhost:8080/"
        },
        "id": "d7jrHYT2Vnt1",
        "outputId": "16ce008a-8179-4a95-eb6c-fe02b53b9842"
      },
      "source": [
        "nn.fit(extracted_features_nonan[:4660].astype(np.float32), labels_collapsed_a.astype(np.int_))"
      ],
      "execution_count": 401,
      "outputs": [
        {
          "output_type": "stream",
          "name": "stdout",
          "text": [
            "  epoch    train_loss    valid_acc    valid_loss     dur\n",
            "-------  ------------  -----------  ------------  ------\n",
            "      1        \u001b[36m1.3844\u001b[0m       \u001b[32m0.2876\u001b[0m        \u001b[35m1.3813\u001b[0m  0.3855\n",
            "      2        \u001b[36m1.3794\u001b[0m       0.2876        \u001b[35m1.3764\u001b[0m  0.3901\n",
            "      3        \u001b[36m1.3747\u001b[0m       0.2876        \u001b[35m1.3717\u001b[0m  0.4098\n",
            "      4        \u001b[36m1.3701\u001b[0m       0.2876        \u001b[35m1.3671\u001b[0m  0.3840\n",
            "      5        \u001b[36m1.3655\u001b[0m       \u001b[32m0.2886\u001b[0m        \u001b[35m1.3623\u001b[0m  0.3949\n",
            "      6        \u001b[36m1.3608\u001b[0m       \u001b[32m0.2897\u001b[0m        \u001b[35m1.3574\u001b[0m  0.3917\n",
            "      7        \u001b[36m1.3558\u001b[0m       \u001b[32m0.2918\u001b[0m        \u001b[35m1.3522\u001b[0m  0.3788\n",
            "      8        \u001b[36m1.3505\u001b[0m       \u001b[32m0.2940\u001b[0m        \u001b[35m1.3465\u001b[0m  0.3884\n",
            "      9        \u001b[36m1.3448\u001b[0m       \u001b[32m0.2972\u001b[0m        \u001b[35m1.3404\u001b[0m  0.3941\n",
            "     10        \u001b[36m1.3385\u001b[0m       \u001b[32m0.3004\u001b[0m        \u001b[35m1.3336\u001b[0m  0.3880\n",
            "     11        \u001b[36m1.3315\u001b[0m       \u001b[32m0.3036\u001b[0m        \u001b[35m1.3259\u001b[0m  0.4058\n",
            "     12        \u001b[36m1.3237\u001b[0m       \u001b[32m0.3734\u001b[0m        \u001b[35m1.3173\u001b[0m  0.3875\n",
            "     13        \u001b[36m1.3147\u001b[0m       \u001b[32m0.5655\u001b[0m        \u001b[35m1.3073\u001b[0m  0.3849\n",
            "     14        \u001b[36m1.3044\u001b[0m       \u001b[32m0.6427\u001b[0m        \u001b[35m1.2956\u001b[0m  0.3899\n",
            "     15        \u001b[36m1.2923\u001b[0m       \u001b[32m0.6513\u001b[0m        \u001b[35m1.2819\u001b[0m  0.3891\n",
            "     16        \u001b[36m1.2779\u001b[0m       0.6341        \u001b[35m1.2653\u001b[0m  0.3899\n",
            "     17        \u001b[36m1.2605\u001b[0m       0.5976        \u001b[35m1.2451\u001b[0m  0.3882\n",
            "     18        \u001b[36m1.2391\u001b[0m       0.5933        \u001b[35m1.2200\u001b[0m  0.3889\n",
            "     19        \u001b[36m1.2125\u001b[0m       0.5923        \u001b[35m1.1887\u001b[0m  0.3871\n",
            "     20        \u001b[36m1.1795\u001b[0m       0.5923        \u001b[35m1.1502\u001b[0m  0.3848\n",
            "     21        \u001b[36m1.1395\u001b[0m       0.5923        \u001b[35m1.1050\u001b[0m  0.3856\n",
            "     22        \u001b[36m1.0939\u001b[0m       0.5923        \u001b[35m1.0561\u001b[0m  0.3816\n",
            "     23        \u001b[36m1.0466\u001b[0m       0.5923        \u001b[35m1.0101\u001b[0m  0.3828\n",
            "     24        \u001b[36m1.0047\u001b[0m       0.5923        \u001b[35m0.9741\u001b[0m  0.3748\n",
            "     25        \u001b[36m0.9731\u001b[0m       0.5923        \u001b[35m0.9500\u001b[0m  0.3924\n",
            "     26        \u001b[36m0.9520\u001b[0m       0.5923        \u001b[35m0.9349\u001b[0m  0.3881\n",
            "     27        \u001b[36m0.9380\u001b[0m       0.5933        \u001b[35m0.9249\u001b[0m  0.3912\n",
            "     28        \u001b[36m0.9282\u001b[0m       0.5998        \u001b[35m0.9175\u001b[0m  0.3845\n",
            "     29        \u001b[36m0.9202\u001b[0m       0.6030        \u001b[35m0.9109\u001b[0m  0.3894\n",
            "     30        \u001b[36m0.9131\u001b[0m       0.6052        \u001b[35m0.9048\u001b[0m  0.3816\n",
            "     31        \u001b[36m0.9065\u001b[0m       0.6073        \u001b[35m0.8993\u001b[0m  0.3840\n",
            "     32        \u001b[36m0.9005\u001b[0m       0.6094        \u001b[35m0.8943\u001b[0m  0.3823\n",
            "     33        \u001b[36m0.8952\u001b[0m       0.6094        \u001b[35m0.8899\u001b[0m  0.3823\n",
            "     34        \u001b[36m0.8905\u001b[0m       0.6094        \u001b[35m0.8860\u001b[0m  0.3807\n",
            "     35        \u001b[36m0.8862\u001b[0m       0.6094        \u001b[35m0.8824\u001b[0m  0.3699\n",
            "     36        \u001b[36m0.8822\u001b[0m       0.6105        \u001b[35m0.8790\u001b[0m  0.3840\n",
            "     37        \u001b[36m0.8785\u001b[0m       0.6116        \u001b[35m0.8759\u001b[0m  0.3850\n",
            "     38        \u001b[36m0.8751\u001b[0m       0.6094        \u001b[35m0.8730\u001b[0m  0.3982\n",
            "     39        \u001b[36m0.8720\u001b[0m       0.6094        \u001b[35m0.8703\u001b[0m  0.3888\n",
            "     40        \u001b[36m0.8690\u001b[0m       0.6084        \u001b[35m0.8677\u001b[0m  0.3897\n",
            "     41        \u001b[36m0.8662\u001b[0m       0.6084        \u001b[35m0.8653\u001b[0m  0.3975\n",
            "     42        \u001b[36m0.8636\u001b[0m       0.6073        \u001b[35m0.8630\u001b[0m  0.3936\n",
            "     43        \u001b[36m0.8612\u001b[0m       0.6073        \u001b[35m0.8609\u001b[0m  0.3912\n",
            "     44        \u001b[36m0.8589\u001b[0m       0.6073        \u001b[35m0.8588\u001b[0m  0.3889\n",
            "     45        \u001b[36m0.8567\u001b[0m       0.6073        \u001b[35m0.8569\u001b[0m  0.3860\n",
            "     46        \u001b[36m0.8546\u001b[0m       0.6094        \u001b[35m0.8551\u001b[0m  0.3808\n",
            "     47        \u001b[36m0.8526\u001b[0m       0.6094        \u001b[35m0.8533\u001b[0m  0.3820\n",
            "     48        \u001b[36m0.8507\u001b[0m       0.6094        \u001b[35m0.8516\u001b[0m  0.3827\n",
            "     49        \u001b[36m0.8489\u001b[0m       0.6094        \u001b[35m0.8500\u001b[0m  0.3823\n",
            "     50        \u001b[36m0.8472\u001b[0m       0.6094        \u001b[35m0.8485\u001b[0m  0.3915\n",
            "     51        \u001b[36m0.8456\u001b[0m       0.6094        \u001b[35m0.8470\u001b[0m  0.3819\n",
            "     52        \u001b[36m0.8440\u001b[0m       0.6105        \u001b[35m0.8456\u001b[0m  0.3868\n",
            "     53        \u001b[36m0.8426\u001b[0m       0.6116        \u001b[35m0.8443\u001b[0m  0.3837\n",
            "     54        \u001b[36m0.8411\u001b[0m       0.6105        \u001b[35m0.8430\u001b[0m  0.3908\n",
            "     55        \u001b[36m0.8398\u001b[0m       0.6116        \u001b[35m0.8418\u001b[0m  0.3908\n",
            "     56        \u001b[36m0.8384\u001b[0m       0.6116        \u001b[35m0.8405\u001b[0m  0.3802\n",
            "     57        \u001b[36m0.8372\u001b[0m       0.6116        \u001b[35m0.8394\u001b[0m  0.3875\n",
            "     58        \u001b[36m0.8359\u001b[0m       0.6116        \u001b[35m0.8383\u001b[0m  0.3862\n",
            "     59        \u001b[36m0.8348\u001b[0m       0.6116        \u001b[35m0.8372\u001b[0m  0.3854\n",
            "     60        \u001b[36m0.8336\u001b[0m       0.6116        \u001b[35m0.8362\u001b[0m  0.3883\n",
            "     61        \u001b[36m0.8326\u001b[0m       0.6127        \u001b[35m0.8352\u001b[0m  0.3681\n",
            "     62        \u001b[36m0.8315\u001b[0m       0.6137        \u001b[35m0.8343\u001b[0m  0.3830\n",
            "     63        \u001b[36m0.8305\u001b[0m       0.6148        \u001b[35m0.8334\u001b[0m  0.3950\n",
            "     64        \u001b[36m0.8295\u001b[0m       0.6148        \u001b[35m0.8325\u001b[0m  0.3858\n",
            "     65        \u001b[36m0.8286\u001b[0m       0.6148        \u001b[35m0.8316\u001b[0m  0.4060\n",
            "     66        \u001b[36m0.8277\u001b[0m       0.6148        \u001b[35m0.8308\u001b[0m  0.3871\n",
            "     67        \u001b[36m0.8268\u001b[0m       0.6137        \u001b[35m0.8300\u001b[0m  0.3969\n",
            "     68        \u001b[36m0.8260\u001b[0m       0.6137        \u001b[35m0.8293\u001b[0m  0.3826\n",
            "     69        \u001b[36m0.8252\u001b[0m       0.6148        \u001b[35m0.8285\u001b[0m  0.3798\n",
            "     70        \u001b[36m0.8244\u001b[0m       0.6170        \u001b[35m0.8278\u001b[0m  0.3872\n",
            "     71        \u001b[36m0.8236\u001b[0m       0.6170        \u001b[35m0.8271\u001b[0m  0.3845\n",
            "     72        \u001b[36m0.8228\u001b[0m       0.6170        \u001b[35m0.8264\u001b[0m  0.3806\n",
            "     73        \u001b[36m0.8221\u001b[0m       0.6170        \u001b[35m0.8257\u001b[0m  0.3906\n",
            "     74        \u001b[36m0.8214\u001b[0m       0.6170        \u001b[35m0.8251\u001b[0m  0.3816\n",
            "     75        \u001b[36m0.8207\u001b[0m       0.6180        \u001b[35m0.8245\u001b[0m  0.3737\n",
            "     76        \u001b[36m0.8201\u001b[0m       0.6180        \u001b[35m0.8239\u001b[0m  0.3503\n",
            "     77        \u001b[36m0.8194\u001b[0m       0.6180        \u001b[35m0.8233\u001b[0m  0.3909\n",
            "     78        \u001b[36m0.8188\u001b[0m       0.6170        \u001b[35m0.8227\u001b[0m  0.3861\n",
            "     79        \u001b[36m0.8182\u001b[0m       0.6170        \u001b[35m0.8221\u001b[0m  0.3886\n",
            "     80        \u001b[36m0.8176\u001b[0m       0.6180        \u001b[35m0.8216\u001b[0m  0.3821\n",
            "     81        \u001b[36m0.8170\u001b[0m       0.6180        \u001b[35m0.8210\u001b[0m  0.3872\n",
            "     82        \u001b[36m0.8164\u001b[0m       0.6180        \u001b[35m0.8205\u001b[0m  0.3716\n",
            "     83        \u001b[36m0.8158\u001b[0m       0.6180        \u001b[35m0.8200\u001b[0m  0.3894\n",
            "     84        \u001b[36m0.8153\u001b[0m       0.6180        \u001b[35m0.8195\u001b[0m  0.3904\n",
            "     85        \u001b[36m0.8148\u001b[0m       0.6202        \u001b[35m0.8190\u001b[0m  0.3832\n",
            "     86        \u001b[36m0.8142\u001b[0m       0.6202        \u001b[35m0.8185\u001b[0m  0.3915\n",
            "     87        \u001b[36m0.8137\u001b[0m       0.6202        \u001b[35m0.8180\u001b[0m  0.3787\n",
            "     88        \u001b[36m0.8132\u001b[0m       0.6212        \u001b[35m0.8176\u001b[0m  0.3801\n",
            "     89        \u001b[36m0.8127\u001b[0m       0.6212        \u001b[35m0.8172\u001b[0m  0.3875\n",
            "     90        \u001b[36m0.8123\u001b[0m       0.6212        \u001b[35m0.8167\u001b[0m  0.3833\n",
            "     91        \u001b[36m0.8118\u001b[0m       0.6212        \u001b[35m0.8163\u001b[0m  0.3899\n",
            "     92        \u001b[36m0.8114\u001b[0m       0.6212        \u001b[35m0.8159\u001b[0m  0.3783\n",
            "     93        \u001b[36m0.8109\u001b[0m       0.6212        \u001b[35m0.8155\u001b[0m  0.3911\n",
            "     94        \u001b[36m0.8105\u001b[0m       0.6212        \u001b[35m0.8151\u001b[0m  0.3795\n",
            "     95        \u001b[36m0.8101\u001b[0m       0.6223        \u001b[35m0.8147\u001b[0m  0.3721\n",
            "     96        \u001b[36m0.8097\u001b[0m       0.6223        \u001b[35m0.8143\u001b[0m  0.3829\n",
            "     97        \u001b[36m0.8093\u001b[0m       0.6212        \u001b[35m0.8140\u001b[0m  0.3801\n",
            "     98        \u001b[36m0.8089\u001b[0m       0.6212        \u001b[35m0.8136\u001b[0m  0.3782\n",
            "     99        \u001b[36m0.8085\u001b[0m       0.6245        \u001b[35m0.8133\u001b[0m  0.3874\n",
            "    100        \u001b[36m0.8081\u001b[0m       0.6266        \u001b[35m0.8129\u001b[0m  0.3777\n",
            "    101        \u001b[36m0.8077\u001b[0m       0.6266        \u001b[35m0.8126\u001b[0m  0.3788\n",
            "    102        \u001b[36m0.8074\u001b[0m       0.6255        \u001b[35m0.8123\u001b[0m  0.3741\n",
            "    103        \u001b[36m0.8070\u001b[0m       0.6266        \u001b[35m0.8119\u001b[0m  0.3772\n",
            "    104        \u001b[36m0.8066\u001b[0m       0.6277        \u001b[35m0.8116\u001b[0m  0.3937\n",
            "    105        \u001b[36m0.8063\u001b[0m       0.6277        \u001b[35m0.8113\u001b[0m  0.3828\n",
            "    106        \u001b[36m0.8059\u001b[0m       0.6288        \u001b[35m0.8110\u001b[0m  0.3821\n",
            "    107        \u001b[36m0.8056\u001b[0m       0.6288        \u001b[35m0.8107\u001b[0m  0.3967\n",
            "    108        \u001b[36m0.8053\u001b[0m       0.6288        \u001b[35m0.8104\u001b[0m  0.3826\n",
            "    109        \u001b[36m0.8049\u001b[0m       0.6298        \u001b[35m0.8101\u001b[0m  0.3900\n",
            "    110        \u001b[36m0.8046\u001b[0m       0.6288        \u001b[35m0.8098\u001b[0m  0.3811\n",
            "    111        \u001b[36m0.8043\u001b[0m       0.6288        \u001b[35m0.8095\u001b[0m  0.3850\n",
            "    112        \u001b[36m0.8040\u001b[0m       0.6288        \u001b[35m0.8092\u001b[0m  0.3940\n",
            "    113        \u001b[36m0.8037\u001b[0m       0.6288        \u001b[35m0.8090\u001b[0m  0.3826\n",
            "    114        \u001b[36m0.8034\u001b[0m       0.6288        \u001b[35m0.8087\u001b[0m  0.3663\n",
            "    115        \u001b[36m0.8031\u001b[0m       0.6309        \u001b[35m0.8085\u001b[0m  0.3791\n",
            "    116        \u001b[36m0.8028\u001b[0m       0.6309        \u001b[35m0.8082\u001b[0m  0.3856\n",
            "    117        \u001b[36m0.8025\u001b[0m       0.6298        \u001b[35m0.8080\u001b[0m  0.3842\n",
            "    118        \u001b[36m0.8022\u001b[0m       0.6298        \u001b[35m0.8077\u001b[0m  0.3768\n",
            "    119        \u001b[36m0.8020\u001b[0m       0.6309        \u001b[35m0.8075\u001b[0m  0.3943\n",
            "    120        \u001b[36m0.8017\u001b[0m       0.6309        \u001b[35m0.8073\u001b[0m  0.3930\n",
            "    121        \u001b[36m0.8015\u001b[0m       0.6320        \u001b[35m0.8071\u001b[0m  0.3920\n",
            "    122        \u001b[36m0.8012\u001b[0m       0.6298        \u001b[35m0.8068\u001b[0m  0.3900\n",
            "    123        \u001b[36m0.8009\u001b[0m       0.6320        \u001b[35m0.8066\u001b[0m  0.3802\n",
            "    124        \u001b[36m0.8007\u001b[0m       0.6309        \u001b[35m0.8064\u001b[0m  0.3819\n",
            "    125        \u001b[36m0.8005\u001b[0m       0.6320        \u001b[35m0.8061\u001b[0m  0.3727\n",
            "    126        \u001b[36m0.8002\u001b[0m       0.6298        \u001b[35m0.8060\u001b[0m  0.3788\n",
            "    127        \u001b[36m0.8000\u001b[0m       0.6298        \u001b[35m0.8057\u001b[0m  0.3854\n",
            "    128        \u001b[36m0.7997\u001b[0m       0.6298        \u001b[35m0.8055\u001b[0m  0.3854\n",
            "    129        \u001b[36m0.7995\u001b[0m       0.6320        \u001b[35m0.8053\u001b[0m  0.3855\n",
            "    130        \u001b[36m0.7993\u001b[0m       0.6309        \u001b[35m0.8051\u001b[0m  0.3894\n",
            "    131        \u001b[36m0.7990\u001b[0m       0.6309        \u001b[35m0.8049\u001b[0m  0.3876\n",
            "    132        \u001b[36m0.7988\u001b[0m       0.6309        \u001b[35m0.8047\u001b[0m  0.3784\n",
            "    133        \u001b[36m0.7986\u001b[0m       0.6309        \u001b[35m0.8045\u001b[0m  0.3892\n",
            "    134        \u001b[36m0.7984\u001b[0m       0.6309        \u001b[35m0.8043\u001b[0m  0.3868\n",
            "    135        \u001b[36m0.7981\u001b[0m       0.6320        \u001b[35m0.8042\u001b[0m  0.3853\n",
            "    136        \u001b[36m0.7979\u001b[0m       0.6330        \u001b[35m0.8040\u001b[0m  0.3833\n",
            "    137        \u001b[36m0.7977\u001b[0m       0.6330        \u001b[35m0.8038\u001b[0m  0.3826\n",
            "    138        \u001b[36m0.7975\u001b[0m       0.6330        \u001b[35m0.8036\u001b[0m  0.3950\n",
            "    139        \u001b[36m0.7973\u001b[0m       0.6341        \u001b[35m0.8035\u001b[0m  0.3795\n",
            "    140        \u001b[36m0.7971\u001b[0m       0.6341        \u001b[35m0.8033\u001b[0m  0.3850\n",
            "    141        \u001b[36m0.7969\u001b[0m       0.6352        \u001b[35m0.8031\u001b[0m  0.3899\n",
            "    142        \u001b[36m0.7968\u001b[0m       0.6352        \u001b[35m0.8029\u001b[0m  0.3851\n",
            "    143        \u001b[36m0.7966\u001b[0m       0.6352        \u001b[35m0.8027\u001b[0m  0.4118\n",
            "    144        \u001b[36m0.7964\u001b[0m       0.6352        \u001b[35m0.8026\u001b[0m  0.3853\n",
            "    145        \u001b[36m0.7962\u001b[0m       0.6363        \u001b[35m0.8025\u001b[0m  0.3851\n",
            "    146        \u001b[36m0.7960\u001b[0m       0.6352        \u001b[35m0.8023\u001b[0m  0.3839\n",
            "    147        \u001b[36m0.7958\u001b[0m       0.6363        \u001b[35m0.8021\u001b[0m  0.3768\n",
            "    148        \u001b[36m0.7957\u001b[0m       0.6352        \u001b[35m0.8020\u001b[0m  0.3931\n",
            "    149        \u001b[36m0.7955\u001b[0m       0.6373        \u001b[35m0.8018\u001b[0m  0.3796\n",
            "    150        \u001b[36m0.7953\u001b[0m       0.6373        \u001b[35m0.8017\u001b[0m  0.3827\n",
            "    151        \u001b[36m0.7951\u001b[0m       0.6363        \u001b[35m0.8015\u001b[0m  0.3819\n",
            "    152        \u001b[36m0.7950\u001b[0m       0.6416        \u001b[35m0.8014\u001b[0m  0.3840\n",
            "    153        \u001b[36m0.7948\u001b[0m       0.6395        \u001b[35m0.8012\u001b[0m  0.3856\n",
            "    154        \u001b[36m0.7946\u001b[0m       0.6395        \u001b[35m0.8011\u001b[0m  0.3950\n",
            "    155        \u001b[36m0.7945\u001b[0m       0.6384        \u001b[35m0.8010\u001b[0m  0.3828\n",
            "    156        \u001b[36m0.7943\u001b[0m       0.6438        \u001b[35m0.8008\u001b[0m  0.3896\n",
            "    157        \u001b[36m0.7941\u001b[0m       0.6416        \u001b[35m0.8007\u001b[0m  0.3891\n",
            "    158        \u001b[36m0.7940\u001b[0m       0.6438        \u001b[35m0.8005\u001b[0m  0.3860\n",
            "    159        \u001b[36m0.7938\u001b[0m       0.6416        \u001b[35m0.8003\u001b[0m  0.3833\n",
            "    160        \u001b[36m0.7936\u001b[0m       0.6438        \u001b[35m0.8002\u001b[0m  0.3892\n",
            "    161        \u001b[36m0.7935\u001b[0m       0.6438        \u001b[35m0.8001\u001b[0m  0.3836\n",
            "    162        \u001b[36m0.7933\u001b[0m       0.6438        \u001b[35m0.7999\u001b[0m  0.3743\n",
            "    163        \u001b[36m0.7931\u001b[0m       0.6438        \u001b[35m0.7998\u001b[0m  0.3878\n",
            "    164        \u001b[36m0.7930\u001b[0m       0.6438        \u001b[35m0.7997\u001b[0m  0.3903\n",
            "    165        \u001b[36m0.7928\u001b[0m       0.6438        \u001b[35m0.7995\u001b[0m  0.3895\n",
            "    166        \u001b[36m0.7927\u001b[0m       0.6438        \u001b[35m0.7993\u001b[0m  0.3864\n",
            "    167        \u001b[36m0.7925\u001b[0m       0.6438        \u001b[35m0.7992\u001b[0m  0.3852\n",
            "    168        \u001b[36m0.7924\u001b[0m       0.6427        \u001b[35m0.7991\u001b[0m  0.3871\n",
            "    169        \u001b[36m0.7922\u001b[0m       0.6438        \u001b[35m0.7990\u001b[0m  0.3898\n",
            "    170        \u001b[36m0.7921\u001b[0m       0.6448        \u001b[35m0.7988\u001b[0m  0.3803\n",
            "    171        \u001b[36m0.7919\u001b[0m       0.6448        \u001b[35m0.7987\u001b[0m  0.3862\n",
            "    172        \u001b[36m0.7918\u001b[0m       0.6448        \u001b[35m0.7986\u001b[0m  0.3986\n",
            "    173        \u001b[36m0.7916\u001b[0m       0.6448        \u001b[35m0.7985\u001b[0m  0.3871\n",
            "    174        \u001b[36m0.7915\u001b[0m       0.6448        \u001b[35m0.7983\u001b[0m  0.3989\n",
            "    175        \u001b[36m0.7914\u001b[0m       0.6448        \u001b[35m0.7982\u001b[0m  0.3848\n",
            "    176        \u001b[36m0.7913\u001b[0m       0.6448        \u001b[35m0.7981\u001b[0m  0.3813\n",
            "    177        \u001b[36m0.7911\u001b[0m       0.6459        \u001b[35m0.7980\u001b[0m  0.3801\n",
            "    178        \u001b[36m0.7910\u001b[0m       0.6459        \u001b[35m0.7979\u001b[0m  0.3793\n",
            "    179        \u001b[36m0.7909\u001b[0m       0.6459        \u001b[35m0.7978\u001b[0m  0.3826\n",
            "    180        \u001b[36m0.7907\u001b[0m       0.6459        \u001b[35m0.7977\u001b[0m  0.3994\n",
            "    181        \u001b[36m0.7906\u001b[0m       0.6459        \u001b[35m0.7976\u001b[0m  0.3911\n",
            "    182        \u001b[36m0.7905\u001b[0m       0.6459        \u001b[35m0.7974\u001b[0m  0.4041\n",
            "    183        \u001b[36m0.7904\u001b[0m       0.6459        \u001b[35m0.7973\u001b[0m  0.3884\n",
            "    184        \u001b[36m0.7902\u001b[0m       0.6459        \u001b[35m0.7973\u001b[0m  0.3964\n",
            "    185        \u001b[36m0.7902\u001b[0m       0.6459        \u001b[35m0.7971\u001b[0m  0.3863\n",
            "    186        \u001b[36m0.7900\u001b[0m       0.6459        \u001b[35m0.7970\u001b[0m  0.3852\n",
            "    187        \u001b[36m0.7899\u001b[0m       0.6470        \u001b[35m0.7969\u001b[0m  0.3912\n",
            "    188        \u001b[36m0.7898\u001b[0m       0.6448        \u001b[35m0.7968\u001b[0m  0.3799\n",
            "    189        \u001b[36m0.7896\u001b[0m       0.6459        \u001b[35m0.7967\u001b[0m  0.3854\n",
            "    190        \u001b[36m0.7895\u001b[0m       0.6470        \u001b[35m0.7966\u001b[0m  0.3861\n",
            "    191        \u001b[36m0.7894\u001b[0m       0.6470        \u001b[35m0.7965\u001b[0m  0.3908\n",
            "    192        \u001b[36m0.7893\u001b[0m       0.6470        \u001b[35m0.7964\u001b[0m  0.3968\n",
            "    193        \u001b[36m0.7892\u001b[0m       0.6470        \u001b[35m0.7963\u001b[0m  0.3884\n",
            "    194        \u001b[36m0.7891\u001b[0m       0.6470        \u001b[35m0.7962\u001b[0m  0.3855\n",
            "    195        \u001b[36m0.7889\u001b[0m       0.6481        \u001b[35m0.7961\u001b[0m  0.3945\n",
            "    196        \u001b[36m0.7888\u001b[0m       0.6481        \u001b[35m0.7960\u001b[0m  0.3913\n",
            "    197        \u001b[36m0.7887\u001b[0m       0.6481        \u001b[35m0.7959\u001b[0m  0.3986\n",
            "    198        \u001b[36m0.7886\u001b[0m       0.6491        \u001b[35m0.7958\u001b[0m  0.4022\n",
            "    199        \u001b[36m0.7885\u001b[0m       0.6491        \u001b[35m0.7957\u001b[0m  0.3938\n",
            "    200        \u001b[36m0.7884\u001b[0m       0.6491        \u001b[35m0.7956\u001b[0m  0.3901\n",
            "    201        \u001b[36m0.7883\u001b[0m       0.6491        \u001b[35m0.7955\u001b[0m  0.3881\n",
            "    202        \u001b[36m0.7881\u001b[0m       0.6491        \u001b[35m0.7954\u001b[0m  0.3918\n",
            "    203        \u001b[36m0.7881\u001b[0m       0.6502        \u001b[35m0.7953\u001b[0m  0.3951\n",
            "    204        \u001b[36m0.7879\u001b[0m       0.6481        \u001b[35m0.7952\u001b[0m  0.3996\n",
            "    205        \u001b[36m0.7878\u001b[0m       0.6491        \u001b[35m0.7951\u001b[0m  0.3922\n",
            "    206        \u001b[36m0.7877\u001b[0m       0.6513        \u001b[35m0.7950\u001b[0m  0.3971\n",
            "    207        \u001b[36m0.7876\u001b[0m       0.6513        \u001b[35m0.7949\u001b[0m  0.3913\n",
            "    208        \u001b[36m0.7875\u001b[0m       0.6502        \u001b[35m0.7948\u001b[0m  0.3935\n",
            "    209        \u001b[36m0.7874\u001b[0m       \u001b[32m0.6534\u001b[0m        \u001b[35m0.7947\u001b[0m  0.3957\n",
            "    210        \u001b[36m0.7873\u001b[0m       0.6524        \u001b[35m0.7947\u001b[0m  0.4010\n",
            "    211        \u001b[36m0.7872\u001b[0m       0.6534        \u001b[35m0.7946\u001b[0m  0.3904\n",
            "    212        \u001b[36m0.7871\u001b[0m       \u001b[32m0.6556\u001b[0m        \u001b[35m0.7945\u001b[0m  0.3869\n",
            "    213        \u001b[36m0.7870\u001b[0m       0.6534        \u001b[35m0.7944\u001b[0m  0.4021\n",
            "    214        \u001b[36m0.7869\u001b[0m       0.6545        \u001b[35m0.7943\u001b[0m  0.3924\n",
            "    215        \u001b[36m0.7868\u001b[0m       0.6545        \u001b[35m0.7942\u001b[0m  0.4097\n",
            "    216        \u001b[36m0.7867\u001b[0m       0.6534        \u001b[35m0.7941\u001b[0m  0.3979\n",
            "    217        \u001b[36m0.7866\u001b[0m       0.6534        \u001b[35m0.7940\u001b[0m  0.3875\n",
            "    218        \u001b[36m0.7865\u001b[0m       0.6534        \u001b[35m0.7939\u001b[0m  0.3998\n",
            "    219        \u001b[36m0.7864\u001b[0m       0.6545        \u001b[35m0.7938\u001b[0m  0.3987\n",
            "    220        \u001b[36m0.7863\u001b[0m       0.6534        \u001b[35m0.7938\u001b[0m  0.4052\n",
            "    221        \u001b[36m0.7862\u001b[0m       0.6534        \u001b[35m0.7936\u001b[0m  0.3912\n",
            "    222        \u001b[36m0.7861\u001b[0m       0.6524        \u001b[35m0.7935\u001b[0m  0.3958\n",
            "    223        \u001b[36m0.7860\u001b[0m       0.6534        \u001b[35m0.7935\u001b[0m  0.3993\n",
            "    224        \u001b[36m0.7859\u001b[0m       0.6545        \u001b[35m0.7934\u001b[0m  0.3949\n",
            "    225        \u001b[36m0.7858\u001b[0m       0.6524        \u001b[35m0.7933\u001b[0m  0.4057\n",
            "    226        \u001b[36m0.7857\u001b[0m       0.6524        \u001b[35m0.7932\u001b[0m  0.3944\n",
            "    227        \u001b[36m0.7856\u001b[0m       0.6524        \u001b[35m0.7931\u001b[0m  0.4031\n",
            "    228        \u001b[36m0.7855\u001b[0m       0.6524        \u001b[35m0.7930\u001b[0m  0.4014\n",
            "    229        \u001b[36m0.7854\u001b[0m       0.6524        \u001b[35m0.7929\u001b[0m  0.3996\n",
            "    230        \u001b[36m0.7853\u001b[0m       0.6524        \u001b[35m0.7929\u001b[0m  0.3960\n",
            "    231        \u001b[36m0.7852\u001b[0m       0.6513        \u001b[35m0.7928\u001b[0m  0.3989\n",
            "    232        \u001b[36m0.7851\u001b[0m       0.6513        \u001b[35m0.7927\u001b[0m  0.3896\n",
            "    233        \u001b[36m0.7851\u001b[0m       0.6513        \u001b[35m0.7927\u001b[0m  0.3939\n",
            "    234        \u001b[36m0.7850\u001b[0m       0.6513        \u001b[35m0.7925\u001b[0m  0.3945\n",
            "    235        \u001b[36m0.7848\u001b[0m       0.6513        \u001b[35m0.7924\u001b[0m  0.4018\n",
            "    236        \u001b[36m0.7847\u001b[0m       0.6524        \u001b[35m0.7924\u001b[0m  0.3879\n",
            "    237        \u001b[36m0.7847\u001b[0m       0.6513        \u001b[35m0.7923\u001b[0m  0.3894\n",
            "    238        \u001b[36m0.7846\u001b[0m       0.6513        \u001b[35m0.7922\u001b[0m  0.4025\n",
            "    239        \u001b[36m0.7845\u001b[0m       0.6513        \u001b[35m0.7921\u001b[0m  0.4008\n",
            "    240        \u001b[36m0.7844\u001b[0m       0.6524        \u001b[35m0.7920\u001b[0m  0.4000\n",
            "    241        \u001b[36m0.7843\u001b[0m       0.6524        \u001b[35m0.7919\u001b[0m  0.3987\n",
            "    242        \u001b[36m0.7842\u001b[0m       0.6524        \u001b[35m0.7919\u001b[0m  0.3887\n",
            "    243        \u001b[36m0.7841\u001b[0m       0.6524        \u001b[35m0.7918\u001b[0m  0.3992\n",
            "    244        \u001b[36m0.7840\u001b[0m       0.6524        \u001b[35m0.7917\u001b[0m  0.3998\n",
            "    245        \u001b[36m0.7840\u001b[0m       0.6524        \u001b[35m0.7916\u001b[0m  0.3911\n",
            "    246        \u001b[36m0.7839\u001b[0m       0.6524        \u001b[35m0.7916\u001b[0m  0.4065\n",
            "    247        \u001b[36m0.7838\u001b[0m       0.6524        \u001b[35m0.7915\u001b[0m  0.4036\n",
            "    248        \u001b[36m0.7837\u001b[0m       0.6534        \u001b[35m0.7914\u001b[0m  0.4064\n",
            "    249        \u001b[36m0.7836\u001b[0m       0.6534        \u001b[35m0.7913\u001b[0m  0.3988\n",
            "    250        \u001b[36m0.7835\u001b[0m       0.6534        \u001b[35m0.7912\u001b[0m  0.4055\n"
          ]
        },
        {
          "output_type": "execute_result",
          "data": {
            "text/plain": [
              "Pipeline(steps=[('standardscaler', StandardScaler()),\n",
              "                ('neuralnetclassifier',\n",
              "                 <class 'skorch.classifier.NeuralNetClassifier'>[initialized](\n",
              "  module_=NeuralNet(\n",
              "    (linear_1): Linear(in_features=279, out_features=512, bias=True)\n",
              "    (dropout): Dropout(p=0.1, inplace=False)\n",
              "    (linear_2): Linear(in_features=512, out_features=256, bias=True)\n",
              "    (linear_3): Linear(in_features=256, out_features=128, bias=True)\n",
              "    (linear_4): Linear(in_features=128, out_features=64, bias=True)\n",
              "    (linear_5): Linear(in_features=64, out_features=4, bias=True)\n",
              "  ),\n",
              "))])"
            ]
          },
          "metadata": {},
          "execution_count": 401
        }
      ]
    },
    {
      "cell_type": "code",
      "metadata": {
        "colab": {
          "base_uri": "https://localhost:8080/"
        },
        "id": "bIY2p-sNYe4q",
        "outputId": "8c3c2e65-7ac1-4b4f-c77f-0425f27054bf"
      },
      "source": [
        "np.isnan(extracted_features_nonan).any()"
      ],
      "execution_count": 374,
      "outputs": [
        {
          "output_type": "execute_result",
          "data": {
            "text/plain": [
              "False"
            ]
          },
          "metadata": {},
          "execution_count": 374
        }
      ]
    },
    {
      "cell_type": "code",
      "metadata": {
        "colab": {
          "base_uri": "https://localhost:8080/"
        },
        "id": "9IIH50UjbRdf",
        "outputId": "bd3e9d90-fe87-42da-b814-6a31969f65f7"
      },
      "source": [
        "np.sum(labels_collapsed_b == nn.predict(extracted_features_nonan[4660:].astype(np.float32)))/len(labels_collapsed_b)"
      ],
      "execution_count": 399,
      "outputs": [
        {
          "output_type": "execute_result",
          "data": {
            "text/plain": [
              "0.7811816192560175"
            ]
          },
          "metadata": {},
          "execution_count": 399
        }
      ]
    },
    {
      "cell_type": "markdown",
      "metadata": {
        "id": "SBXxXdBObW5S"
      },
      "source": [
        "----------------------------------------OTHER KINDA POINTLESS STUFF---------------------------"
      ]
    },
    {
      "cell_type": "code",
      "metadata": {
        "id": "WLnuRFfXUpUg"
      },
      "source": [
        "class NeuralNet(nn.Module):\n",
        "    def __init__(self, num_units=10, dropout=0.1):\n",
        "        super(NeuralNet, self).__init__()\n",
        "        self.num_units = num_units\n",
        "        self.linear_1 = nn.Linear(13, num_units)\n",
        "        self.dropout = nn.Dropout(dropout)\n",
        "        self.linear_2 = nn.Linear(num_units, 10)\n",
        "        self.linear_3 = nn.Linear(10, 3)\n",
        "\n",
        "    def forward(self, x):\n",
        "\n",
        "        x = self.linear_1(x)\n",
        "        x = F.relu(x)\n",
        "        x = self.linear_2(x)\n",
        "        x = F.relu(x)\n",
        "        x = self.linear_3(x)\n",
        "        x = F.softmax(x, dim=-1)\n",
        "\n",
        "        return x"
      ],
      "execution_count": null,
      "outputs": []
    },
    {
      "cell_type": "code",
      "metadata": {
        "id": "qZdURlIvIHv9"
      },
      "source": [
        "X_train_nn = X_train[:,0::15]"
      ],
      "execution_count": 195,
      "outputs": []
    },
    {
      "cell_type": "code",
      "metadata": {
        "colab": {
          "base_uri": "https://localhost:8080/"
        },
        "id": "UXhQddktILx_",
        "outputId": "fdb0a294-fae6-4ee0-e79b-e0bee9203349"
      },
      "source": [
        "X_train_nn.shape"
      ],
      "execution_count": 196,
      "outputs": [
        {
          "output_type": "execute_result",
          "data": {
            "text/plain": [
              "(5117, 1190)"
            ]
          },
          "metadata": {},
          "execution_count": 196
        }
      ]
    },
    {
      "cell_type": "code",
      "metadata": {
        "id": "qYf3ip7jIqLK"
      },
      "source": [
        "batch_size = 1024\n",
        "train_data = TensorDataset(torch.from_numpy(X_train_nn), torch.from_numpy(y_train))\n",
        "train_loader = DataLoader(train_data, shuffle=True, batch_size=batch_size, drop_last=True)"
      ],
      "execution_count": 197,
      "outputs": []
    },
    {
      "cell_type": "code",
      "metadata": {
        "id": "51nY0zLoHwLN"
      },
      "source": [
        "class GRUNet(nn.Module):\n",
        "    def __init__(self, input_dim, hidden_dim, output_dim, n_layers, drop_prob=0.2):\n",
        "        super(GRUNet, self).__init__()\n",
        "        self.hidden_dim = hidden_dim\n",
        "        self.n_layers = n_layers\n",
        "        \n",
        "        self.gru = nn.GRU(input_dim, hidden_dim, n_layers, batch_first=True, dropout=drop_prob)\n",
        "        self.fc = nn.Linear(hidden_dim, output_dim)\n",
        "        self.relu = nn.ReLU()\n",
        "        \n",
        "    def forward(self, x, h):\n",
        "        out, h = self.gru(x, h)\n",
        "        out = self.fc(self.relu(out[:,-1]))\n",
        "        return out, h\n",
        "    \n",
        "    def init_hidden(self, batch_size):\n",
        "        weight = next(self.parameters()).data\n",
        "        hidden = weight.new(self.n_layers, batch_size, self.hidden_dim).zero_()\n",
        "        return hidden\n",
        "\n",
        "class LSTMNet(nn.Module):\n",
        "    def __init__(self, input_dim, hidden_dim, output_dim, n_layers, drop_prob=0.2):\n",
        "        super(LSTMNet, self).__init__()\n",
        "        self.hidden_dim = hidden_dim\n",
        "        self.n_layers = n_layers\n",
        "        \n",
        "        self.lstm = nn.LSTM(input_dim, hidden_dim, n_layers, batch_first=True, dropout=drop_prob)\n",
        "        self.fc = nn.Linear(hidden_dim, output_dim)\n",
        "        self.relu = nn.ReLU()\n",
        "        \n",
        "    def forward(self, x, h):\n",
        "        out, h = self.lstm(x, h)\n",
        "        out = self.fc(self.relu(out[:,-1]))\n",
        "        return out, h\n",
        "    \n",
        "    def init_hidden(self, batch_size):\n",
        "        weight = next(self.parameters()).data\n",
        "        hidden = (weight.new(self.n_layers, batch_size, self.hidden_dim).zero_(),\n",
        "                  weight.new(self.n_layers, batch_size, self.hidden_dim).zero_())\n",
        "        return hidden"
      ],
      "execution_count": 200,
      "outputs": []
    },
    {
      "cell_type": "code",
      "metadata": {
        "id": "mBKA0MlnHuLB"
      },
      "source": [
        "def train(train_loader, learn_rate, hidden_dim=256, EPOCHS=5, model_type=\"GRU\"):\n",
        "    \n",
        "    # Setting common hyperparameters\n",
        "    input_dim = next(iter(train_loader))[0].shape[2]\n",
        "    output_dim = 1\n",
        "    n_layers = 2\n",
        "    # Instantiating the models\n",
        "    if model_type == \"GRU\":\n",
        "        model = GRUNet(input_dim, hidden_dim, output_dim, n_layers)\n",
        "    else:\n",
        "        model = LSTMNet(input_dim, hidden_dim, output_dim, n_layers)\n",
        "    model.to(device)\n",
        "    \n",
        "    # Defining loss function and optimizer\n",
        "    criterion = nn.MSELoss()\n",
        "    optimizer = torch.optim.Adam(model.parameters(), lr=learn_rate)\n",
        "    \n",
        "    model.train()\n",
        "    print(\"Starting Training of {} model\".format(model_type))\n",
        "    epoch_times = []\n",
        "    # Start training loop\n",
        "    for epoch in range(1,EPOCHS+1):\n",
        "        start_time = time.clock()\n",
        "        h = model.init_hidden(batch_size)\n",
        "        avg_loss = 0.\n",
        "        counter = 0\n",
        "        for x, label in train_loader:\n",
        "            counter += 1\n",
        "            if model_type == \"GRU\":\n",
        "                h = h.data\n",
        "            else:\n",
        "                h = tuple([e.data for e in h])\n",
        "            model.zero_grad()\n",
        "            \n",
        "            out, h = model(x.to(device).float(), h)\n",
        "            loss = criterion(out, label.to(device).float())\n",
        "            loss.backward()\n",
        "            optimizer.step()\n",
        "            avg_loss += loss.item()\n",
        "            if counter%200 == 0:\n",
        "                print(\"Epoch {}......Step: {}/{}....... Average Loss for Epoch: {}\".format(epoch, counter, len(train_loader), avg_loss/counter))\n",
        "        current_time = time.clock()\n",
        "        print(\"Epoch {}/{} Done, Total Loss: {}\".format(epoch, EPOCHS, avg_loss/len(train_loader)))\n",
        "        print(\"Total Time Elapsed: {} seconds\".format(str(current_time-start_time)))\n",
        "        epoch_times.append(current_time-start_time)\n",
        "    print(\"Total Training Time: {} seconds\".format(str(sum(epoch_times))))\n",
        "    return model\n",
        "\n",
        "def evaluate(model, test_x, test_y, label_scalers):\n",
        "    model.eval()\n",
        "    outputs = []\n",
        "    targets = []\n",
        "    start_time = time.clock()\n",
        "    for i in test_x.keys():\n",
        "        inp = torch.from_numpy(np.array(test_x[i]))\n",
        "        labs = torch.from_numpy(np.array(test_y[i]))\n",
        "        h = model.init_hidden(inp.shape[0])\n",
        "        out, h = model(inp.to(device).float(), h)\n",
        "        outputs.append(label_scalers[i].inverse_transform(out.cpu().detach().numpy()).reshape(-1))\n",
        "        targets.append(label_scalers[i].inverse_transform(labs.numpy()).reshape(-1))\n",
        "    print(\"Evaluation Time: {}\".format(str(time.clock()-start_time)))\n",
        "    sMAPE = 0\n",
        "    for i in range(len(outputs)):\n",
        "        sMAPE += np.mean(abs(outputs[i]-targets[i])/(targets[i]+outputs[i])/2)/len(outputs)\n",
        "    print(\"sMAPE: {}%\".format(sMAPE*100))\n",
        "    return outputs, targets, sMAPE"
      ],
      "execution_count": null,
      "outputs": []
    },
    {
      "cell_type": "code",
      "metadata": {
        "id": "eS1_eDcLFKm5"
      },
      "source": [
        "for x in range(len(X_train)):\n",
        "\n",
        "for i_batch, sample_batched in enumerate(dataloader):\n",
        "    print(i_batch, sample_batched['image'].size(),\n",
        "          sample_batched['landmarks'].size())"
      ],
      "execution_count": null,
      "outputs": []
    },
    {
      "cell_type": "markdown",
      "metadata": {
        "id": "Ra8CWzELDOtg"
      },
      "source": [
        "2-step process----------------------------------------"
      ]
    },
    {
      "cell_type": "code",
      "metadata": {
        "id": "U0e_NJcD3UM2"
      },
      "source": [
        "new_dps = extracted_features_collapsed\n",
        "new_labs = np.ones(5117)"
      ],
      "execution_count": null,
      "outputs": []
    },
    {
      "cell_type": "code",
      "metadata": {
        "id": "JV-mPlZn3b_j"
      },
      "source": [
        "new_labs[~(labels_collapsed==3)] = 0\n",
        "new_labs[labels_collapsed==3] = 1"
      ],
      "execution_count": null,
      "outputs": []
    },
    {
      "cell_type": "code",
      "metadata": {
        "id": "LT1-_3YBFkdI"
      },
      "source": [
        "new_dps_a = new_dps[:4660]\n",
        "new_labs_a = new_labs[:4660]\n",
        "new_dps_b = new_dps[4660:]\n",
        "new_labs_b = new_labs[4660:]"
      ],
      "execution_count": null,
      "outputs": []
    },
    {
      "cell_type": "code",
      "metadata": {
        "colab": {
          "base_uri": "https://localhost:8080/"
        },
        "id": "qvz03n8m4tv3",
        "outputId": "99fc8d99-4553-4df3-fac5-2c20b531ab8d"
      },
      "source": [
        "weighted_labels_noise = compute_sample_weight(class_weight= \"balanced\" , y =new_labs)\n",
        "np.unique(weighted_labels_noise)"
      ],
      "execution_count": null,
      "outputs": [
        {
          "output_type": "execute_result",
          "data": {
            "text/plain": [
              "array([ 0.51718213, 15.05      ])"
            ]
          },
          "metadata": {},
          "execution_count": 232
        }
      ]
    },
    {
      "cell_type": "code",
      "metadata": {
        "id": "QuLdZkaGEafi",
        "colab": {
          "base_uri": "https://localhost:8080/"
        },
        "outputId": "678d9ead-e155-48e9-8789-8284b495bae5"
      },
      "source": [
        "lgb_denoise = LGBMClassifier(n_estimators=1500, learning_rate=0.1, min_child_weight=3, max_depth=9, random_state=0)\n",
        "lgb_denoise.fit(new_dps_a, new_labs_a, weighted_labels_noise[:4660])\n",
        "np.sum(new_labs_b== lgb_denoise.predict(new_dps_b))/len(new_labs_b)"
      ],
      "execution_count": null,
      "outputs": [
        {
          "output_type": "execute_result",
          "data": {
            "text/plain": [
              "0.9693654266958425"
            ]
          },
          "metadata": {},
          "execution_count": 233
        }
      ]
    },
    {
      "cell_type": "code",
      "metadata": {
        "id": "6Pxxll0j5cB4"
      },
      "source": [
        "new_dps_nono = extracted_features_collapsed[labels_collapsed!=3]\n",
        "new_labs_nono = labels_collapsed[labels_collapsed!=3]"
      ],
      "execution_count": null,
      "outputs": []
    },
    {
      "cell_type": "code",
      "metadata": {
        "id": "pR2qIi_x6YB6"
      },
      "source": [
        "new_dps_nono_a = new_dps_nono[:4500]\n",
        "new_dps_nono_b = new_dps_nono[4500:]\n",
        "new_labs_nono_a = new_labs_nono[:4500]\n",
        "new_labs_nono_b = new_labs_nono[4500:]"
      ],
      "execution_count": null,
      "outputs": []
    },
    {
      "cell_type": "code",
      "metadata": {
        "colab": {
          "base_uri": "https://localhost:8080/"
        },
        "id": "qOI6rI_O7I0y",
        "outputId": "c0298605-9b0c-49c7-e3a5-b7270f72c321"
      },
      "source": [
        "weighted_labels_nono = compute_sample_weight(class_weight= \"balanced\" , y =new_labs_nono)\n",
        "np.unique(weighted_labels_nono)"
      ],
      "execution_count": null,
      "outputs": [
        {
          "output_type": "execute_result",
          "data": {
            "text/plain": [
              "array([0.54422442, 1.11872456, 3.72234763])"
            ]
          },
          "metadata": {},
          "execution_count": 242
        }
      ]
    },
    {
      "cell_type": "code",
      "metadata": {
        "colab": {
          "base_uri": "https://localhost:8080/"
        },
        "id": "nCTCoRNC672R",
        "outputId": "9c8341d2-6abf-40cf-be95-af64b818daa6"
      },
      "source": [
        "lgb_proper = LGBMClassifier(n_estimators=1500, learning_rate=0.1, min_child_weight=3, max_depth=9, random_state=0)\n",
        "lgb_proper.fit(new_dps_nono_a, new_labs_nono_a, weighted_labels_nono[:4500])\n",
        "np.sum(new_labs_nono_b== lgb_proper.predict(new_dps_nono_b))/len(new_labs_nono_b)"
      ],
      "execution_count": null,
      "outputs": [
        {
          "output_type": "execute_result",
          "data": {
            "text/plain": [
              "0.8523489932885906"
            ]
          },
          "metadata": {},
          "execution_count": 243
        }
      ]
    },
    {
      "cell_type": "markdown",
      "metadata": {
        "id": "0h6gu9IKkL0j"
      },
      "source": [
        "-----------------------------------OTHER METHODS---------------------------------"
      ]
    },
    {
      "cell_type": "code",
      "metadata": {
        "id": "aetOBYu7Koms"
      },
      "source": [
        "from sklearn.pipeline import make_pipeline\n",
        "from sklearn.preprocessing import StandardScaler\n",
        "mlp = make_pipeline(StandardScaler(),MLPClassifier(hidden_layer_sizes=(256, 128, 64), max_iter=1000, alpha=2, verbose=True, solver=\"adam\", learning_rate_init= 0.0005, learning_rate=\"adaptive\", batch_size=512, n_iter_no_change=300))\n",
        "mlp.fit(extracted_features_collapsed_a[:,:-1], labels_collapsed_a)\n",
        "np.sum(labels_collapsed_b == mlp.predict(extracted_features_collapsed_b[:,:-1]))/len(labels_collapsed_b)\n",
        "#gives 0.781"
      ],
      "execution_count": null,
      "outputs": []
    },
    {
      "cell_type": "code",
      "metadata": {
        "id": "HUxdLrETZI4p"
      },
      "source": [
        "mlp = make_pipeline(StandardScaler(),MLPClassifier(hidden_layer_sizes=(512, 256, 128), max_iter=1000, alpha=1, verbose=True, solver=\"adam\", learning_rate_init= 0.0005, learning_rate=\"adaptive\", batch_size=512, n_iter_no_change=300))\n",
        "mlp.fit(extracted_features_collapsed_e, labels_collapsed)\n",
        "np.sum(labels_collapsed == mlp.predict(extracted_features_collapsed_e))/len(labels_collapsed)\n",
        "#gives 0.738 for alpha=1, max_iters=4000"
      ],
      "execution_count": null,
      "outputs": []
    },
    {
      "cell_type": "code",
      "metadata": {
        "colab": {
          "base_uri": "https://localhost:8080/"
        },
        "id": "j0EGMvMZK0-e",
        "outputId": "67557120-c8d5-4356-f0b1-37bb2801c21b"
      },
      "source": [
        "np.sum(labels_collapsed_a == mlp.predict(extracted_features_collapsed_a))/len(labels_collapsed_a)"
      ],
      "execution_count": null,
      "outputs": [
        {
          "output_type": "execute_result",
          "data": {
            "text/plain": [
              "1.0"
            ]
          },
          "metadata": {},
          "execution_count": 101
        }
      ]
    },
    {
      "cell_type": "code",
      "metadata": {
        "id": "d6FK_U5hTjuu"
      },
      "source": [
        "from sklearn.neighbors import KNeighborsClassifier\n",
        "neigh = make_pipeline(StandardScaler(),KNeighborsClassifier(n_neighbors=25, weights='uniform', p=2))\n",
        "neigh.fit(extracted_features_collapsed_a, labels_collapsed_a)\n",
        "np.sum(labels_collapsed_b == neigh.predict(extracted_features_collapsed_b))/len(labels_collapsed_b)"
      ],
      "execution_count": null,
      "outputs": []
    },
    {
      "cell_type": "code",
      "metadata": {
        "colab": {
          "base_uri": "https://localhost:8080/"
        },
        "id": "ksOt6FRJQHuO",
        "outputId": "c8711d02-548b-43bb-b200-16d9b85f3784"
      },
      "source": [
        "np.isnan(extracted_features_collapsed[:,153:]).any()"
      ],
      "execution_count": null,
      "outputs": [
        {
          "output_type": "execute_result",
          "data": {
            "text/plain": [
              "True"
            ]
          },
          "metadata": {},
          "execution_count": 161
        }
      ]
    },
    {
      "cell_type": "code",
      "metadata": {
        "id": "Gil-LqaKNGx2"
      },
      "source": [
        "extracted_features_collapsed_a_e = np.concatenate((extracted_features_collapsed_a[:,:-9],extracted_features_collapsed_a[:,-6:-3]),axis=1)"
      ],
      "execution_count": null,
      "outputs": []
    },
    {
      "cell_type": "code",
      "metadata": {
        "id": "JTmnlABRPqgn"
      },
      "source": [
        "extracted_features_collapsed_b_e = np.concatenate((extracted_features_collapsed_b[:,:-9],extracted_features_collapsed_b[:,-6:-3]), axis=1)"
      ],
      "execution_count": null,
      "outputs": []
    },
    {
      "cell_type": "code",
      "metadata": {
        "id": "OZ0jIOOtPt2Q"
      },
      "source": [
        "extracted_features_collapsed_e = np.concatenate((extracted_features_collapsed[:,:154],extracted_features_collapsed[:,155:]), axis=1)"
      ],
      "execution_count": null,
      "outputs": []
    },
    {
      "cell_type": "code",
      "metadata": {
        "colab": {
          "base_uri": "https://localhost:8080/",
          "height": 366
        },
        "id": "HZgiB-XQU-1b",
        "outputId": "9584f103-b90e-4332-c006-35ac77fa8179"
      },
      "source": [
        "from sklearn.pipeline import make_pipeline\n",
        "from sklearn.preprocessing import StandardScaler\n",
        "from sklearn.svm import SVC\n",
        "svc = make_pipeline(StandardScaler(), SVC(gamma='auto', C=6.5))\n",
        "svc.fit(extracted_features_collapsed_e[:4660], labels_collapsed_a)\n",
        "np.sum(labels_collapsed_b == svc.predict(extracted_features_collapsed_e[:4660]))/len(labels_collapsed_b)"
      ],
      "execution_count": null,
      "outputs": [
        {
          "output_type": "error",
          "ename": "ValueError",
          "evalue": "ignored",
          "traceback": [
            "\u001b[0;31m---------------------------------------------------------------------------\u001b[0m",
            "\u001b[0;31mValueError\u001b[0m                                Traceback (most recent call last)",
            "\u001b[0;32m<ipython-input-134-ebbe42a60f87>\u001b[0m in \u001b[0;36m<module>\u001b[0;34m()\u001b[0m\n\u001b[1;32m      3\u001b[0m \u001b[0;32mfrom\u001b[0m \u001b[0msklearn\u001b[0m\u001b[0;34m.\u001b[0m\u001b[0msvm\u001b[0m \u001b[0;32mimport\u001b[0m \u001b[0mSVC\u001b[0m\u001b[0;34m\u001b[0m\u001b[0;34m\u001b[0m\u001b[0m\n\u001b[1;32m      4\u001b[0m \u001b[0msvc\u001b[0m \u001b[0;34m=\u001b[0m \u001b[0mmake_pipeline\u001b[0m\u001b[0;34m(\u001b[0m\u001b[0mStandardScaler\u001b[0m\u001b[0;34m(\u001b[0m\u001b[0;34m)\u001b[0m\u001b[0;34m,\u001b[0m \u001b[0mSVC\u001b[0m\u001b[0;34m(\u001b[0m\u001b[0mgamma\u001b[0m\u001b[0;34m=\u001b[0m\u001b[0;34m'auto'\u001b[0m\u001b[0;34m,\u001b[0m \u001b[0mC\u001b[0m\u001b[0;34m=\u001b[0m\u001b[0;36m6.5\u001b[0m\u001b[0;34m)\u001b[0m\u001b[0;34m)\u001b[0m\u001b[0;34m\u001b[0m\u001b[0;34m\u001b[0m\u001b[0m\n\u001b[0;32m----> 5\u001b[0;31m \u001b[0msvc\u001b[0m\u001b[0;34m.\u001b[0m\u001b[0mfit\u001b[0m\u001b[0;34m(\u001b[0m\u001b[0mextracted_features_collapsed_e\u001b[0m\u001b[0;34m[\u001b[0m\u001b[0;34m:\u001b[0m\u001b[0;36m4660\u001b[0m\u001b[0;34m]\u001b[0m\u001b[0;34m,\u001b[0m \u001b[0mlabels_collapsed_a\u001b[0m\u001b[0;34m)\u001b[0m\u001b[0;34m\u001b[0m\u001b[0;34m\u001b[0m\u001b[0m\n\u001b[0m\u001b[1;32m      6\u001b[0m \u001b[0mnp\u001b[0m\u001b[0;34m.\u001b[0m\u001b[0msum\u001b[0m\u001b[0;34m(\u001b[0m\u001b[0mlabels_collapsed_b\u001b[0m \u001b[0;34m==\u001b[0m \u001b[0msvc\u001b[0m\u001b[0;34m.\u001b[0m\u001b[0mpredict\u001b[0m\u001b[0;34m(\u001b[0m\u001b[0mextracted_features_collapsed_e\u001b[0m\u001b[0;34m[\u001b[0m\u001b[0;34m:\u001b[0m\u001b[0;36m4660\u001b[0m\u001b[0;34m]\u001b[0m\u001b[0;34m)\u001b[0m\u001b[0;34m)\u001b[0m\u001b[0;34m/\u001b[0m\u001b[0mlen\u001b[0m\u001b[0;34m(\u001b[0m\u001b[0mlabels_collapsed_b\u001b[0m\u001b[0;34m)\u001b[0m\u001b[0;34m\u001b[0m\u001b[0;34m\u001b[0m\u001b[0m\n",
            "\u001b[0;32m/usr/local/lib/python3.7/dist-packages/sklearn/pipeline.py\u001b[0m in \u001b[0;36mfit\u001b[0;34m(self, X, y, **fit_params)\u001b[0m\n\u001b[1;32m    392\u001b[0m             \u001b[0;32mif\u001b[0m \u001b[0mself\u001b[0m\u001b[0;34m.\u001b[0m\u001b[0m_final_estimator\u001b[0m \u001b[0;34m!=\u001b[0m \u001b[0;34m\"passthrough\"\u001b[0m\u001b[0;34m:\u001b[0m\u001b[0;34m\u001b[0m\u001b[0;34m\u001b[0m\u001b[0m\n\u001b[1;32m    393\u001b[0m                 \u001b[0mfit_params_last_step\u001b[0m \u001b[0;34m=\u001b[0m \u001b[0mfit_params_steps\u001b[0m\u001b[0;34m[\u001b[0m\u001b[0mself\u001b[0m\u001b[0;34m.\u001b[0m\u001b[0msteps\u001b[0m\u001b[0;34m[\u001b[0m\u001b[0;34m-\u001b[0m\u001b[0;36m1\u001b[0m\u001b[0;34m]\u001b[0m\u001b[0;34m[\u001b[0m\u001b[0;36m0\u001b[0m\u001b[0;34m]\u001b[0m\u001b[0;34m]\u001b[0m\u001b[0;34m\u001b[0m\u001b[0;34m\u001b[0m\u001b[0m\n\u001b[0;32m--> 394\u001b[0;31m                 \u001b[0mself\u001b[0m\u001b[0;34m.\u001b[0m\u001b[0m_final_estimator\u001b[0m\u001b[0;34m.\u001b[0m\u001b[0mfit\u001b[0m\u001b[0;34m(\u001b[0m\u001b[0mXt\u001b[0m\u001b[0;34m,\u001b[0m \u001b[0my\u001b[0m\u001b[0;34m,\u001b[0m \u001b[0;34m**\u001b[0m\u001b[0mfit_params_last_step\u001b[0m\u001b[0;34m)\u001b[0m\u001b[0;34m\u001b[0m\u001b[0;34m\u001b[0m\u001b[0m\n\u001b[0m\u001b[1;32m    395\u001b[0m \u001b[0;34m\u001b[0m\u001b[0m\n\u001b[1;32m    396\u001b[0m         \u001b[0;32mreturn\u001b[0m \u001b[0mself\u001b[0m\u001b[0;34m\u001b[0m\u001b[0;34m\u001b[0m\u001b[0m\n",
            "\u001b[0;32m/usr/local/lib/python3.7/dist-packages/sklearn/svm/_base.py\u001b[0m in \u001b[0;36mfit\u001b[0;34m(self, X, y, sample_weight)\u001b[0m\n\u001b[1;32m    194\u001b[0m                 \u001b[0morder\u001b[0m\u001b[0;34m=\u001b[0m\u001b[0;34m\"C\"\u001b[0m\u001b[0;34m,\u001b[0m\u001b[0;34m\u001b[0m\u001b[0;34m\u001b[0m\u001b[0m\n\u001b[1;32m    195\u001b[0m                 \u001b[0maccept_sparse\u001b[0m\u001b[0;34m=\u001b[0m\u001b[0;34m\"csr\"\u001b[0m\u001b[0;34m,\u001b[0m\u001b[0;34m\u001b[0m\u001b[0;34m\u001b[0m\u001b[0m\n\u001b[0;32m--> 196\u001b[0;31m                 \u001b[0maccept_large_sparse\u001b[0m\u001b[0;34m=\u001b[0m\u001b[0;32mFalse\u001b[0m\u001b[0;34m,\u001b[0m\u001b[0;34m\u001b[0m\u001b[0;34m\u001b[0m\u001b[0m\n\u001b[0m\u001b[1;32m    197\u001b[0m             )\n\u001b[1;32m    198\u001b[0m \u001b[0;34m\u001b[0m\u001b[0m\n",
            "\u001b[0;32m/usr/local/lib/python3.7/dist-packages/sklearn/base.py\u001b[0m in \u001b[0;36m_validate_data\u001b[0;34m(self, X, y, reset, validate_separately, **check_params)\u001b[0m\n\u001b[1;32m    574\u001b[0m                 \u001b[0my\u001b[0m \u001b[0;34m=\u001b[0m \u001b[0mcheck_array\u001b[0m\u001b[0;34m(\u001b[0m\u001b[0my\u001b[0m\u001b[0;34m,\u001b[0m \u001b[0;34m**\u001b[0m\u001b[0mcheck_y_params\u001b[0m\u001b[0;34m)\u001b[0m\u001b[0;34m\u001b[0m\u001b[0;34m\u001b[0m\u001b[0m\n\u001b[1;32m    575\u001b[0m             \u001b[0;32melse\u001b[0m\u001b[0;34m:\u001b[0m\u001b[0;34m\u001b[0m\u001b[0;34m\u001b[0m\u001b[0m\n\u001b[0;32m--> 576\u001b[0;31m                 \u001b[0mX\u001b[0m\u001b[0;34m,\u001b[0m \u001b[0my\u001b[0m \u001b[0;34m=\u001b[0m \u001b[0mcheck_X_y\u001b[0m\u001b[0;34m(\u001b[0m\u001b[0mX\u001b[0m\u001b[0;34m,\u001b[0m \u001b[0my\u001b[0m\u001b[0;34m,\u001b[0m \u001b[0;34m**\u001b[0m\u001b[0mcheck_params\u001b[0m\u001b[0;34m)\u001b[0m\u001b[0;34m\u001b[0m\u001b[0;34m\u001b[0m\u001b[0m\n\u001b[0m\u001b[1;32m    577\u001b[0m             \u001b[0mout\u001b[0m \u001b[0;34m=\u001b[0m \u001b[0mX\u001b[0m\u001b[0;34m,\u001b[0m \u001b[0my\u001b[0m\u001b[0;34m\u001b[0m\u001b[0;34m\u001b[0m\u001b[0m\n\u001b[1;32m    578\u001b[0m \u001b[0;34m\u001b[0m\u001b[0m\n",
            "\u001b[0;32m/usr/local/lib/python3.7/dist-packages/sklearn/utils/validation.py\u001b[0m in \u001b[0;36mcheck_X_y\u001b[0;34m(X, y, accept_sparse, accept_large_sparse, dtype, order, copy, force_all_finite, ensure_2d, allow_nd, multi_output, ensure_min_samples, ensure_min_features, y_numeric, estimator)\u001b[0m\n\u001b[1;32m    966\u001b[0m         \u001b[0mensure_min_samples\u001b[0m\u001b[0;34m=\u001b[0m\u001b[0mensure_min_samples\u001b[0m\u001b[0;34m,\u001b[0m\u001b[0;34m\u001b[0m\u001b[0;34m\u001b[0m\u001b[0m\n\u001b[1;32m    967\u001b[0m         \u001b[0mensure_min_features\u001b[0m\u001b[0;34m=\u001b[0m\u001b[0mensure_min_features\u001b[0m\u001b[0;34m,\u001b[0m\u001b[0;34m\u001b[0m\u001b[0;34m\u001b[0m\u001b[0m\n\u001b[0;32m--> 968\u001b[0;31m         \u001b[0mestimator\u001b[0m\u001b[0;34m=\u001b[0m\u001b[0mestimator\u001b[0m\u001b[0;34m,\u001b[0m\u001b[0;34m\u001b[0m\u001b[0;34m\u001b[0m\u001b[0m\n\u001b[0m\u001b[1;32m    969\u001b[0m     )\n\u001b[1;32m    970\u001b[0m \u001b[0;34m\u001b[0m\u001b[0m\n",
            "\u001b[0;32m/usr/local/lib/python3.7/dist-packages/sklearn/utils/validation.py\u001b[0m in \u001b[0;36mcheck_array\u001b[0;34m(array, accept_sparse, accept_large_sparse, dtype, order, copy, force_all_finite, ensure_2d, allow_nd, ensure_min_samples, ensure_min_features, estimator)\u001b[0m\n\u001b[1;32m    790\u001b[0m \u001b[0;34m\u001b[0m\u001b[0m\n\u001b[1;32m    791\u001b[0m         \u001b[0;32mif\u001b[0m \u001b[0mforce_all_finite\u001b[0m\u001b[0;34m:\u001b[0m\u001b[0;34m\u001b[0m\u001b[0;34m\u001b[0m\u001b[0m\n\u001b[0;32m--> 792\u001b[0;31m             \u001b[0m_assert_all_finite\u001b[0m\u001b[0;34m(\u001b[0m\u001b[0marray\u001b[0m\u001b[0;34m,\u001b[0m \u001b[0mallow_nan\u001b[0m\u001b[0;34m=\u001b[0m\u001b[0mforce_all_finite\u001b[0m \u001b[0;34m==\u001b[0m \u001b[0;34m\"allow-nan\"\u001b[0m\u001b[0;34m)\u001b[0m\u001b[0;34m\u001b[0m\u001b[0;34m\u001b[0m\u001b[0m\n\u001b[0m\u001b[1;32m    793\u001b[0m \u001b[0;34m\u001b[0m\u001b[0m\n\u001b[1;32m    794\u001b[0m     \u001b[0;32mif\u001b[0m \u001b[0mensure_min_samples\u001b[0m \u001b[0;34m>\u001b[0m \u001b[0;36m0\u001b[0m\u001b[0;34m:\u001b[0m\u001b[0;34m\u001b[0m\u001b[0;34m\u001b[0m\u001b[0m\n",
            "\u001b[0;32m/usr/local/lib/python3.7/dist-packages/sklearn/utils/validation.py\u001b[0m in \u001b[0;36m_assert_all_finite\u001b[0;34m(X, allow_nan, msg_dtype)\u001b[0m\n\u001b[1;32m    114\u001b[0m             raise ValueError(\n\u001b[1;32m    115\u001b[0m                 msg_err.format(\n\u001b[0;32m--> 116\u001b[0;31m                     \u001b[0mtype_err\u001b[0m\u001b[0;34m,\u001b[0m \u001b[0mmsg_dtype\u001b[0m \u001b[0;32mif\u001b[0m \u001b[0mmsg_dtype\u001b[0m \u001b[0;32mis\u001b[0m \u001b[0;32mnot\u001b[0m \u001b[0;32mNone\u001b[0m \u001b[0;32melse\u001b[0m \u001b[0mX\u001b[0m\u001b[0;34m.\u001b[0m\u001b[0mdtype\u001b[0m\u001b[0;34m\u001b[0m\u001b[0;34m\u001b[0m\u001b[0m\n\u001b[0m\u001b[1;32m    117\u001b[0m                 )\n\u001b[1;32m    118\u001b[0m             )\n",
            "\u001b[0;31mValueError\u001b[0m: Input contains NaN, infinity or a value too large for dtype('float64')."
          ]
        }
      ]
    },
    {
      "cell_type": "code",
      "metadata": {
        "colab": {
          "base_uri": "https://localhost:8080/"
        },
        "id": "WgMecs-2SDn3",
        "outputId": "6b54fbab-7a5d-4f47-bf1b-c0fa21e76192"
      },
      "source": [
        "from sklearn.ensemble import BaggingClassifier\n",
        "bag = make_pipeline(StandardScaler(), BaggingClassifier(n_estimators=1000, random_state=0))\n",
        "bag.fit(extracted_features_collapsed_a[:,:-1], labels_collapsed_a)\n",
        "np.sum(labels_collapsed_b == bag.predict(extracted_features_collapsed_b[:,:-1]))/len(labels_collapsed_b)\n",
        "#0.772"
      ],
      "execution_count": null,
      "outputs": [
        {
          "output_type": "execute_result",
          "data": {
            "text/plain": [
              "0.7724288840262582"
            ]
          },
          "metadata": {},
          "execution_count": 76
        }
      ]
    },
    {
      "cell_type": "code",
      "metadata": {
        "colab": {
          "base_uri": "https://localhost:8080/"
        },
        "id": "ptreUH2TW6_N",
        "outputId": "68ef3a31-a5ed-4781-f2e5-8e8242e5cdae"
      },
      "source": [
        "bag = make_pipeline(StandardScaler(), BaggingClassifier(base_estimator=SVC(gamma='auto', C=6.5), n_estimators=20, random_state=0))\n",
        "bag.fit(extracted_features_collapsed_e, labels_collapsed)\n",
        "np.sum(labels_collapsed == bag.predict(extracted_features_collapsed_e))/len(labels_collapsed)"
      ],
      "execution_count": null,
      "outputs": [
        {
          "output_type": "execute_result",
          "data": {
            "text/plain": [
              "0.8662963697679031"
            ]
          },
          "metadata": {},
          "execution_count": 299
        }
      ]
    },
    {
      "cell_type": "code",
      "metadata": {
        "colab": {
          "base_uri": "https://localhost:8080/"
        },
        "id": "HkuNZZdfTimK",
        "outputId": "12687eb7-990b-400e-8029-569aef3690b8"
      },
      "source": [
        "extracted_features_collapsed_e.shape"
      ],
      "execution_count": null,
      "outputs": [
        {
          "output_type": "execute_result",
          "data": {
            "text/plain": [
              "(5041, 83)"
            ]
          },
          "metadata": {},
          "execution_count": 293
        }
      ]
    },
    {
      "cell_type": "code",
      "metadata": {
        "colab": {
          "base_uri": "https://localhost:8080/"
        },
        "id": "c217NnfN8N7Z",
        "outputId": "044bd144-8101-4c9f-8c30-51885357b699"
      },
      "source": [
        "gbt = GradientBoostingClassifier(n_estimators=700, learning_rate=0.1, random_state=1)\n",
        "gbt.fit(extracted_features_collapsed_a, labels_collapsed_a, weighted_labels[:4600])\n",
        "np.sum(labels_collapsed_b == gbt.predict(extracted_features_collapsed_b))/len(labels_collapsed_b)"
      ],
      "execution_count": null,
      "outputs": [
        {
          "output_type": "execute_result",
          "data": {
            "text/plain": [
              "0.6340956340956341"
            ]
          },
          "metadata": {},
          "execution_count": 243
        }
      ]
    },
    {
      "cell_type": "code",
      "metadata": {
        "colab": {
          "base_uri": "https://localhost:8080/"
        },
        "id": "MU_7n28r_jzI",
        "outputId": "aacecb51-4d5e-4143-ce9e-722dedee248b"
      },
      "source": [
        "np.sum(labels_collapsed_a == gbt.predict(extracted_features_collapsed_a))/len(labels_collapsed_a)"
      ],
      "execution_count": null,
      "outputs": [
        {
          "output_type": "execute_result",
          "data": {
            "text/plain": [
              "0.9923913043478261"
            ]
          },
          "metadata": {},
          "execution_count": 244
        }
      ]
    },
    {
      "cell_type": "code",
      "metadata": {
        "colab": {
          "base_uri": "https://localhost:8080/"
        },
        "id": "rAOOZZRt_s3B",
        "outputId": "579a8fd3-e180-4358-d0ab-96107f797dae"
      },
      "source": [
        "np.sum(labels_collapsed_b == gbt.predict(extracted_features_collapsed_b))/len(labels_collapsed_b)"
      ],
      "execution_count": null,
      "outputs": [
        {
          "output_type": "execute_result",
          "data": {
            "text/plain": [
              "0.6340956340956341"
            ]
          },
          "metadata": {},
          "execution_count": 245
        }
      ]
    },
    {
      "cell_type": "markdown",
      "metadata": {
        "id": "XJkFLCRNKwAH"
      },
      "source": [
        "--------------------------------------------------Making predictions-----------------------------------------------"
      ]
    },
    {
      "cell_type": "code",
      "metadata": {
        "id": "eX-L0EVwDaew"
      },
      "source": [
        "X_test = test_X_tensor.numpy()"
      ],
      "execution_count": 58,
      "outputs": []
    },
    {
      "cell_type": "code",
      "metadata": {
        "colab": {
          "base_uri": "https://localhost:8080/"
        },
        "id": "De9q6dDe9hoN",
        "outputId": "5a62c401-ebc7-4484-90f3-72d01e8ee5d3"
      },
      "source": [
        "X_test.shape"
      ],
      "execution_count": 59,
      "outputs": [
        {
          "output_type": "execute_result",
          "data": {
            "text/plain": [
              "(3411, 17842)"
            ]
          },
          "metadata": {},
          "execution_count": 59
        }
      ]
    },
    {
      "cell_type": "code",
      "metadata": {
        "id": "k8OkhDXhyjEX"
      },
      "source": [
        "extracted_rpeaks_test=[]"
      ],
      "execution_count": 60,
      "outputs": []
    },
    {
      "cell_type": "code",
      "metadata": {
        "id": "igWjIfMryeIJ",
        "colab": {
          "base_uri": "https://localhost:8080/"
        },
        "outputId": "9cdac9ce-fa03-42a2-9fa6-1de8501bf9e4"
      },
      "source": [
        "for i in range(len(X_test)):\n",
        "    signal = X_test[i]\n",
        "    signal = signal[~np.isnan(signal)] #drop nans\n",
        "    if (i%500==0):\n",
        "      print(i)\n",
        "    res = ecg.ecg(signal, sampling_rate=300, show=False)\n",
        "    r_peaks = res['rpeaks']\n",
        "    heart_rates = res[\"heart_rate\"]\n",
        "    if len(r_peaks) < 5:\n",
        "      print(f\"Inappropriate input encountered: len(r_peaks) = {len(r_peaks)}, len(signal)={len(signal)} index is {i}\")\n",
        "    # else:\n",
        "    #   print(f\"len(r_peaks) = {len(r_peaks)}, len(signal)={len(signal)} index is {i}\")\n",
        "    # r_peaks = ecg.engzee_segmenter(signal, 300)['rpeaks'] #300 is the sampling rate afaik\n",
        "    extracted_rpeaks_test.append([signal,r_peaks,heart_rates])    "
      ],
      "execution_count": 61,
      "outputs": [
        {
          "output_type": "stream",
          "name": "stdout",
          "text": [
            "0\n",
            "500\n",
            "1000\n",
            "1500\n",
            "2000\n",
            "2500\n",
            "3000\n"
          ]
        }
      ]
    },
    {
      "cell_type": "code",
      "metadata": {
        "id": "IpCz28WP0j_L"
      },
      "source": [
        "extracted_features_test = np.ones((len(X_test),5*27+5*4+2+2+2+2*4+1+1+61+10+45))"
      ],
      "execution_count": 62,
      "outputs": []
    },
    {
      "cell_type": "code",
      "metadata": {
        "id": "px8SwzMsy5HJ"
      },
      "source": [
        "for i in range(len(extracted_rpeaks_test)):\n",
        "    signal, r_peaks, heart_rates = (extracted_rpeaks_test[i][0],extracted_rpeaks_test[i][1],extracted_rpeaks_test[i][2])\n",
        "    if (i%500==0):\n",
        "      print(f\"processing point {i}\")\n",
        "    if len(r_peaks) >= 5:\n",
        "        beats = ecg.extract_heartbeats(signal,r_peaks,300,before=0.45,after=0.45)['templates']\n",
        "        if len(beats) != 0:\n",
        "            r_diffs = np.diff(r_peaks)\n",
        "            mu = np.mean(beats, axis=0)[0::10] \n",
        "            mini = np.amin(beats, axis=0)[0::10] \n",
        "            maxa = np.amax(beats, axis=0)[0::10]  \n",
        "            var = np.std(beats, axis=0)[0::10] \n",
        "            med = np.median(beats, axis=0)[0::10]\n",
        "            r_mu = np.mean(r_diffs)\n",
        "            r_mini = np.amin(r_diffs) \n",
        "            r_maxa = np.amax(r_diffs)  \n",
        "            r_var = np.std(r_diffs)\n",
        "            r_med = np.median(r_diffs)\n",
        "            r_kurtosis= scipy.stats.kurtosis(r_diffs)\n",
        "            r_skew = scipy.stats.skew(r_diffs)\n",
        "            r_20 = np.percentile(r_diffs,20)\n",
        "            r_40 = np.percentile(r_diffs,40)\n",
        "            r_60 = np.percentile(r_diffs,60)\n",
        "            r_80 = np.percentile(r_diffs,80)\n",
        "            r_hist = np.histogram(r_diffs,bins=14)[1]\n",
        "            smentropy = ant.sample_entropy(mu)\n",
        "            appentropy = ant.app_entropy(mu)\n",
        "\n",
        "            r_diffs_diffs = np.diff(r_diffs)\n",
        "            r_diffs_mu = np.mean(r_diffs_diffs)\n",
        "            r_diffs_maxa = np.amax(r_diffs_diffs)\n",
        "            r_diffs_mini = np.amin(r_diffs_diffs)\n",
        "            r_diffs_var = np.std(r_diffs_diffs)\n",
        "            r_diffs_med = np.median(r_diffs_diffs)\n",
        "            r_diffs_kurtosis= scipy.stats.kurtosis(r_diffs_diffs)\n",
        "            r_diffs_skew = scipy.stats.skew(r_diffs_diffs)\n",
        "            r_diffs_25 = np.percentile(r_diffs_diffs,25)\n",
        "            r_diffs_75 = np.percentile(r_diffs_diffs,75)\n",
        "            nn_50 = len(r_diffs_diffs[r_diffs_diffs>15]) / len(r_diffs_diffs)\n",
        "            nn_20 = len(r_diffs_diffs[r_diffs_diffs>6]) / len(r_diffs_diffs)\n",
        "            c = np.mean(sorted(heart_rates[:-2]))*len(signal)/18000\n",
        "            rat = np.abs((len(r_peaks)/c)-1)\n",
        "            cv_rr = r_var/r_mu\n",
        "            cv_drr = r_diffs_var/r_mu\n",
        "            r_diffs_hist = np.histogram(r_diffs_diffs,bins=14)[1]\n",
        "\n",
        "            r_diffs_diffs_2 = np.diff(r_diffs_diffs)\n",
        "            r_diffs2_mu = np.mean(r_diffs_diffs_2)\n",
        "            r_diffs2_maxa = np.amax(r_diffs_diffs_2)\n",
        "            r_diffs2_mini = np.amin(r_diffs_diffs_2)\n",
        "            r_diffs2_var = np.std(r_diffs_diffs_2)\n",
        "            r_diffs2_med = np.median(r_diffs_diffs_2)\n",
        "            r_diffs2 = np.array([r_diffs_mu,r_diffs_maxa,r_diffs_mini,r_diffs_var,r_diffs_med])\n",
        "            r_diffs_2_hist = np.histogram(r_diffs_diffs_2,bins=14)[1]\n",
        "\n",
        "            abla, lospowers = scipy.signal.welch(signal, 300, 'flattop', 1024, scaling='spectrum')\n",
        "            #heart rate stats\n",
        "            if len(heart_rates)>0:\n",
        "              hr_mu = np.mean(heart_rates)\n",
        "              hr_maxa = np.amax(heart_rates)\n",
        "              hr_mini = np.amin(heart_rates)\n",
        "              hr_var = np.std(heart_rates)\n",
        "              hr_med = np.median(heart_rates)\n",
        "            else:\n",
        "              hr_mu = np.nan\n",
        "              hr_maxa = np.nan\n",
        "              hr_mini = np.nan\n",
        "              hr_var = np.nan\n",
        "              hr_med = np.nan\n",
        "            r_stats = np.array([r_mu,r_var,r_mini,r_maxa,r_med,r_diffs_mu,r_diffs_maxa,r_diffs_mini,r_diffs_var,r_diffs_med, r_diffs_25, r_diffs_75,hr_mu,hr_maxa,hr_mini,hr_var,hr_med,nn_50,nn_20,smentropy,appentropy,rat,cv_rr,cv_drr,r_skew,r_kurtosis,r_diffs_skew,r_diffs_kurtosis,r_20,r_40,r_60,r_80])\n",
        "            r_stats = np.concatenate((r_stats,r_diffs2,lospowers[0:10],lospowers[10::10],r_hist,r_diffs_hist,r_diffs_2_hist))\n",
        "\n",
        "            #HRV STATS\n",
        "\n",
        "            r_peaks_s = r_peaks/300\n",
        "            a = welch_psd(rpeaks=r_peaks_s, fbands = fbands, show=False, show_param=False, legend=False)#, fbands=None)\n",
        "            hrv_stats = np.concatenate((a[\"fft_peak\"],a[\"fft_abs\"],np.array([a[\"fft_ratio\"]])))\n",
        "            extracted_features_test[i] = np.array(np.concatenate((mu,var,mini,maxa,med,r_stats,hrv_stats)))\n",
        "    else:  \n",
        "        print(f\"Inappropriate input encountered: len(r_peaks) = {len(r_peaks)}, len(signal)={len(signal)} index is {i}\")\n",
        "        extracted_features_test[i]=np.ones(5*27+5*4+2+2+2+2*4+1+1+61+10+45) #np.array([np.ones(18),np.ones(18),np.ones(18),np.ones(18)])"
      ],
      "execution_count": null,
      "outputs": []
    },
    {
      "cell_type": "code",
      "metadata": {
        "id": "GDRoo0T4D8fq"
      },
      "source": [
        "# extracted_features_test = np.apply_along_axis(extract_features, 1, X_test)"
      ],
      "execution_count": null,
      "outputs": []
    },
    {
      "cell_type": "code",
      "metadata": {
        "id": "C4htKqiz9UOY"
      },
      "source": [
        "bool_extracted_test = (extracted_features_test == np.array(np.ones(5*27+5*4+2+2+2+2*4+1+1+61+10+45))).all(axis=1)"
      ],
      "execution_count": 66,
      "outputs": []
    },
    {
      "cell_type": "code",
      "metadata": {
        "colab": {
          "base_uri": "https://localhost:8080/"
        },
        "id": "4DLoai8i9Y-y",
        "outputId": "a2ac9429-7c1d-4f0f-a7ec-b6f85225cd3b"
      },
      "source": [
        "extracted_features_test.shape"
      ],
      "execution_count": 67,
      "outputs": [
        {
          "output_type": "execute_result",
          "data": {
            "text/plain": [
              "(3411, 287)"
            ]
          },
          "metadata": {},
          "execution_count": 67
        }
      ]
    },
    {
      "cell_type": "code",
      "metadata": {
        "colab": {
          "base_uri": "https://localhost:8080/"
        },
        "id": "D97pOFbu992B",
        "outputId": "5ad34c65-ee13-475f-9166-06303928253e"
      },
      "source": [
        "extracted_features_test_valid = extracted_features_test[~bool_extracted_test]\n",
        "extracted_features_test_valid.shape"
      ],
      "execution_count": 68,
      "outputs": [
        {
          "output_type": "execute_result",
          "data": {
            "text/plain": [
              "(3411, 287)"
            ]
          },
          "metadata": {},
          "execution_count": 68
        }
      ]
    },
    {
      "cell_type": "code",
      "metadata": {
        "id": "CLJYoUmM-lUn"
      },
      "source": [
        "predictiontest = np.ones(3411)"
      ],
      "execution_count": 71,
      "outputs": []
    },
    {
      "cell_type": "code",
      "metadata": {
        "id": "Q-06mZZh9kmq"
      },
      "source": [
        "#predictiontest[~bool_extracted_test] = xgb.predict(extracted_features_test_valid)"
      ],
      "execution_count": null,
      "outputs": []
    },
    {
      "cell_type": "code",
      "metadata": {
        "id": "20dltWSBgNsy"
      },
      "source": [
        "p1 = xgb.predict(extracted_features_test_valid)"
      ],
      "execution_count": null,
      "outputs": []
    },
    {
      "cell_type": "code",
      "metadata": {
        "id": "9HR2p-9S0ui2"
      },
      "source": [
        "p1 = lgb.predict(extracted_features_test_valid)"
      ],
      "execution_count": 69,
      "outputs": []
    },
    {
      "cell_type": "code",
      "metadata": {
        "colab": {
          "base_uri": "https://localhost:8080/"
        },
        "cellView": "form",
        "id": "lMumPyIckE8Z",
        "outputId": "f5a52b27-82e8-4988-b5b2-7bcbeb6f4399"
      },
      "source": [
        "#@title ablaoubla\n",
        "# from scipy import stats\n",
        "# comb = np.concatenate((p1[:,np.newaxis],p2[:,np.newaxis],p3[:,np.newaxis]),axis=1)\n",
        "# comb.shape"
      ],
      "execution_count": null,
      "outputs": [
        {
          "output_type": "execute_result",
          "data": {
            "text/plain": [
              "(3356, 3)"
            ]
          },
          "metadata": {},
          "execution_count": 391
        }
      ]
    },
    {
      "cell_type": "code",
      "metadata": {
        "colab": {
          "base_uri": "https://localhost:8080/"
        },
        "id": "ixuS8Pnsk-h9",
        "outputId": "d292b972-e9e9-4cc0-fb4d-e26117b36ff3"
      },
      "source": [
        "# def get_mode(a):\n",
        "#   return stats.mode(a)[0][0]\n",
        "p1.shape"
      ],
      "execution_count": null,
      "outputs": [
        {
          "output_type": "execute_result",
          "data": {
            "text/plain": [
              "(3411,)"
            ]
          },
          "metadata": {},
          "execution_count": 124
        }
      ]
    },
    {
      "cell_type": "code",
      "metadata": {
        "id": "CpR0nCrhWpdO"
      },
      "source": [
        "predictiontest[~bool_extracted_test]  = p1 #np.apply_along_axis(get_mode, 1, comb)"
      ],
      "execution_count": 72,
      "outputs": []
    },
    {
      "cell_type": "code",
      "metadata": {
        "id": "nsoig6xG7san"
      },
      "source": [
        "predictiontest[bool_extracted_test] = 0"
      ],
      "execution_count": null,
      "outputs": []
    },
    {
      "cell_type": "code",
      "metadata": {
        "colab": {
          "base_uri": "https://localhost:8080/"
        },
        "id": "O5BO0EFzCJk_",
        "outputId": "05cfc5d2-d54a-4e20-cc29-d9207f6d41cc"
      },
      "source": [
        "list(predictiontest).count(3)"
      ],
      "execution_count": null,
      "outputs": [
        {
          "output_type": "execute_result",
          "data": {
            "text/plain": [
              "121"
            ]
          },
          "metadata": {},
          "execution_count": 298
        }
      ]
    },
    {
      "cell_type": "code",
      "metadata": {
        "id": "_09XDqmAKDtm"
      },
      "source": [
        "test_y = pd.read_csv('sample.csv')\n",
        "test_y.loc[:,\"y\"] = predictiontest\n",
        "test_y.to_csv(\"predictions21.csv\", index=False)"
      ],
      "execution_count": 73,
      "outputs": []
    },
    {
      "cell_type": "code",
      "metadata": {
        "id": "eG7sMP2x63r2"
      },
      "source": [
        ""
      ],
      "execution_count": null,
      "outputs": []
    }
  ]
}