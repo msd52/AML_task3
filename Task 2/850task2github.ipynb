{
  "nbformat": 4,
  "nbformat_minor": 0,
  "metadata": {
    "colab": {
      "name": "Untitled3.ipynb",
      "provenance": []
    },
    "kernelspec": {
      "name": "python3",
      "display_name": "Python 3"
    },
    "language_info": {
      "name": "python"
    }
  },
  "cells": [
    {
      "cell_type": "code",
      "metadata": {
        "id": "2RsELu0PpWYF",
        "colab": {
          "base_uri": "https://localhost:8080/"
        },
        "outputId": "4149aa3e-5b4c-4f03-aba8-15ad40629de4"
      },
      "source": [
        "!pip install biosppy\n",
        "!pip install antropy"
      ],
      "execution_count": 1,
      "outputs": [
        {
          "output_type": "stream",
          "name": "stdout",
          "text": [
            "Collecting biosppy\n",
            "  Downloading biosppy-0.7.3.tar.gz (85 kB)\n",
            "\u001b[?25l\r\u001b[K     |███▉                            | 10 kB 21.9 MB/s eta 0:00:01\r\u001b[K     |███████▊                        | 20 kB 27.7 MB/s eta 0:00:01\r\u001b[K     |███████████▌                    | 30 kB 12.9 MB/s eta 0:00:01\r\u001b[K     |███████████████▍                | 40 kB 9.8 MB/s eta 0:00:01\r\u001b[K     |███████████████████▏            | 51 kB 4.5 MB/s eta 0:00:01\r\u001b[K     |███████████████████████         | 61 kB 4.7 MB/s eta 0:00:01\r\u001b[K     |███████████████████████████     | 71 kB 4.5 MB/s eta 0:00:01\r\u001b[K     |██████████████████████████████▊ | 81 kB 5.1 MB/s eta 0:00:01\r\u001b[K     |████████████████████████████████| 85 kB 2.3 MB/s \n",
            "\u001b[?25hCollecting bidict\n",
            "  Downloading bidict-0.21.4-py3-none-any.whl (36 kB)\n",
            "Requirement already satisfied: h5py in /usr/local/lib/python3.7/dist-packages (from biosppy) (3.1.0)\n",
            "Requirement already satisfied: matplotlib in /usr/local/lib/python3.7/dist-packages (from biosppy) (3.2.2)\n",
            "Requirement already satisfied: numpy in /usr/local/lib/python3.7/dist-packages (from biosppy) (1.19.5)\n",
            "Requirement already satisfied: scikit-learn in /usr/local/lib/python3.7/dist-packages (from biosppy) (1.0.1)\n",
            "Requirement already satisfied: scipy in /usr/local/lib/python3.7/dist-packages (from biosppy) (1.4.1)\n",
            "Collecting shortuuid\n",
            "  Downloading shortuuid-1.0.8-py3-none-any.whl (9.5 kB)\n",
            "Requirement already satisfied: six in /usr/local/lib/python3.7/dist-packages (from biosppy) (1.15.0)\n",
            "Requirement already satisfied: joblib in /usr/local/lib/python3.7/dist-packages (from biosppy) (1.1.0)\n",
            "Requirement already satisfied: opencv-python in /usr/local/lib/python3.7/dist-packages (from biosppy) (4.1.2.30)\n",
            "Requirement already satisfied: cached-property in /usr/local/lib/python3.7/dist-packages (from h5py->biosppy) (1.5.2)\n",
            "Requirement already satisfied: python-dateutil>=2.1 in /usr/local/lib/python3.7/dist-packages (from matplotlib->biosppy) (2.8.2)\n",
            "Requirement already satisfied: cycler>=0.10 in /usr/local/lib/python3.7/dist-packages (from matplotlib->biosppy) (0.11.0)\n",
            "Requirement already satisfied: kiwisolver>=1.0.1 in /usr/local/lib/python3.7/dist-packages (from matplotlib->biosppy) (1.3.2)\n",
            "Requirement already satisfied: pyparsing!=2.0.4,!=2.1.2,!=2.1.6,>=2.0.1 in /usr/local/lib/python3.7/dist-packages (from matplotlib->biosppy) (3.0.6)\n",
            "Requirement already satisfied: threadpoolctl>=2.0.0 in /usr/local/lib/python3.7/dist-packages (from scikit-learn->biosppy) (3.0.0)\n",
            "Building wheels for collected packages: biosppy\n",
            "  Building wheel for biosppy (setup.py) ... \u001b[?25l\u001b[?25hdone\n",
            "  Created wheel for biosppy: filename=biosppy-0.7.3-py2.py3-none-any.whl size=95430 sha256=c0739fbd9ec4c78285c23d470947a9f7d1885fc71f2c3419b9e4a2029edee49c\n",
            "  Stored in directory: /root/.cache/pip/wheels/2f/4f/8f/28b2adc462d7e37245507324f4817ce1c64ef2464f099f4f0b\n",
            "Successfully built biosppy\n",
            "Installing collected packages: shortuuid, bidict, biosppy\n",
            "Successfully installed bidict-0.21.4 biosppy-0.7.3 shortuuid-1.0.8\n",
            "Collecting antropy\n",
            "  Downloading antropy-0.1.4.tar.gz (16 kB)\n",
            "Collecting stochastic\n",
            "  Downloading stochastic-0.6.0-py3-none-any.whl (49 kB)\n",
            "\u001b[K     |████████████████████████████████| 49 kB 2.4 MB/s \n",
            "\u001b[?25hRequirement already satisfied: scipy<2.0,>=1.3 in /usr/local/lib/python3.7/dist-packages (from stochastic->antropy) (1.4.1)\n",
            "Requirement already satisfied: numpy<2.0,>=1.17 in /usr/local/lib/python3.7/dist-packages (from stochastic->antropy) (1.19.5)\n",
            "Building wheels for collected packages: antropy\n",
            "  Building wheel for antropy (setup.py) ... \u001b[?25l\u001b[?25hdone\n",
            "  Created wheel for antropy: filename=antropy-0.1.4-py3-none-any.whl size=16158 sha256=e06c0aff96380dc9f2b3b6a10d9b8c2df8d56da0e718c078dca86879b0998fdf\n",
            "  Stored in directory: /root/.cache/pip/wheels/d4/cc/6b/28fa7036bdabc6f1f92fd6a108ae259dbb48f107f676d6b491\n",
            "Successfully built antropy\n",
            "Installing collected packages: stochastic, antropy\n",
            "Successfully installed antropy-0.1.4 stochastic-0.6.0\n"
          ]
        }
      ]
    },
    {
      "cell_type": "code",
      "metadata": {
        "id": "TNsNhcUWpQtq"
      },
      "source": [
        "import biosppy.signals.ecg as ecg\n",
        "import antropy as ant\n",
        "import matplotlib.pyplot as plt"
      ],
      "execution_count": 2,
      "outputs": []
    },
    {
      "cell_type": "code",
      "metadata": {
        "id": "B2Jjw8ELKCPs"
      },
      "source": [
        "import torch\n",
        "import numpy as np\n",
        "import pandas as pd\n",
        "\n",
        "train_X = pd.read_csv('X_train.csv')\n",
        "train_X_tensor = torch.tensor(train_X.values)[:,1:]\n",
        "train_y = pd.read_csv(\"y_train.csv\")\n",
        "train_y_tensor = torch.tensor(train_y.values)[:,1:]\n",
        "\n",
        "test_X = pd.read_csv('X_test.csv')\n",
        "test_X_tensor = torch.tensor(test_X.values)[:,1:]"
      ],
      "execution_count": 3,
      "outputs": []
    },
    {
      "cell_type": "code",
      "metadata": {
        "colab": {
          "base_uri": "https://localhost:8080/"
        },
        "id": "0hMIgIrkdvMH",
        "outputId": "b3a8243a-ce30-41ac-b51e-4e8ece8998ee"
      },
      "source": [
        "test_X_tensor.shape"
      ],
      "execution_count": 4,
      "outputs": [
        {
          "output_type": "execute_result",
          "data": {
            "text/plain": [
              "torch.Size([3411, 17842])"
            ]
          },
          "metadata": {},
          "execution_count": 4
        }
      ]
    },
    {
      "cell_type": "code",
      "metadata": {
        "id": "he3s235ecZDM"
      },
      "source": [
        "X_train = train_X_tensor.numpy()\n",
        "y_train = train_y_tensor.numpy()"
      ],
      "execution_count": 5,
      "outputs": []
    },
    {
      "cell_type": "code",
      "metadata": {
        "colab": {
          "base_uri": "https://localhost:8080/"
        },
        "id": "zEMHmzud83hZ",
        "outputId": "a06b2c4f-c7e5-4437-90c7-b47adbd14232"
      },
      "source": [
        "y_train.shape"
      ],
      "execution_count": 6,
      "outputs": [
        {
          "output_type": "execute_result",
          "data": {
            "text/plain": [
              "(5117, 1)"
            ]
          },
          "metadata": {},
          "execution_count": 6
        }
      ]
    },
    {
      "cell_type": "code",
      "metadata": {
        "colab": {
          "base_uri": "https://localhost:8080/"
        },
        "id": "Do2P2GH-84vz",
        "outputId": "1db65b33-4a4e-4b74-b78f-077de119b391"
      },
      "source": [
        "X_train.shape"
      ],
      "execution_count": 8,
      "outputs": [
        {
          "output_type": "execute_result",
          "data": {
            "text/plain": [
              "(5117, 17842)"
            ]
          },
          "metadata": {},
          "execution_count": 8
        }
      ]
    },
    {
      "cell_type": "code",
      "metadata": {
        "id": "itxAiIj7cp25"
      },
      "source": [
        "y_train = np.squeeze(y_train, axis=1)"
      ],
      "execution_count": 7,
      "outputs": []
    },
    {
      "cell_type": "code",
      "metadata": {
        "id": "vwrXhvC2KDd-"
      },
      "source": [
        ""
      ],
      "execution_count": null,
      "outputs": []
    },
    {
      "cell_type": "code",
      "metadata": {
        "id": "zlDdgCGpyrf9",
        "cellView": "form"
      },
      "source": [
        "#@title hide pls\n",
        "signal = X_train[1]\n",
        "signal = signal[~np.isnan(signal)] #drop nans\n",
        "r_peaks = ecg.engzee_segmenter(signal, 300)['rpeaks'] #300 is the sampling rate afaik\n",
        "# print(r_peaks)\n",
        "\n",
        "if len(r_peaks) >= 2:\n",
        "    #print(ecg.extract_heartbeats(signal, r_peaks, 300))\n",
        "    beats = ecg.extract_heartbeats(signal, r_peaks, 300)['templates']\n",
        "beats.shape\n",
        "r_peaks"
      ],
      "execution_count": null,
      "outputs": []
    },
    {
      "cell_type": "code",
      "metadata": {
        "id": "EAQl9Lo7w_A8",
        "colab": {
          "base_uri": "https://localhost:8080/"
        },
        "outputId": "87a15f6d-f183-4752-967a-4f74d6b3e2ac"
      },
      "source": [
        "!pip install pyhrv\n",
        "from pyhrv.frequency_domain import welch_psd"
      ],
      "execution_count": 52,
      "outputs": [
        {
          "output_type": "stream",
          "name": "stdout",
          "text": [
            "Collecting pyhrv\n",
            "  Downloading pyhrv-0.4.0-py3-none-any.whl (3.2 MB)\n",
            "\u001b[K     |████████████████████████████████| 3.2 MB 4.3 MB/s \n",
            "\u001b[?25hCollecting spectrum\n",
            "  Downloading spectrum-0.8.0.tar.gz (228 kB)\n",
            "\u001b[K     |████████████████████████████████| 228 kB 51.8 MB/s \n",
            "\u001b[?25hCollecting nolds\n",
            "  Downloading nolds-0.5.2-py2.py3-none-any.whl (39 kB)\n",
            "Requirement already satisfied: scipy in /usr/local/lib/python3.7/dist-packages (from pyhrv) (1.4.1)\n",
            "Requirement already satisfied: numpy in /usr/local/lib/python3.7/dist-packages (from pyhrv) (1.19.5)\n",
            "Requirement already satisfied: matplotlib in /usr/local/lib/python3.7/dist-packages (from pyhrv) (3.2.2)\n",
            "Requirement already satisfied: biosppy in /usr/local/lib/python3.7/dist-packages (from pyhrv) (0.7.3)\n",
            "Requirement already satisfied: joblib in /usr/local/lib/python3.7/dist-packages (from biosppy->pyhrv) (1.1.0)\n",
            "Requirement already satisfied: six in /usr/local/lib/python3.7/dist-packages (from biosppy->pyhrv) (1.15.0)\n",
            "Requirement already satisfied: opencv-python in /usr/local/lib/python3.7/dist-packages (from biosppy->pyhrv) (4.1.2.30)\n",
            "Requirement already satisfied: h5py in /usr/local/lib/python3.7/dist-packages (from biosppy->pyhrv) (3.1.0)\n",
            "Requirement already satisfied: scikit-learn in /usr/local/lib/python3.7/dist-packages (from biosppy->pyhrv) (1.0.1)\n",
            "Requirement already satisfied: bidict in /usr/local/lib/python3.7/dist-packages (from biosppy->pyhrv) (0.21.4)\n",
            "Requirement already satisfied: shortuuid in /usr/local/lib/python3.7/dist-packages (from biosppy->pyhrv) (1.0.8)\n",
            "Requirement already satisfied: cached-property in /usr/local/lib/python3.7/dist-packages (from h5py->biosppy->pyhrv) (1.5.2)\n",
            "Requirement already satisfied: kiwisolver>=1.0.1 in /usr/local/lib/python3.7/dist-packages (from matplotlib->pyhrv) (1.3.2)\n",
            "Requirement already satisfied: python-dateutil>=2.1 in /usr/local/lib/python3.7/dist-packages (from matplotlib->pyhrv) (2.8.2)\n",
            "Requirement already satisfied: cycler>=0.10 in /usr/local/lib/python3.7/dist-packages (from matplotlib->pyhrv) (0.11.0)\n",
            "Requirement already satisfied: pyparsing!=2.0.4,!=2.1.2,!=2.1.6,>=2.0.1 in /usr/local/lib/python3.7/dist-packages (from matplotlib->pyhrv) (3.0.6)\n",
            "Requirement already satisfied: setuptools in /usr/local/lib/python3.7/dist-packages (from nolds->pyhrv) (57.4.0)\n",
            "Requirement already satisfied: future in /usr/local/lib/python3.7/dist-packages (from nolds->pyhrv) (0.16.0)\n",
            "Requirement already satisfied: threadpoolctl>=2.0.0 in /usr/local/lib/python3.7/dist-packages (from scikit-learn->biosppy->pyhrv) (3.0.0)\n",
            "Building wheels for collected packages: spectrum\n",
            "  Building wheel for spectrum (setup.py) ... \u001b[?25l\u001b[?25hdone\n",
            "  Created wheel for spectrum: filename=spectrum-0.8.0-cp37-cp37m-linux_x86_64.whl size=234833 sha256=c79a54793d1d9be7a2f38b8a9bb68a6501823db291d28c9cce53332c69121868\n",
            "  Stored in directory: /root/.cache/pip/wheels/ac/a0/2b/aba9ac3cce046bc454a44d0db5b711b4e927a0dd33a93e9d98\n",
            "Successfully built spectrum\n",
            "Installing collected packages: spectrum, nolds, pyhrv\n",
            "Successfully installed nolds-0.5.2 pyhrv-0.4.0 spectrum-0.8.0\n"
          ]
        }
      ]
    },
    {
      "cell_type": "code",
      "metadata": {
        "id": "_hViaZ1d0l2k"
      },
      "source": [
        "fbands = {'ulf': (0.0, 0.033), 'vlf': (0.033, 0.04), 'lf': (0.04, 0.15), 'hf': (0.15, 0.4)} #WHY CANT I ADD 5th frequency?\n",
        "# fbands = {'vlf': (0.033, 0.04), 'lf': (0.04, 0.15), 'hf': (0.15, 0.4),\"noise\":(0.4,100)} #WHY CANT I ADD 5th frequency?"
      ],
      "execution_count": 93,
      "outputs": []
    },
    {
      "cell_type": "code",
      "metadata": {
        "cellView": "form",
        "id": "prGlPeFBv9VZ"
      },
      "source": [
        "#@title hide pls\n",
        "signal = X_train[0]\n",
        "signal = signal[~np.isnan(signal)] #drop nans\n",
        "\n",
        "res = ecg.ecg(signal, sampling_rate=300, show=False)\n",
        "r_peaks = res['rpeaks']\n",
        "heart_rates = res['heart_rate']\n",
        "\n",
        "# else:\n",
        "#   print(f\"len(r_peaks) = {len(r_peaks)}, len(signal)={len(signal)} index is {i}\")\n",
        "# r_peaks = ecg.engzee_segmenter(signal, 300)['rpeaks'] #300 is the sampling rate afaik\n",
        "# extracted_rpeaks.append([signal,r_peaks])\n",
        "print(heart_rates)\n",
        "print(r_peaks.shape)"
      ],
      "execution_count": null,
      "outputs": []
    },
    {
      "cell_type": "code",
      "metadata": {
        "id": "ysm6hMGowzVk"
      },
      "source": [
        "extracted_rpeaks = []"
      ],
      "execution_count": 90,
      "outputs": []
    },
    {
      "cell_type": "code",
      "metadata": {
        "id": "PkKKkOOVwgV9",
        "colab": {
          "base_uri": "https://localhost:8080/"
        },
        "outputId": "ef4919c3-d926-494f-c0ac-10899a2bd081"
      },
      "source": [
        "for i in range(len(X_train)):\n",
        "    signal = X_train[i]\n",
        "    signal = signal[~np.isnan(signal)] #drop nans\n",
        "    if (i%500==0):\n",
        "      print(i)\n",
        "    res = ecg.ecg(signal, sampling_rate=300, show=False)\n",
        "    r_peaks = res['rpeaks']\n",
        "    heart_rates = res[\"heart_rate\"]\n",
        "    if len(r_peaks) < 5:\n",
        "      print(f\"Inappropriate input encountered: len(r_peaks) = {len(r_peaks)}, len(signal)={len(signal)} index is {i}\")\n",
        "    # else:\n",
        "    #   print(f\"len(r_peaks) = {len(r_peaks)}, len(signal)={len(signal)} index is {i}\")\n",
        "    # r_peaks = ecg.engzee_segmenter(signal, 300)['rpeaks'] #300 is the sampling rate afaik\n",
        "    extracted_rpeaks.append([signal,r_peaks,heart_rates])"
      ],
      "execution_count": 91,
      "outputs": [
        {
          "output_type": "stream",
          "name": "stdout",
          "text": [
            "0\n",
            "500\n",
            "1000\n",
            "1500\n",
            "2000\n",
            "2500\n",
            "3000\n",
            "3500\n",
            "4000\n",
            "4500\n",
            "5000\n"
          ]
        }
      ]
    },
    {
      "cell_type": "code",
      "metadata": {
        "colab": {
          "base_uri": "https://localhost:8080/"
        },
        "id": "ov4M6nazv432",
        "outputId": "35972a8e-bdac-4dae-dcdf-ba80669a5240"
      },
      "source": [
        "len(extracted_rpeaks)"
      ],
      "execution_count": 92,
      "outputs": [
        {
          "output_type": "execute_result",
          "data": {
            "text/plain": [
              "5117"
            ]
          },
          "metadata": {},
          "execution_count": 92
        }
      ]
    },
    {
      "cell_type": "code",
      "metadata": {
        "id": "WiftgFPQ-c6p"
      },
      "source": [
        "count =0\n",
        "diffs = []\n",
        "for i in range(len(y_train[y_train==3])):\n",
        "  signal = X_train[y_train==3][i]\n",
        "  label = y_train[y_train==3][i]\n",
        "  signal = signal[~np.isnan(signal)] #drop nans\n",
        "\n",
        "  res = ecg.ecg(signal, sampling_rate=300, show=False, )\n",
        "  r_peaks = res['rpeaks']\n",
        "  heart_rates = res[\"heart_rate\"]\n",
        "  beats = res[\"templates\"]\n",
        "  filtered = res[\"filtered\"]\n",
        "  r_peaks_s = r_peaks/300\n",
        "  freqs = 20*np.log10(np.abs(np.fft.rfft(signal)))\n",
        "  f = np.linspace(0, 300/2, len(freqs))\n",
        "  plt.plot(f, freqs)\n",
        "  # a = welch_psd(rpeaks=r_peaks_s, fbands = fbands, show=False, show_param=False, legend=False)#, fbands=None)\n",
        "  # res_filt = ecg.ecg(filtered, sampling_rate=300, show=False, )\n",
        "  # beats_filt = res_filt[\"templates\"]\n",
        "  # print(np.mean(np.mean(beats,axis=0)-np.mean(beats_filt,axis=0)))\n",
        "\n",
        "  #print(f\"num of rpeaks if {len(r_peaks)} and avg heartrate is {np.mean(heart_rates)}\")\n",
        "  #print(f\"I have {len(r_peaks)} pulses but I should have {np.mean(heart_rates[2:])*len(signal)/18000}\")\n",
        "  # c = np.mean(sorted(heart_rates[:-2]))*len(signal)/18000\n",
        "  # diff = np.abs((len(r_peaks)/c)-1)\n",
        "  # print(diff)\n",
        "  # diffs.append(diff)\n",
        "# print(np.mean(np.array(diffs)))\n",
        "\n",
        "  # print(r_peaks)\n",
        "  # print(r_peaks.shape)\n",
        "  # print(heart_rates[:15])\n",
        "  # print(heart_rates.shape)\n",
        "  # print(beats)\n",
        "  # print(beats.shape)"
      ],
      "execution_count": null,
      "outputs": []
    },
    {
      "cell_type": "code",
      "metadata": {
        "id": "bvNxQsDiZx1u"
      },
      "source": [
        "import scipy.signal"
      ],
      "execution_count": 154,
      "outputs": []
    },
    {
      "cell_type": "code",
      "metadata": {
        "colab": {
          "base_uri": "https://localhost:8080/"
        },
        "id": "P5xLR7G7ZzGL",
        "outputId": "3bdaa35f-8560-44f3-fa6d-8b33c5748754"
      },
      "source": [
        "signal = X_train[y_train==0][8]\n",
        "label = y_train[y_train==3][0]\n",
        "signal = signal[~np.isnan(signal)] #drop nans\n",
        "f, Pxx_spec = scipy.signal.welch(signal, 300, 'flattop', 1024, scaling='spectrum')\n",
        "Pxx_spec.shape"
      ],
      "execution_count": 162,
      "outputs": [
        {
          "output_type": "execute_result",
          "data": {
            "text/plain": [
              "(513,)"
            ]
          },
          "metadata": {},
          "execution_count": 162
        }
      ]
    },
    {
      "cell_type": "code",
      "metadata": {
        "colab": {
          "base_uri": "https://localhost:8080/"
        },
        "id": "oJwxh8S5aslG",
        "outputId": "aedee815-a6fa-4dd0-bebd-5e00fd58fe8b"
      },
      "source": [
        "Pxx_spec[0::10].shape"
      ],
      "execution_count": 165,
      "outputs": [
        {
          "output_type": "execute_result",
          "data": {
            "text/plain": [
              "(52,)"
            ]
          },
          "metadata": {},
          "execution_count": 165
        }
      ]
    },
    {
      "cell_type": "code",
      "metadata": {
        "colab": {
          "base_uri": "https://localhost:8080/"
        },
        "id": "xGCxZxp5Ls_I",
        "outputId": "3008badf-edd1-4c5b-be48-ef503c36cc83"
      },
      "source": [
        "signal = X_train[y_train==0][6]\n",
        "label = y_train[y_train==3][0]\n",
        "signal = signal[~np.isnan(signal)] #drop nans\n",
        "res = ecg.ecg(signal, sampling_rate=300, show=False, )\n",
        "r_peaks = res['rpeaks']\n",
        "heart_rates = res[\"heart_rate\"]\n",
        "beats = res[\"templates\"]\n",
        "filtered = res[\"filtered\"]\n",
        "r_peaks_s = r_peaks/300\n",
        "freqs = 20*np.log10(np.abs(np.fft.rfft(signal)))\n",
        "f = np.linspace(0, 300/2, len(freqs))\n",
        "len(freqs)"
      ],
      "execution_count": 153,
      "outputs": [
        {
          "output_type": "execute_result",
          "data": {
            "text/plain": [
              "4122"
            ]
          },
          "metadata": {},
          "execution_count": 153
        }
      ]
    },
    {
      "cell_type": "code",
      "metadata": {
        "colab": {
          "base_uri": "https://localhost:8080/"
        },
        "id": "7F3JagN2Mfcw",
        "outputId": "055c6e55-43e1-4260-ab27-d728aa0bd4b4"
      },
      "source": [
        "len(freqs)"
      ],
      "execution_count": 76,
      "outputs": [
        {
          "output_type": "execute_result",
          "data": {
            "text/plain": [
              "8406"
            ]
          },
          "metadata": {},
          "execution_count": 76
        }
      ]
    },
    {
      "cell_type": "code",
      "metadata": {
        "id": "HxTWSIoNOyia"
      },
      "source": [
        "extracted_features_l = np.ones((5117,5*27+5*4+2+2+2+2*4+1+1+61))"
      ],
      "execution_count": 166,
      "outputs": []
    },
    {
      "cell_type": "code",
      "metadata": {
        "id": "dTwipG4_6_89"
      },
      "source": [
        "for i in range(len(extracted_rpeaks)):\n",
        "    signal, r_peaks, heart_rates = (extracted_rpeaks[i][0],extracted_rpeaks[i][1],extracted_rpeaks[i][2])\n",
        "    if (i%500==0):\n",
        "      print(f\"processing point {i}\")\n",
        "    if len(r_peaks) >= 5:\n",
        "        #print(ecg.extract_heartbeats(signal, r_peaks, 300))\n",
        "        beats = ecg.extract_heartbeats(signal, r_peaks, 300,before=0.45,after=0.45)['templates']\n",
        "        if len(beats) != 0:\n",
        "            r_diffs = np.diff(r_peaks)\n",
        "            mu = np.mean(beats, axis=0)[0::10] \n",
        "            mini = np.amin(beats, axis=0)[0::10] \n",
        "            maxa = np.amax(beats, axis=0)[0::10]  \n",
        "            var = np.std(beats, axis=0)[0::10] \n",
        "            med = np.median(beats, axis=0)[0::10] \n",
        "            r_mu = np.mean(r_diffs)\n",
        "            r_mini = np.amin(r_diffs) \n",
        "            r_maxa = np.amax(r_diffs)  \n",
        "            r_var = np.std(r_diffs)\n",
        "            r_med = np.median(r_diffs)\n",
        "            smentropy = ant.sample_entropy(mu)\n",
        "            appentropy = ant.app_entropy(mu)\n",
        "\n",
        "            r_diffs_diffs = np.diff(r_diffs)\n",
        "            r_diffs_mu = np.mean(r_diffs_diffs)\n",
        "            r_diffs_maxa = np.amax(r_diffs_diffs)\n",
        "            r_diffs_mini = np.amin(r_diffs_diffs)\n",
        "            r_diffs_var = np.std(r_diffs_diffs)\n",
        "            r_diffs_med = np.median(r_diffs_diffs)\n",
        "            r_diffs_25 = np.percentile(r_diffs_diffs,25)\n",
        "            r_diffs_75 = np.percentile(r_diffs_diffs,75)\n",
        "            nn_50 = len(r_diffs_diffs[r_diffs_diffs>15]) / len(r_diffs_diffs)\n",
        "            nn_20 = len(r_diffs_diffs[r_diffs_diffs>6]) / len(r_diffs_diffs)\n",
        "            c = np.mean(sorted(heart_rates[:-2]))*len(signal)/18000\n",
        "            rat = np.abs((len(r_peaks)/c)-1)\n",
        "\n",
        "            r_diffs_diffs_2 = np.diff(r_diffs_diffs)\n",
        "            r_diffs2_mu = np.mean(r_diffs_diffs_2)\n",
        "            r_diffs2_maxa = np.amax(r_diffs_diffs_2)\n",
        "            r_diffs2_mini = np.amin(r_diffs_diffs_2)\n",
        "            r_diffs2_var = np.std(r_diffs_diffs_2)\n",
        "            r_diffs2_med = np.median(r_diffs_diffs_2)\n",
        "            r_diffs2 = np.array([r_diffs_mu,r_diffs_maxa,r_diffs_mini,r_diffs_var,r_diffs_med])\n",
        "\n",
        "            abla, lospowers = scipy.signal.welch(signal, 300, 'flattop', 1024, scaling='spectrum')\n",
        "            #heart rate stats\n",
        "            if len(heart_rates)>0:\n",
        "              hr_mu = np.mean(heart_rates)\n",
        "              hr_maxa = np.amax(heart_rates)\n",
        "              hr_mini = np.amin(heart_rates)\n",
        "              hr_var = np.std(heart_rates)\n",
        "              hr_med = np.median(heart_rates)\n",
        "            else:\n",
        "              hr_mu = np.nan\n",
        "              hr_maxa = np.nan\n",
        "              hr_mini = np.nan\n",
        "              hr_var = np.nan\n",
        "              hr_med = np.nan\n",
        "            r_stats = np.array([r_mu,r_var,r_mini,r_maxa,r_med,r_diffs_mu,r_diffs_maxa,r_diffs_mini,r_diffs_var,r_diffs_med, r_diffs_25, r_diffs_75,hr_mu,hr_maxa,hr_mini,hr_var,hr_med,nn_50,nn_20,smentropy,appentropy,rat])\n",
        "            r_stats = np.concatenate((r_stats,r_diffs2,lospowers[0:10],lospowers[10::10]))\n",
        "            #HRV STATS\n",
        "\n",
        "            r_peaks_s = r_peaks/300\n",
        "            a = welch_psd(rpeaks=r_peaks_s, fbands = fbands, show=False, show_param=False, legend=False)#, fbands=None)\n",
        "            hrv_stats = np.concatenate((a[\"fft_peak\"],a[\"fft_abs\"],np.array([a[\"fft_ratio\"]])))\n",
        "            extracted_features_l[i] = np.array(np.concatenate((mu,var,mini,maxa,med,r_stats,hrv_stats)))\n",
        "    else:  \n",
        "        print(f\"Inappropriate input encountered: len(r_peaks) = {len(r_peaks)}, len(signal)={len(signal)} index is {i}\")\n",
        "        extracted_features_l[i]=np.ones(5*27+5*4+2+2+2+2*4+1+1+61) #np.array([np.ones(18),np.ones(18),np.ones(18),np.ones(18)])"
      ],
      "execution_count": null,
      "outputs": []
    },
    {
      "cell_type": "code",
      "metadata": {
        "cellView": "form",
        "id": "LPFAWOZw6F27"
      },
      "source": [
        "#@title My title\n",
        "# for i in range(len(extracted_rpeaks)):\n",
        "\n",
        "#     signal = signal[~np.isnan(signal)] #drop nans\n",
        "#     r_peaks = ecg.engzee_segmenter(signal, 300)['rpeaks'] #300 is the sampling rate afaik\n",
        "#     # print(r_peaks)\n",
        "\n",
        "#     if len(r_peaks) >= 5:\n",
        "#         #print(ecg.extract_heartbeats(signal, r_peaks, 300))\n",
        "#         beats = ecg.extract_heartbeats(signal, r_peaks, 300)['templates']\n",
        "#         if len(beats) != 0:\n",
        "#             r_diffs = np.diff(r_peaks)\n",
        "#             mu = np.mean(beats, axis=0)[0::10] \n",
        "#             mini = np.amin(beats, axis=0)[0::10] \n",
        "#             maxa = np.amax(beats, axis=0)[0::10]  \n",
        "#             var = np.std(beats, axis=0)[0::10] \n",
        "#             r_mean = np.mean(r_diffs)\n",
        "#             r_mini = np.amin(r_diffs) \n",
        "#             r_maxa = np.amax(r_diffs)  \n",
        "#             r_var = np.std(r_peaks)\n",
        "#             r_med = np.median(r_peaks)\n",
        "#             # md = np.median(beats, axis=0)\n",
        "#             r_stats = np.array([r_mean,r_mini,r_maxa,r_var,r_med])\n",
        "\n",
        "#             #HRV STATS\n",
        "#             r_peaks_s = r_peaks/300\n",
        "#             a = welch_psd(rpeaks=r_peaks_s, show=False, show_param=False, legend=False)#, fbands=None)\n",
        "#             hrv_stats = np.concatenate((a[\"fft_peak\"],a[\"fft_rel\"],a[\"fft_abs\"],a[\"fft_log\"]))\n",
        "#             return np.array(np.concatenate((mu,var,mini,maxa,r_stats,hrv_stats)))\n",
        "#         print(f\"Inappropriate input encountered: len(r_peaks) was >=5 but len(beats)=0 => peaks = {len(r_peaks)}, len(beats)={len(beats)}, signal length ={len(signal)}\")\n",
        "#     print(f\"Inappropriate input encountered: len(r_peaks) was <5 => peaks = {len(r_peaks)}, signal length ={len(signal)}\")\n",
        "#     return np.ones(4*18+5+4*3) #np.array([np.ones(18),np.ones(18),np.ones(18),np.ones(18)])"
      ],
      "execution_count": null,
      "outputs": []
    },
    {
      "cell_type": "code",
      "metadata": {
        "id": "wgvWqyYTmMVQ"
      },
      "source": [
        "# extracted_features = np.apply_along_axis(extract_features, 1, X_train)"
      ],
      "execution_count": 131,
      "outputs": []
    },
    {
      "cell_type": "code",
      "metadata": {
        "id": "kEu9x2hH1zn5"
      },
      "source": [
        "bool_extracted = (extracted_features_l == np.array(np.ones(5*27+5*4+2+2+2+2*4+1+1+61))).all(axis=1)"
      ],
      "execution_count": 168,
      "outputs": []
    },
    {
      "cell_type": "code",
      "metadata": {
        "colab": {
          "base_uri": "https://localhost:8080/"
        },
        "id": "od4zeoGt2OP4",
        "outputId": "74cda74e-8c11-4b4c-fb7e-96db6e945952"
      },
      "source": [
        "bool_extracted"
      ],
      "execution_count": 169,
      "outputs": [
        {
          "output_type": "execute_result",
          "data": {
            "text/plain": [
              "array([False, False, False, ..., False, False, False])"
            ]
          },
          "metadata": {},
          "execution_count": 169
        }
      ]
    },
    {
      "cell_type": "code",
      "metadata": {
        "id": "yDDX8uXtx7Qm"
      },
      "source": [
        "extracted_features_valid = extracted_features_l[~bool_extracted]"
      ],
      "execution_count": 170,
      "outputs": []
    },
    {
      "cell_type": "code",
      "metadata": {
        "colab": {
          "base_uri": "https://localhost:8080/"
        },
        "id": "g9VMVjnE4nnd",
        "outputId": "87d5e744-838c-4734-be59-e73f920f385d"
      },
      "source": [
        "extracted_features_valid.shape"
      ],
      "execution_count": 171,
      "outputs": [
        {
          "output_type": "execute_result",
          "data": {
            "text/plain": [
              "(5117, 232)"
            ]
          },
          "metadata": {},
          "execution_count": 171
        }
      ]
    },
    {
      "cell_type": "code",
      "metadata": {
        "id": "x06DmrDY4-Ou"
      },
      "source": [
        "extracted_features_collapsed = extracted_features_valid#np.concatenate(np.stack(extracted_features_valid,axis=1),axis=1)\n",
        "labels_collapsed = y_train[~bool_extracted]"
      ],
      "execution_count": 172,
      "outputs": []
    },
    {
      "cell_type": "code",
      "metadata": {
        "colab": {
          "base_uri": "https://localhost:8080/"
        },
        "id": "JrUplHu17nL8",
        "outputId": "4fb0d51f-7304-4995-a1ac-5409404a1a1c"
      },
      "source": [
        "extracted_features_collapsed.shape"
      ],
      "execution_count": 173,
      "outputs": [
        {
          "output_type": "execute_result",
          "data": {
            "text/plain": [
              "(5117, 232)"
            ]
          },
          "metadata": {},
          "execution_count": 173
        }
      ]
    },
    {
      "cell_type": "code",
      "metadata": {
        "id": "DS-Gq44vmp79"
      },
      "source": [
        "# #check if all inappropriate ones are noise:\n",
        "# hopefully_noise_3 = y_train[bool_extracted]\n",
        "# hopefully_noise_3"
      ],
      "execution_count": 131,
      "outputs": []
    },
    {
      "cell_type": "markdown",
      "metadata": {
        "id": "WO_rakKYK0mn"
      },
      "source": [
        "------------------------------------------------------Classification------------------------------------------------"
      ]
    },
    {
      "cell_type": "code",
      "metadata": {
        "id": "pYLjPeWj8cLh"
      },
      "source": [
        "#Training-val split\n",
        "extracted_features_collapsed_a = extracted_features_collapsed[:4660]\n",
        "labels_collapsed_a = labels_collapsed[:4660]\n",
        "extracted_features_collapsed_b = extracted_features_collapsed[4660:]\n",
        "labels_collapsed_b = labels_collapsed[4660:]"
      ],
      "execution_count": 174,
      "outputs": []
    },
    {
      "cell_type": "code",
      "metadata": {
        "id": "lRsMj58N8H8d"
      },
      "source": [
        "from sklearn.ensemble import GradientBoostingClassifier\n",
        "from sklearn.neural_network import MLPClassifier\n",
        "from sklearn.utils.class_weight import compute_sample_weight"
      ],
      "execution_count": 106,
      "outputs": []
    },
    {
      "cell_type": "code",
      "metadata": {
        "colab": {
          "base_uri": "https://localhost:8080/"
        },
        "id": "KAkpNxqXe3e6",
        "outputId": "44e92cc2-4f25-4e6e-e18d-1e1da153fea8"
      },
      "source": [
        "#Weigh examples\n",
        "weighted_labels = compute_sample_weight( class_weight= \"balanced\" , y =labels_collapsed)\n",
        "weighted_labels "
      ],
      "execution_count": 175,
      "outputs": [
        {
          "output_type": "execute_result",
          "data": {
            "text/plain": [
              "array([0.42219472, 0.42219472, 0.42219472, ..., 0.42219472, 0.42219472,\n",
              "       0.86787653])"
            ]
          },
          "metadata": {},
          "execution_count": 175
        }
      ]
    },
    {
      "cell_type": "code",
      "metadata": {
        "id": "elXVSr5l-LTL",
        "cellView": "form"
      },
      "source": [
        "#@title hide pls\n",
        "# !pip install pytorch-tabnet\n",
        "# from pytorch_tabnet.tab_model import TabNetClassifier, TabNetRegressor\n",
        "# tab = TabNetClassifier(n_d=24,n_a=24)  #TabNetRegressor()\n",
        "# tab.fit(extracted_features_collapsed_a[:4300], labels_collapsed_a[:4300],eval_set=[(extracted_features_collapsed_a[4300:], labels_collapsed_a[4300:])],patience=150, max_epochs=1000)\n",
        "# np.sum(labels_collapsed_b == tab.predict(extracted_features_collapsed_b))/len(labels_collapsed_b)\n",
        "# #got 0.723, and it even didnt train on the last 300 datapoints"
      ],
      "execution_count": null,
      "outputs": []
    },
    {
      "cell_type": "code",
      "metadata": {
        "id": "TcmPzuct_F7f"
      },
      "source": [
        "# weighted_labels[labels_collapsed==0] *=0.8\n",
        "# weighted_labels[labels_collapsed==1] *=1.2\n",
        "# weighted_labels[labels_collapsed==2] *=1.2\n",
        "# weighted_labels[labels_collapsed==3] *=1.5\n",
        "# weighted_labels[labels_collapsed==0] *=0.7\n",
        "# weighted_labels[labels_collapsed==1] *=1.4\n",
        "# weighted_labels[labels_collapsed==2] *=1.4\n",
        "# weighted_labels[labels_collapsed==3] *=1.7"
      ],
      "execution_count": 140,
      "outputs": []
    },
    {
      "cell_type": "code",
      "metadata": {
        "colab": {
          "base_uri": "https://localhost:8080/"
        },
        "id": "gJg12-A0yDWX",
        "outputId": "957cd2af-547d-4c99-f772-2336f5dc0522"
      },
      "source": [
        "!pip install lightgbm"
      ],
      "execution_count": 108,
      "outputs": [
        {
          "output_type": "stream",
          "name": "stdout",
          "text": [
            "Requirement already satisfied: lightgbm in /usr/local/lib/python3.7/dist-packages (2.2.3)\n",
            "Requirement already satisfied: scipy in /usr/local/lib/python3.7/dist-packages (from lightgbm) (1.4.1)\n",
            "Requirement already satisfied: scikit-learn in /usr/local/lib/python3.7/dist-packages (from lightgbm) (1.0.1)\n",
            "Requirement already satisfied: numpy in /usr/local/lib/python3.7/dist-packages (from lightgbm) (1.19.5)\n",
            "Requirement already satisfied: threadpoolctl>=2.0.0 in /usr/local/lib/python3.7/dist-packages (from scikit-learn->lightgbm) (3.0.0)\n",
            "Requirement already satisfied: joblib>=0.11 in /usr/local/lib/python3.7/dist-packages (from scikit-learn->lightgbm) (1.1.0)\n"
          ]
        }
      ]
    },
    {
      "cell_type": "code",
      "metadata": {
        "id": "Ii82xSlKyRI8"
      },
      "source": [
        "from lightgbm import LGBMClassifier"
      ],
      "execution_count": 109,
      "outputs": []
    },
    {
      "cell_type": "code",
      "metadata": {
        "colab": {
          "base_uri": "https://localhost:8080/"
        },
        "id": "9swaatobySIG",
        "outputId": "5e74e802-0686-44ac-f3f4-4a948c86ee66"
      },
      "source": [
        "lgb = LGBMClassifier(n_estimators=2000, min_child_weight=3, learning_rate=0.1, max_depth=9, random_state=0)\n",
        "lgb.fit(extracted_features_collapsed_a, labels_collapsed_a, weighted_labels[:4660])\n",
        "np.sum(labels_collapsed_b == lgb.predict(extracted_features_collapsed_b))/len(labels_collapsed_b)"
      ],
      "execution_count": 189,
      "outputs": [
        {
          "output_type": "execute_result",
          "data": {
            "text/plain": [
              "0.8402625820568927"
            ]
          },
          "metadata": {},
          "execution_count": 189
        }
      ]
    },
    {
      "cell_type": "code",
      "metadata": {
        "colab": {
          "base_uri": "https://localhost:8080/"
        },
        "id": "VhL5UsXbXqkQ",
        "outputId": "656f5b8d-9057-412a-cd22-490e63fd835f"
      },
      "source": [
        "457*0.838"
      ],
      "execution_count": 143,
      "outputs": [
        {
          "output_type": "execute_result",
          "data": {
            "text/plain": [
              "382.966"
            ]
          },
          "metadata": {},
          "execution_count": 143
        }
      ]
    },
    {
      "cell_type": "code",
      "metadata": {
        "id": "hykzbliT1fi-"
      },
      "source": [
        "pred = lgb.predict(extracted_features_collapsed_b)\n",
        "tot = 0\n",
        "count0=0\n",
        "count1=0\n",
        "count2=0\n",
        "count3=0\n",
        "\n",
        "for i in range(5117-4660):\n",
        "  signal, r_peaks, heart_rates = (extracted_rpeaks[i+4660][0],extracted_rpeaks[i+4660][1],extracted_rpeaks[i+4660][2])\n",
        "  if pred[i]!=labels_collapsed_b[i]:\n",
        "    print(f\"actual label is {labels_collapsed_b[i]} predicted is {pred[i]}\")\n",
        "    if labels_collapsed_b[i]==0:\n",
        "      count0+=1\n",
        "    if labels_collapsed_b[i]==1:\n",
        "      count1+=1\n",
        "    if labels_collapsed_b[i]==2:\n",
        "      count2+=1\n",
        "    if labels_collapsed_b[i]==3:\n",
        "      count3+=1\n",
        "# i=0\n",
        "# if labels_collapsed_b[i]==0:\n",
        "# signal, r_peaks, heart_rates = (extracted_rpeaks[i+4660][0],extracted_rpeaks[i+4660][1],extracted_rpeaks[i+4660][2])\n",
        "# if pred[i]!=labels_collapsed_b[i]:\n",
        "#   print(f\"actual label is {labels_collapsed_b[i]} predicted is {pred[i]}\")\n",
        "#   plt.plot"
      ],
      "execution_count": null,
      "outputs": []
    },
    {
      "cell_type": "code",
      "metadata": {
        "colab": {
          "base_uri": "https://localhost:8080/"
        },
        "id": "_p6o7rtUzHrp",
        "outputId": "9be8f4a8-8fcc-4cc1-bfcf-5e0265247a62"
      },
      "source": [
        "lgb = LGBMClassifier(n_estimators=2000, min_child_weight=3, learning_rate=0.1, max_depth=9, random_state=0)\n",
        "lgb.fit(extracted_features_collapsed, labels_collapsed, weighted_labels)\n",
        "np.sum(labels_collapsed == lgb.predict(extracted_features_collapsed))/len(labels_collapsed)"
      ],
      "execution_count": 177,
      "outputs": [
        {
          "output_type": "execute_result",
          "data": {
            "text/plain": [
              "1.0"
            ]
          },
          "metadata": {},
          "execution_count": 177
        }
      ]
    },
    {
      "cell_type": "code",
      "metadata": {
        "colab": {
          "base_uri": "https://localhost:8080/"
        },
        "id": "nTeVMNBz3TvJ",
        "outputId": "f02cd09d-28e9-4c2c-9854-ae10c4731e32"
      },
      "source": [
        "!pip install xgboost\n",
        "from xgboost import XGBClassifier"
      ],
      "execution_count": 49,
      "outputs": [
        {
          "output_type": "stream",
          "name": "stdout",
          "text": [
            "Requirement already satisfied: xgboost in /usr/local/lib/python3.7/dist-packages (0.90)\n",
            "Requirement already satisfied: numpy in /usr/local/lib/python3.7/dist-packages (from xgboost) (1.19.5)\n",
            "Requirement already satisfied: scipy in /usr/local/lib/python3.7/dist-packages (from xgboost) (1.4.1)\n"
          ]
        }
      ]
    },
    {
      "cell_type": "code",
      "metadata": {
        "colab": {
          "base_uri": "https://localhost:8080/"
        },
        "id": "kQkVMcBt3Wb3",
        "outputId": "2f669b94-9be5-445f-ef03-02430ff20478"
      },
      "source": [
        "xgb = XGBClassifier(n_estimators=1250, min_child_weight=3, learning_rate=0.145, max_depth=9, random_state=0)\n",
        "xgb.fit(extracted_features_collapsed_a, labels_collapsed_a, weighted_labels[:4660])\n",
        "np.sum(labels_collapsed_b == xgb.predict(extracted_features_collapsed_b))/len(labels_collapsed_b)"
      ],
      "execution_count": 199,
      "outputs": [
        {
          "output_type": "execute_result",
          "data": {
            "text/plain": [
              "0.838074398249453"
            ]
          },
          "metadata": {},
          "execution_count": 199
        }
      ]
    },
    {
      "cell_type": "code",
      "metadata": {
        "id": "4CDMB1yYxsYf"
      },
      "source": [
        "xgb = XGBClassifier(n_estimators=1250, min_child_weight=3, learning_rate=0.1, max_depth=9, random_state=0)\n",
        "xgb.fit(extracted_features_collapsed, labels_collapsed, weighted_labels)\n",
        "np.sum(labels_collapsed == xgb.predict(extracted_features_collapsed))/len(labels_collapsed)"
      ],
      "execution_count": null,
      "outputs": []
    },
    {
      "cell_type": "code",
      "metadata": {
        "colab": {
          "base_uri": "https://localhost:8080/"
        },
        "id": "2h6amC8Ntq3W",
        "outputId": "dc60f622-b0ef-4071-ec90-2a48d6a2cafd"
      },
      "source": [
        "np.sum(labels_collapsed_a == xgb.predict(extracted_features_collapsed_a))/len(labels_collapsed_a)"
      ],
      "execution_count": null,
      "outputs": [
        {
          "output_type": "execute_result",
          "data": {
            "text/plain": [
              "1.0"
            ]
          },
          "metadata": {},
          "execution_count": 34
        }
      ]
    },
    {
      "cell_type": "markdown",
      "metadata": {
        "id": "Ra8CWzELDOtg"
      },
      "source": [
        "2-step process----------------------------------------"
      ]
    },
    {
      "cell_type": "code",
      "metadata": {
        "id": "U0e_NJcD3UM2"
      },
      "source": [
        "new_dps = extracted_features_collapsed\n",
        "new_labs = np.ones(5117)"
      ],
      "execution_count": 225,
      "outputs": []
    },
    {
      "cell_type": "code",
      "metadata": {
        "id": "JV-mPlZn3b_j"
      },
      "source": [
        "new_labs[~(labels_collapsed==3)] = 0\n",
        "new_labs[labels_collapsed==3] = 1"
      ],
      "execution_count": 226,
      "outputs": []
    },
    {
      "cell_type": "code",
      "metadata": {
        "id": "LT1-_3YBFkdI"
      },
      "source": [
        "new_dps_a = new_dps[:4660]\n",
        "new_labs_a = new_labs[:4660]\n",
        "new_dps_b = new_dps[4660:]\n",
        "new_labs_b = new_labs[4660:]"
      ],
      "execution_count": 227,
      "outputs": []
    },
    {
      "cell_type": "code",
      "metadata": {
        "colab": {
          "base_uri": "https://localhost:8080/"
        },
        "id": "qvz03n8m4tv3",
        "outputId": "99fc8d99-4553-4df3-fac5-2c20b531ab8d"
      },
      "source": [
        "weighted_labels_noise = compute_sample_weight(class_weight= \"balanced\" , y =new_labs)\n",
        "np.unique(weighted_labels_noise)"
      ],
      "execution_count": 232,
      "outputs": [
        {
          "output_type": "execute_result",
          "data": {
            "text/plain": [
              "array([ 0.51718213, 15.05      ])"
            ]
          },
          "metadata": {},
          "execution_count": 232
        }
      ]
    },
    {
      "cell_type": "code",
      "metadata": {
        "id": "QuLdZkaGEafi",
        "colab": {
          "base_uri": "https://localhost:8080/"
        },
        "outputId": "678d9ead-e155-48e9-8789-8284b495bae5"
      },
      "source": [
        "lgb_denoise = LGBMClassifier(n_estimators=1500, learning_rate=0.1, min_child_weight=3, max_depth=9, random_state=0)\n",
        "lgb_denoise.fit(new_dps_a, new_labs_a, weighted_labels_noise[:4660])\n",
        "np.sum(new_labs_b== lgb_denoise.predict(new_dps_b))/len(new_labs_b)"
      ],
      "execution_count": 233,
      "outputs": [
        {
          "output_type": "execute_result",
          "data": {
            "text/plain": [
              "0.9693654266958425"
            ]
          },
          "metadata": {},
          "execution_count": 233
        }
      ]
    },
    {
      "cell_type": "code",
      "metadata": {
        "id": "6Pxxll0j5cB4"
      },
      "source": [
        "new_dps_nono = extracted_features_collapsed[labels_collapsed!=3]\n",
        "new_labs_nono = labels_collapsed[labels_collapsed!=3]"
      ],
      "execution_count": 234,
      "outputs": []
    },
    {
      "cell_type": "code",
      "metadata": {
        "id": "pR2qIi_x6YB6"
      },
      "source": [
        "new_dps_nono_a = new_dps_nono[:4500]\n",
        "new_dps_nono_b = new_dps_nono[4500:]\n",
        "new_labs_nono_a = new_labs_nono[:4500]\n",
        "new_labs_nono_b = new_labs_nono[4500:]"
      ],
      "execution_count": 241,
      "outputs": []
    },
    {
      "cell_type": "code",
      "metadata": {
        "colab": {
          "base_uri": "https://localhost:8080/"
        },
        "id": "qOI6rI_O7I0y",
        "outputId": "c0298605-9b0c-49c7-e3a5-b7270f72c321"
      },
      "source": [
        "weighted_labels_nono = compute_sample_weight(class_weight= \"balanced\" , y =new_labs_nono)\n",
        "np.unique(weighted_labels_nono)"
      ],
      "execution_count": 242,
      "outputs": [
        {
          "output_type": "execute_result",
          "data": {
            "text/plain": [
              "array([0.54422442, 1.11872456, 3.72234763])"
            ]
          },
          "metadata": {},
          "execution_count": 242
        }
      ]
    },
    {
      "cell_type": "code",
      "metadata": {
        "colab": {
          "base_uri": "https://localhost:8080/"
        },
        "id": "nCTCoRNC672R",
        "outputId": "9c8341d2-6abf-40cf-be95-af64b818daa6"
      },
      "source": [
        "lgb_proper = LGBMClassifier(n_estimators=1500, learning_rate=0.1, min_child_weight=3, max_depth=9, random_state=0)\n",
        "lgb_proper.fit(new_dps_nono_a, new_labs_nono_a, weighted_labels_nono[:4500])\n",
        "np.sum(new_labs_nono_b== lgb_proper.predict(new_dps_nono_b))/len(new_labs_nono_b)"
      ],
      "execution_count": 243,
      "outputs": [
        {
          "output_type": "execute_result",
          "data": {
            "text/plain": [
              "0.8523489932885906"
            ]
          },
          "metadata": {},
          "execution_count": 243
        }
      ]
    },
    {
      "cell_type": "markdown",
      "metadata": {
        "id": "0h6gu9IKkL0j"
      },
      "source": [
        "-----------------------------------OTHER METHODS---------------------------------"
      ]
    },
    {
      "cell_type": "code",
      "metadata": {
        "id": "aetOBYu7Koms"
      },
      "source": [
        "from sklearn.pipeline import make_pipeline\n",
        "from sklearn.preprocessing import StandardScaler\n",
        "mlp = make_pipeline(StandardScaler(),MLPClassifier(hidden_layer_sizes=(256, 128, 64), max_iter=1000, alpha=2, verbose=True, solver=\"adam\", learning_rate_init= 0.0005, learning_rate=\"adaptive\", batch_size=512, n_iter_no_change=300))\n",
        "mlp.fit(extracted_features_collapsed_a[:,:-1], labels_collapsed_a)\n",
        "np.sum(labels_collapsed_b == mlp.predict(extracted_features_collapsed_b[:,:-1]))/len(labels_collapsed_b)\n",
        "#gives 0.781"
      ],
      "execution_count": null,
      "outputs": []
    },
    {
      "cell_type": "code",
      "metadata": {
        "id": "HUxdLrETZI4p"
      },
      "source": [
        "mlp = make_pipeline(StandardScaler(),MLPClassifier(hidden_layer_sizes=(512, 256, 128), max_iter=1000, alpha=1, verbose=True, solver=\"adam\", learning_rate_init= 0.0005, learning_rate=\"adaptive\", batch_size=512, n_iter_no_change=300))\n",
        "mlp.fit(extracted_features_collapsed_e, labels_collapsed)\n",
        "np.sum(labels_collapsed == mlp.predict(extracted_features_collapsed_e))/len(labels_collapsed)\n",
        "#gives 0.738 for alpha=1, max_iters=4000"
      ],
      "execution_count": null,
      "outputs": []
    },
    {
      "cell_type": "code",
      "metadata": {
        "colab": {
          "base_uri": "https://localhost:8080/"
        },
        "id": "j0EGMvMZK0-e",
        "outputId": "67557120-c8d5-4356-f0b1-37bb2801c21b"
      },
      "source": [
        "np.sum(labels_collapsed_a == mlp.predict(extracted_features_collapsed_a))/len(labels_collapsed_a)"
      ],
      "execution_count": null,
      "outputs": [
        {
          "output_type": "execute_result",
          "data": {
            "text/plain": [
              "1.0"
            ]
          },
          "metadata": {},
          "execution_count": 101
        }
      ]
    },
    {
      "cell_type": "code",
      "metadata": {
        "id": "d6FK_U5hTjuu"
      },
      "source": [
        "from sklearn.neighbors import KNeighborsClassifier\n",
        "neigh = make_pipeline(StandardScaler(),KNeighborsClassifier(n_neighbors=25, weights='uniform', p=2))\n",
        "neigh.fit(extracted_features_collapsed_a, labels_collapsed_a)\n",
        "np.sum(labels_collapsed_b == neigh.predict(extracted_features_collapsed_b))/len(labels_collapsed_b)"
      ],
      "execution_count": null,
      "outputs": []
    },
    {
      "cell_type": "code",
      "metadata": {
        "colab": {
          "base_uri": "https://localhost:8080/"
        },
        "id": "ksOt6FRJQHuO",
        "outputId": "3a263236-781f-4347-eef0-44a4a7c64ee2"
      },
      "source": [
        "np.isinf(extracted_features_collapsed_a[:,-3:]).any()"
      ],
      "execution_count": null,
      "outputs": [
        {
          "output_type": "execute_result",
          "data": {
            "text/plain": [
              "True"
            ]
          },
          "metadata": {},
          "execution_count": 240
        }
      ]
    },
    {
      "cell_type": "code",
      "metadata": {
        "id": "Gil-LqaKNGx2"
      },
      "source": [
        "extracted_features_collapsed_a_e = np.concatenate((extracted_features_collapsed_a[:,:-9],extracted_features_collapsed_a[:,-6:-3]),axis=1)"
      ],
      "execution_count": null,
      "outputs": []
    },
    {
      "cell_type": "code",
      "metadata": {
        "id": "JTmnlABRPqgn"
      },
      "source": [
        "extracted_features_collapsed_b_e = np.concatenate((extracted_features_collapsed_b[:,:-9],extracted_features_collapsed_b[:,-6:-3]), axis=1)"
      ],
      "execution_count": null,
      "outputs": []
    },
    {
      "cell_type": "code",
      "metadata": {
        "id": "OZ0jIOOtPt2Q"
      },
      "source": [
        "extracted_features_collapsed_e = np.concatenate((extracted_features_collapsed[:,:-9],extracted_features_collapsed[:,-6:-3]), axis=1)"
      ],
      "execution_count": null,
      "outputs": []
    },
    {
      "cell_type": "code",
      "metadata": {
        "colab": {
          "base_uri": "https://localhost:8080/"
        },
        "id": "HZgiB-XQU-1b",
        "outputId": "c544c960-1540-4dec-a5ec-8bab3a91d7a5"
      },
      "source": [
        "from sklearn.pipeline import make_pipeline\n",
        "from sklearn.preprocessing import StandardScaler\n",
        "from sklearn.svm import SVC\n",
        "svc = make_pipeline(StandardScaler(), SVC(gamma='auto', C=6.5))\n",
        "svc.fit(extracted_features_collapsed_a[:,:-1], labels_collapsed_a)\n",
        "np.sum(labels_collapsed_b == svc.predict(extracted_features_collapsed_b[:,:-1]))/len(labels_collapsed_b)"
      ],
      "execution_count": 75,
      "outputs": [
        {
          "output_type": "execute_result",
          "data": {
            "text/plain": [
              "0.7549234135667396"
            ]
          },
          "metadata": {},
          "execution_count": 75
        }
      ]
    },
    {
      "cell_type": "code",
      "metadata": {
        "colab": {
          "base_uri": "https://localhost:8080/"
        },
        "id": "WgMecs-2SDn3",
        "outputId": "6b54fbab-7a5d-4f47-bf1b-c0fa21e76192"
      },
      "source": [
        "from sklearn.ensemble import BaggingClassifier\n",
        "bag = make_pipeline(StandardScaler(), BaggingClassifier(n_estimators=1000, random_state=0))\n",
        "bag.fit(extracted_features_collapsed_a[:,:-1], labels_collapsed_a)\n",
        "np.sum(labels_collapsed_b == bag.predict(extracted_features_collapsed_b[:,:-1]))/len(labels_collapsed_b)\n",
        "#0.772"
      ],
      "execution_count": 76,
      "outputs": [
        {
          "output_type": "execute_result",
          "data": {
            "text/plain": [
              "0.7724288840262582"
            ]
          },
          "metadata": {},
          "execution_count": 76
        }
      ]
    },
    {
      "cell_type": "code",
      "metadata": {
        "colab": {
          "base_uri": "https://localhost:8080/"
        },
        "id": "ptreUH2TW6_N",
        "outputId": "68ef3a31-a5ed-4781-f2e5-8e8242e5cdae"
      },
      "source": [
        "bag = make_pipeline(StandardScaler(), BaggingClassifier(base_estimator=SVC(gamma='auto', C=6.5), n_estimators=20, random_state=0))\n",
        "bag.fit(extracted_features_collapsed_e, labels_collapsed)\n",
        "np.sum(labels_collapsed == bag.predict(extracted_features_collapsed_e))/len(labels_collapsed)"
      ],
      "execution_count": null,
      "outputs": [
        {
          "output_type": "execute_result",
          "data": {
            "text/plain": [
              "0.8662963697679031"
            ]
          },
          "metadata": {},
          "execution_count": 299
        }
      ]
    },
    {
      "cell_type": "code",
      "metadata": {
        "colab": {
          "base_uri": "https://localhost:8080/"
        },
        "id": "HkuNZZdfTimK",
        "outputId": "12687eb7-990b-400e-8029-569aef3690b8"
      },
      "source": [
        "extracted_features_collapsed_e.shape"
      ],
      "execution_count": null,
      "outputs": [
        {
          "output_type": "execute_result",
          "data": {
            "text/plain": [
              "(5041, 83)"
            ]
          },
          "metadata": {},
          "execution_count": 293
        }
      ]
    },
    {
      "cell_type": "code",
      "metadata": {
        "colab": {
          "base_uri": "https://localhost:8080/"
        },
        "id": "WMjX-JP_TJTs",
        "outputId": "c647e747-3d63-430e-a6c4-ddb48be356f8"
      },
      "source": [
        "np.sum(labels_collapsed_a == svc.predict(extracted_features_collapsed_a_e))/len(labels_collapsed_a)"
      ],
      "execution_count": null,
      "outputs": [
        {
          "output_type": "execute_result",
          "data": {
            "text/plain": [
              "0.8660087719298246"
            ]
          },
          "metadata": {},
          "execution_count": 275
        }
      ]
    },
    {
      "cell_type": "code",
      "metadata": {
        "colab": {
          "base_uri": "https://localhost:8080/"
        },
        "id": "c217NnfN8N7Z",
        "outputId": "044bd144-8101-4c9f-8c30-51885357b699"
      },
      "source": [
        "gbt = GradientBoostingClassifier(n_estimators=700, learning_rate=0.1, random_state=1)\n",
        "gbt.fit(extracted_features_collapsed_a, labels_collapsed_a, weighted_labels[:4600])\n",
        "np.sum(labels_collapsed_b == gbt.predict(extracted_features_collapsed_b))/len(labels_collapsed_b)"
      ],
      "execution_count": null,
      "outputs": [
        {
          "output_type": "execute_result",
          "data": {
            "text/plain": [
              "0.6340956340956341"
            ]
          },
          "metadata": {},
          "execution_count": 243
        }
      ]
    },
    {
      "cell_type": "code",
      "metadata": {
        "colab": {
          "base_uri": "https://localhost:8080/"
        },
        "id": "MU_7n28r_jzI",
        "outputId": "aacecb51-4d5e-4143-ce9e-722dedee248b"
      },
      "source": [
        "np.sum(labels_collapsed_a == gbt.predict(extracted_features_collapsed_a))/len(labels_collapsed_a)"
      ],
      "execution_count": null,
      "outputs": [
        {
          "output_type": "execute_result",
          "data": {
            "text/plain": [
              "0.9923913043478261"
            ]
          },
          "metadata": {},
          "execution_count": 244
        }
      ]
    },
    {
      "cell_type": "code",
      "metadata": {
        "colab": {
          "base_uri": "https://localhost:8080/"
        },
        "id": "rAOOZZRt_s3B",
        "outputId": "579a8fd3-e180-4358-d0ab-96107f797dae"
      },
      "source": [
        "np.sum(labels_collapsed_b == gbt.predict(extracted_features_collapsed_b))/len(labels_collapsed_b)"
      ],
      "execution_count": null,
      "outputs": [
        {
          "output_type": "execute_result",
          "data": {
            "text/plain": [
              "0.6340956340956341"
            ]
          },
          "metadata": {},
          "execution_count": 245
        }
      ]
    },
    {
      "cell_type": "markdown",
      "metadata": {
        "id": "XJkFLCRNKwAH"
      },
      "source": [
        "--------------------------------------------------Making predictions-----------------------------------------------"
      ]
    },
    {
      "cell_type": "code",
      "metadata": {
        "id": "eX-L0EVwDaew"
      },
      "source": [
        "X_test = test_X_tensor.numpy()"
      ],
      "execution_count": 112,
      "outputs": []
    },
    {
      "cell_type": "code",
      "metadata": {
        "colab": {
          "base_uri": "https://localhost:8080/"
        },
        "id": "De9q6dDe9hoN",
        "outputId": "c9ef4071-db41-4626-a378-1716861381a4"
      },
      "source": [
        "X_test.shape"
      ],
      "execution_count": 113,
      "outputs": [
        {
          "output_type": "execute_result",
          "data": {
            "text/plain": [
              "(3411, 17842)"
            ]
          },
          "metadata": {},
          "execution_count": 113
        }
      ]
    },
    {
      "cell_type": "code",
      "metadata": {
        "id": "k8OkhDXhyjEX"
      },
      "source": [
        "extracted_rpeaks_test=[]"
      ],
      "execution_count": 114,
      "outputs": []
    },
    {
      "cell_type": "code",
      "metadata": {
        "id": "igWjIfMryeIJ",
        "colab": {
          "base_uri": "https://localhost:8080/"
        },
        "outputId": "087fa2a9-24e8-4959-fbb5-3dedad9907f3"
      },
      "source": [
        "for i in range(len(X_test)):\n",
        "    signal = X_test[i]\n",
        "    signal = signal[~np.isnan(signal)] #drop nans\n",
        "    if (i%500==0):\n",
        "      print(i)\n",
        "    res = ecg.ecg(signal, sampling_rate=300, show=False)\n",
        "    r_peaks = res['rpeaks']\n",
        "    heart_rates = res[\"heart_rate\"]\n",
        "    if len(r_peaks) < 5:\n",
        "      print(f\"Inappropriate input encountered: len(r_peaks) = {len(r_peaks)}, len(signal)={len(signal)} index is {i}\")\n",
        "    # else:\n",
        "    #   print(f\"len(r_peaks) = {len(r_peaks)}, len(signal)={len(signal)} index is {i}\")\n",
        "    # r_peaks = ecg.engzee_segmenter(signal, 300)['rpeaks'] #300 is the sampling rate afaik\n",
        "    extracted_rpeaks_test.append([signal,r_peaks,heart_rates])    "
      ],
      "execution_count": 115,
      "outputs": [
        {
          "output_type": "stream",
          "name": "stdout",
          "text": [
            "0\n",
            "500\n",
            "1000\n",
            "1500\n",
            "2000\n",
            "2500\n",
            "3000\n"
          ]
        }
      ]
    },
    {
      "cell_type": "code",
      "metadata": {
        "id": "IpCz28WP0j_L"
      },
      "source": [
        "extracted_features_test = np.ones((len(X_test),5*27+5*4+2+2+2+2*4+1+1+61))"
      ],
      "execution_count": 180,
      "outputs": []
    },
    {
      "cell_type": "code",
      "metadata": {
        "id": "px8SwzMsy5HJ"
      },
      "source": [
        "for i in range(len(extracted_rpeaks_test)):\n",
        "    signal, r_peaks, heart_rates = (extracted_rpeaks_test[i][0],extracted_rpeaks_test[i][1],extracted_rpeaks_test[i][2])\n",
        "    if (i%500==0):\n",
        "      print(f\"processing point {i}\")\n",
        "    if len(r_peaks) >= 5:\n",
        "        beats = ecg.extract_heartbeats(signal,r_peaks,300,before=0.45,after=0.45)['templates']\n",
        "        if len(beats) != 0:\n",
        "            r_diffs = np.diff(r_peaks)\n",
        "            mu = np.mean(beats, axis=0)[0::10] \n",
        "            mini = np.amin(beats, axis=0)[0::10] \n",
        "            maxa = np.amax(beats, axis=0)[0::10]  \n",
        "            var = np.std(beats, axis=0)[0::10] \n",
        "            med = np.median(beats, axis=0)[0::10] \n",
        "            r_mu = np.mean(r_diffs)\n",
        "            r_mini = np.amin(r_diffs) \n",
        "            r_maxa = np.amax(r_diffs)  \n",
        "            r_var = np.std(r_diffs)\n",
        "            r_med = np.median(r_diffs)\n",
        "            smentropy = ant.sample_entropy(mu)\n",
        "            appentropy = ant.app_entropy(mu)\n",
        "\n",
        "            r_diffs_diffs = np.diff(r_diffs)\n",
        "            r_diffs_mu = np.mean(r_diffs_diffs)\n",
        "            r_diffs_maxa = np.amax(r_diffs_diffs)\n",
        "            r_diffs_mini = np.amin(r_diffs_diffs)\n",
        "            r_diffs_var = np.std(r_diffs_diffs)\n",
        "            r_diffs_med = np.median(r_diffs_diffs)\n",
        "            r_diffs_25 = np.percentile(r_diffs_diffs,25)\n",
        "            r_diffs_75 = np.percentile(r_diffs_diffs,75)\n",
        "            nn_50 = len(r_diffs_diffs[r_diffs_diffs>15]) / len(r_diffs_diffs)\n",
        "            nn_20 = len(r_diffs_diffs[r_diffs_diffs>6]) / len(r_diffs_diffs)\n",
        "            c = np.mean(sorted(heart_rates[:-2]))*len(signal)/18000\n",
        "            rat = np.abs((len(r_peaks)/c)-1)\n",
        "\n",
        "            r_diffs_diffs_2 = np.diff(r_diffs_diffs)\n",
        "            r_diffs2_mu = np.mean(r_diffs_diffs_2)\n",
        "            r_diffs2_maxa = np.amax(r_diffs_diffs_2)\n",
        "            r_diffs2_mini = np.amin(r_diffs_diffs_2)\n",
        "            r_diffs2_var = np.std(r_diffs_diffs_2)\n",
        "            r_diffs2_med = np.median(r_diffs_diffs_2)\n",
        "            r_diffs2 = np.array([r_diffs_mu,r_diffs_maxa,r_diffs_mini,r_diffs_var,r_diffs_med])\n",
        "\n",
        "            abla, lospowers = scipy.signal.welch(signal, 300, 'flattop', 1024, scaling='spectrum')\n",
        "\n",
        "            #heart rate stats\n",
        "            if len(heart_rates)>0:\n",
        "              hr_mu = np.mean(heart_rates)\n",
        "              hr_maxa = np.amax(heart_rates)\n",
        "              hr_mini = np.amin(heart_rates)\n",
        "              hr_var = np.std(heart_rates)\n",
        "              hr_med = np.median(heart_rates)\n",
        "            else:\n",
        "              hr_mu = np.nan\n",
        "              hr_maxa = np.nan\n",
        "              hr_mini = np.nan\n",
        "              hr_var = np.nan\n",
        "              hr_med = np.nan\n",
        "            r_stats = np.array([r_mu,r_var,r_mini,r_maxa,r_med,r_diffs_mu,r_diffs_maxa,r_diffs_mini,r_diffs_var,r_diffs_med, r_diffs_25, r_diffs_75,hr_mu,hr_maxa,hr_mini,hr_var,hr_med,nn_50,nn_20,smentropy,appentropy,rat])\n",
        "            r_stats = np.concatenate((r_stats,r_diffs2,lospowers[0:10],lospowers[10::10]))\n",
        "\n",
        "            #HRV STATS\n",
        "\n",
        "            r_peaks_s = r_peaks/300\n",
        "            a = welch_psd(rpeaks=r_peaks_s, fbands = fbands, show=False, show_param=False, legend=False)#, fbands=None)\n",
        "            hrv_stats = np.concatenate((a[\"fft_peak\"],a[\"fft_abs\"],np.array([a[\"fft_ratio\"]])))\n",
        "            extracted_features_test[i] = np.array(np.concatenate((mu,var,mini,maxa,med,r_stats,hrv_stats)))\n",
        "    else:  \n",
        "        print(f\"Inappropriate input encountered: len(r_peaks) = {len(r_peaks)}, len(signal)={len(signal)} index is {i}\")\n",
        "        extracted_features_test[i]=np.ones(5*27+5*4+2+2+2+2*4+1+1+61) #np.array([np.ones(18),np.ones(18),np.ones(18),np.ones(18)])"
      ],
      "execution_count": null,
      "outputs": []
    },
    {
      "cell_type": "code",
      "metadata": {
        "id": "GDRoo0T4D8fq"
      },
      "source": [
        "# extracted_features_test = np.apply_along_axis(extract_features, 1, X_test)"
      ],
      "execution_count": null,
      "outputs": []
    },
    {
      "cell_type": "code",
      "metadata": {
        "id": "C4htKqiz9UOY"
      },
      "source": [
        "bool_extracted_test = (extracted_features_test == np.array(np.ones(5*27+5*4+2+2+2+2*4+1+1+61))).all(axis=1)"
      ],
      "execution_count": 182,
      "outputs": []
    },
    {
      "cell_type": "code",
      "metadata": {
        "colab": {
          "base_uri": "https://localhost:8080/"
        },
        "id": "4DLoai8i9Y-y",
        "outputId": "a984e087-ac6e-4dc6-d1bc-e647ae522d82"
      },
      "source": [
        "extracted_features_test.shape"
      ],
      "execution_count": 183,
      "outputs": [
        {
          "output_type": "execute_result",
          "data": {
            "text/plain": [
              "(3411, 232)"
            ]
          },
          "metadata": {},
          "execution_count": 183
        }
      ]
    },
    {
      "cell_type": "code",
      "metadata": {
        "colab": {
          "base_uri": "https://localhost:8080/"
        },
        "id": "D97pOFbu992B",
        "outputId": "da2d9683-0dde-4cf1-97ff-3edbac86ce93"
      },
      "source": [
        "extracted_features_test_valid = extracted_features_test[~bool_extracted_test]\n",
        "extracted_features_test_valid.shape"
      ],
      "execution_count": 184,
      "outputs": [
        {
          "output_type": "execute_result",
          "data": {
            "text/plain": [
              "(3411, 232)"
            ]
          },
          "metadata": {},
          "execution_count": 184
        }
      ]
    },
    {
      "cell_type": "code",
      "metadata": {
        "id": "CLJYoUmM-lUn"
      },
      "source": [
        "predictiontest = np.ones(3411)"
      ],
      "execution_count": 185,
      "outputs": []
    },
    {
      "cell_type": "code",
      "metadata": {
        "id": "Q-06mZZh9kmq"
      },
      "source": [
        "#predictiontest[~bool_extracted_test] = xgb.predict(extracted_features_test_valid)"
      ],
      "execution_count": null,
      "outputs": []
    },
    {
      "cell_type": "code",
      "metadata": {
        "id": "20dltWSBgNsy"
      },
      "source": [
        "p1 = xgb.predict(extracted_features_test_valid)"
      ],
      "execution_count": 178,
      "outputs": []
    },
    {
      "cell_type": "code",
      "metadata": {
        "id": "9HR2p-9S0ui2"
      },
      "source": [
        "p1 = lgb.predict(extracted_features_test_valid)"
      ],
      "execution_count": 186,
      "outputs": []
    },
    {
      "cell_type": "code",
      "metadata": {
        "colab": {
          "base_uri": "https://localhost:8080/"
        },
        "cellView": "form",
        "id": "lMumPyIckE8Z",
        "outputId": "f5a52b27-82e8-4988-b5b2-7bcbeb6f4399"
      },
      "source": [
        "#@title ablaoubla\n",
        "# from scipy import stats\n",
        "# comb = np.concatenate((p1[:,np.newaxis],p2[:,np.newaxis],p3[:,np.newaxis]),axis=1)\n",
        "# comb.shape"
      ],
      "execution_count": null,
      "outputs": [
        {
          "output_type": "execute_result",
          "data": {
            "text/plain": [
              "(3356, 3)"
            ]
          },
          "metadata": {},
          "execution_count": 391
        }
      ]
    },
    {
      "cell_type": "code",
      "metadata": {
        "colab": {
          "base_uri": "https://localhost:8080/"
        },
        "id": "ixuS8Pnsk-h9",
        "outputId": "d292b972-e9e9-4cc0-fb4d-e26117b36ff3"
      },
      "source": [
        "# def get_mode(a):\n",
        "#   return stats.mode(a)[0][0]\n",
        "p1.shape"
      ],
      "execution_count": 124,
      "outputs": [
        {
          "output_type": "execute_result",
          "data": {
            "text/plain": [
              "(3411,)"
            ]
          },
          "metadata": {},
          "execution_count": 124
        }
      ]
    },
    {
      "cell_type": "code",
      "metadata": {
        "id": "CpR0nCrhWpdO"
      },
      "source": [
        "predictiontest[~bool_extracted_test]  = p1 #np.apply_along_axis(get_mode, 1, comb)"
      ],
      "execution_count": 187,
      "outputs": []
    },
    {
      "cell_type": "code",
      "metadata": {
        "id": "nsoig6xG7san"
      },
      "source": [
        "predictiontest[bool_extracted_test] = 0"
      ],
      "execution_count": 67,
      "outputs": []
    },
    {
      "cell_type": "code",
      "metadata": {
        "colab": {
          "base_uri": "https://localhost:8080/"
        },
        "id": "O5BO0EFzCJk_",
        "outputId": "05cfc5d2-d54a-4e20-cc29-d9207f6d41cc"
      },
      "source": [
        "list(predictiontest).count(3)"
      ],
      "execution_count": null,
      "outputs": [
        {
          "output_type": "execute_result",
          "data": {
            "text/plain": [
              "121"
            ]
          },
          "metadata": {},
          "execution_count": 298
        }
      ]
    },
    {
      "cell_type": "code",
      "metadata": {
        "id": "_09XDqmAKDtm"
      },
      "source": [
        "test_y = pd.read_csv('sample.csv')\n",
        "test_y.loc[:,\"y\"] = predictiontest\n",
        "test_y.to_csv(\"predictions16.csv\", index=False)"
      ],
      "execution_count": 188,
      "outputs": []
    },
    {
      "cell_type": "code",
      "metadata": {
        "id": "eG7sMP2x63r2"
      },
      "source": [
        ""
      ],
      "execution_count": null,
      "outputs": []
    }
  ]
}