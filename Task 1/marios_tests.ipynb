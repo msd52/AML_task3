{
  "nbformat": 4,
  "nbformat_minor": 0,
  "metadata": {
    "colab": {
      "name": "Untitled1.ipynb",
      "provenance": []
    },
    "kernelspec": {
      "name": "python3",
      "display_name": "Python 3"
    },
    "language_info": {
      "name": "python"
    }
  },
  "cells": [
    {
      "cell_type": "code",
      "metadata": {
        "id": "SPExXDtAtV91"
      },
      "source": [
        "import torch\n",
        "import numpy as np\n",
        "import pandas as pd\n",
        "\n",
        "train_X = pd.read_csv('X_train.csv')\n",
        "train_X_tensor = torch.tensor(train_X.values)[:,1:]\n",
        "train_y = pd.read_csv(\"y_train.csv\")\n",
        "train_y_tensor = torch.tensor(train_y.values)[:,1:]\n",
        "\n",
        "test_X = pd.read_csv('X_test.csv')\n",
        "test_X_tensor = torch.tensor(test_X.values)[:,1:]"
      ],
      "execution_count": null,
      "outputs": []
    },
    {
      "cell_type": "markdown",
      "metadata": {
        "id": "g3D-Uf5zYuC_"
      },
      "source": [
        "------------------------------------------------------- IMPUTATION TIME -------------------------------------------------------"
      ]
    },
    {
      "cell_type": "code",
      "metadata": {
        "id": "XFoRDh3X7St9"
      },
      "source": [
        "from sklearn.experimental import enable_iterative_imputer\n",
        "from sklearn.impute import KNNImputer\n",
        "\n",
        "imputer = KNNImputer(n_neighbors=10, weights=\"uniform\")\n",
        "imputer.fit(train_X_tensor.numpy())\n",
        "\n",
        "X_train_post_imp = imputer.transform(train_X_tensor.numpy())\n",
        "\n",
        "postimp = torch.tensor(X_train_post_imp)"
      ],
      "execution_count": null,
      "outputs": []
    },
    {
      "cell_type": "code",
      "metadata": {
        "id": "rEona0CuSI9F"
      },
      "source": [
        "from sklearn.impute import SimpleImputer\n",
        "\n",
        "# X = [[1, 2, nan], [3, 4, 3], [nan, 6, 5], [8, 8, 7]]\n",
        "imputersimple = SimpleImputer(strategy = \"mean\")\n",
        "imputersimple.fit_transform(train_X_tensor.numpy())\n",
        "\n",
        "X_train_post_simple_imp = imputersimple.fit_transform(train_X_tensor.numpy())\n",
        "\n",
        "postsimpleimp = torch.tensor(X_train_post_simple_imp)"
      ],
      "execution_count": null,
      "outputs": []
    },
    {
      "cell_type": "code",
      "metadata": {
        "colab": {
          "base_uri": "https://localhost:8080/"
        },
        "id": "bsJZbMfkJATZ",
        "outputId": "ed56927c-14ad-4c90-81f0-572b6dc5fa1a"
      },
      "source": [
        "train_X_tensor.shape"
      ],
      "execution_count": null,
      "outputs": [
        {
          "output_type": "execute_result",
          "data": {
            "text/plain": [
              "torch.Size([1212, 832])"
            ]
          },
          "metadata": {},
          "execution_count": 4
        }
      ]
    },
    {
      "cell_type": "code",
      "metadata": {
        "colab": {
          "base_uri": "https://localhost:8080/"
        },
        "id": "yI6yU0faNMkO",
        "outputId": "d8464665-bfa2-42d8-fd27-57b163ff3cff"
      },
      "source": [
        "train_y_tensor.shape"
      ],
      "execution_count": null,
      "outputs": [
        {
          "output_type": "execute_result",
          "data": {
            "text/plain": [
              "torch.Size([1212, 1])"
            ]
          },
          "metadata": {},
          "execution_count": 5
        }
      ]
    },
    {
      "cell_type": "markdown",
      "metadata": {
        "id": "8963kf4ulYfi"
      },
      "source": [
        "----------------------------------------------------------------------OUTLIER DETECTION-------------------------------------------------"
      ]
    },
    {
      "cell_type": "code",
      "metadata": {
        "id": "bg5aSkEStwh9"
      },
      "source": [
        "train_y_tensor_np = train_y_tensor.numpy()"
      ],
      "execution_count": null,
      "outputs": []
    },
    {
      "cell_type": "code",
      "metadata": {
        "id": "Vw-OCT28l_T3"
      },
      "source": [
        "from sklearn.ensemble import IsolationForest\n",
        "clf_isoforest = IsolationForest(random_state=0, bootstrap = True)\n",
        "post_outlier = clf_isoforest.fit_predict(X_train_post_imp)"
      ],
      "execution_count": 115,
      "outputs": []
    },
    {
      "cell_type": "code",
      "metadata": {
        "colab": {
          "base_uri": "https://localhost:8080/"
        },
        "id": "Egx4ljFzsIC_",
        "outputId": "328509da-bd30-4cd8-9773-dad7993b2780"
      },
      "source": [
        "for x in range(len(post_outlier)):\n",
        "  if post_outlier[x]!=1:\n",
        "    print(x)"
      ],
      "execution_count": 116,
      "outputs": [
        {
          "output_type": "stream",
          "name": "stdout",
          "text": [
            "39\n",
            "117\n",
            "294\n",
            "311\n",
            "462\n",
            "561\n",
            "648\n",
            "697\n",
            "727\n",
            "769\n",
            "864\n",
            "969\n",
            "986\n",
            "990\n"
          ]
        }
      ]
    },
    {
      "cell_type": "code",
      "metadata": {
        "id": "Vw5SsDoYs5pP"
      },
      "source": [
        "post_outlier+=1"
      ],
      "execution_count": 117,
      "outputs": []
    },
    {
      "cell_type": "code",
      "metadata": {
        "id": "ek5UYwymtAtY"
      },
      "source": [
        "post_outlier = post_outlier/2"
      ],
      "execution_count": 118,
      "outputs": []
    },
    {
      "cell_type": "code",
      "metadata": {
        "id": "pdlg1pfetGZ4"
      },
      "source": [
        "X_train_post_imp = X_train_post_imp[post_outlier==1.0]"
      ],
      "execution_count": 119,
      "outputs": []
    },
    {
      "cell_type": "code",
      "metadata": {
        "id": "tPJ5uxEgtsat"
      },
      "source": [
        "train_y_tensor_np = train_y_tensor_np[post_outlier==1.0]"
      ],
      "execution_count": 120,
      "outputs": []
    },
    {
      "cell_type": "code",
      "metadata": {
        "colab": {
          "base_uri": "https://localhost:8080/"
        },
        "id": "9I-x0jBwuZgI",
        "outputId": "c1c7b685-b36c-47b1-cf1f-ba6e480ad08e"
      },
      "source": [
        "X_train_post_imp.shape"
      ],
      "execution_count": 121,
      "outputs": [
        {
          "output_type": "execute_result",
          "data": {
            "text/plain": [
              "(1191, 832)"
            ]
          },
          "metadata": {},
          "execution_count": 121
        }
      ]
    },
    {
      "cell_type": "code",
      "metadata": {
        "colab": {
          "base_uri": "https://localhost:8080/"
        },
        "id": "2DYFVDj6uc4s",
        "outputId": "a10706fe-f9a1-4d74-8a79-e0b626f2c956"
      },
      "source": [
        "train_y_tensor_np.shape"
      ],
      "execution_count": 122,
      "outputs": [
        {
          "output_type": "execute_result",
          "data": {
            "text/plain": [
              "(1191, 1)"
            ]
          },
          "metadata": {},
          "execution_count": 122
        }
      ]
    },
    {
      "cell_type": "markdown",
      "metadata": {
        "id": "09lSOqBPdml3"
      },
      "source": [
        "------------------------------------------------FEATURE SELECTION--------------------------------------------------"
      ]
    },
    {
      "cell_type": "code",
      "metadata": {
        "id": "35ShXmBddpnr"
      },
      "source": [
        "# from sklearn.feature_selection import RFE\n",
        "# selector = RFE(estimator, n_features_to_select=5, step=1)\n",
        "# selector = selector.fit(X, y)\n",
        "# selector.support_array([ True,  True,  True,  True,  True, False, False, False, False,\n",
        "#        False])\n",
        "# selector.ranking_array([1, 1, 1, 1, 1, 6, 4, 3, 2, 5])"
      ],
      "execution_count": null,
      "outputs": []
    },
    {
      "cell_type": "code",
      "metadata": {
        "id": "R7Vjh5kvdyck"
      },
      "source": [
        ""
      ],
      "execution_count": null,
      "outputs": []
    },
    {
      "cell_type": "markdown",
      "metadata": {
        "id": "WwEAQx8zYm51"
      },
      "source": [
        "---------------------------------------------------------REGRESSION TIME------------------------------------------------------------\n"
      ]
    },
    {
      "cell_type": "code",
      "metadata": {
        "id": "264Y2FhbbKcF"
      },
      "source": [
        "from sklearn.metrics import r2_score\n",
        "post_imp_np = X_train_post_imp"
      ],
      "execution_count": 123,
      "outputs": []
    },
    {
      "cell_type": "markdown",
      "metadata": {
        "id": "iKgaylt3Zu3j"
      },
      "source": [
        "------------------------------------VANILLA-------------------------------\n"
      ]
    },
    {
      "cell_type": "code",
      "metadata": {
        "colab": {
          "base_uri": "https://localhost:8080/"
        },
        "id": "mDWr85PyJA_n",
        "outputId": "9733e737-370c-41f7-b222-726c676929bf"
      },
      "source": [
        "from sklearn.linear_model import LinearRegression\n",
        "\n",
        "reg = LinearRegression().fit(post_imp_np, train_y_tensor_np)\n",
        "prediction = reg.predict(post_imp_np)\n",
        "r2_score(train_y_tensor_np, prediction)"
      ],
      "execution_count": null,
      "outputs": [
        {
          "output_type": "execute_result",
          "data": {
            "text/plain": [
              "0.09821461403769394"
            ]
          },
          "metadata": {},
          "execution_count": 185
        }
      ]
    },
    {
      "cell_type": "markdown",
      "metadata": {
        "id": "o466EKfqa4Im"
      },
      "source": [
        "------------------------------------RIDGE-------------------------------\n"
      ]
    },
    {
      "cell_type": "code",
      "metadata": {
        "id": "5d__6KU1iveN"
      },
      "source": [
        "post_imp_np_a = post_imp_np[:1100]\n",
        "post_imp_np_b = post_imp_np[1100:]\n",
        "train_y_tensor_np_a = train_y_tensor_np[:1100]\n",
        "train_y_tensor_np_b = train_y_tensor_np[1100:]"
      ],
      "execution_count": 124,
      "outputs": []
    },
    {
      "cell_type": "code",
      "metadata": {
        "colab": {
          "base_uri": "https://localhost:8080/"
        },
        "id": "BoSrwpthxV0u",
        "outputId": "85f3e24f-f459-451b-ff26-950c00e326c3"
      },
      "source": [
        "post_imp_np_a.shape"
      ],
      "execution_count": 125,
      "outputs": [
        {
          "output_type": "execute_result",
          "data": {
            "text/plain": [
              "(1100, 832)"
            ]
          },
          "metadata": {},
          "execution_count": 125
        }
      ]
    },
    {
      "cell_type": "code",
      "metadata": {
        "colab": {
          "base_uri": "https://localhost:8080/"
        },
        "id": "hY3N98xiLQK1",
        "outputId": "f5256070-3c8d-4b22-fcf1-2455e5892664"
      },
      "source": [
        "from sklearn.linear_model import Ridge\n",
        "clf = Ridge(alpha=1)\n",
        "clf.fit(post_imp_np_a, train_y_tensor_np_a)\n",
        "prediction_b = clf.predict(post_imp_np_b)\n",
        "r2_score(train_y_tensor_np_b , prediction_b)"
      ],
      "execution_count": null,
      "outputs": [
        {
          "output_type": "stream",
          "name": "stderr",
          "text": [
            "/usr/local/lib/python3.7/dist-packages/sklearn/linear_model/_ridge.py:156: LinAlgWarning: Ill-conditioned matrix (rcond=5.01519e-48): result may not be accurate.\n",
            "  return linalg.solve(A, Xy, sym_pos=True, overwrite_a=True).T\n"
          ]
        },
        {
          "output_type": "execute_result",
          "data": {
            "text/plain": [
              "-0.8653809533656422"
            ]
          },
          "metadata": {},
          "execution_count": 189
        }
      ]
    },
    {
      "cell_type": "code",
      "metadata": {
        "colab": {
          "base_uri": "https://localhost:8080/"
        },
        "id": "traiX67EoJI8",
        "outputId": "c5cd1f79-5a88-4d87-a18f-5ff323ee9f6b"
      },
      "source": [
        "clf2 = Ridge(alpha=0.001)\n",
        "clf2.fit(post_imp_np, train_y_tensor_np)\n",
        "prediction = clf2.predict(post_imp_np)\n",
        "r2_score(train_y_tensor_np , prediction)"
      ],
      "execution_count": null,
      "outputs": [
        {
          "output_type": "stream",
          "name": "stderr",
          "text": [
            "/usr/local/lib/python3.7/dist-packages/sklearn/linear_model/_ridge.py:156: LinAlgWarning: Ill-conditioned matrix (rcond=8.94417e-51): result may not be accurate.\n",
            "  return linalg.solve(A, Xy, sym_pos=True, overwrite_a=True).T\n"
          ]
        },
        {
          "output_type": "execute_result",
          "data": {
            "text/plain": [
              "0.8182962709669428"
            ]
          },
          "metadata": {},
          "execution_count": 198
        }
      ]
    },
    {
      "cell_type": "code",
      "metadata": {
        "id": "YtUhcKgSyXPd"
      },
      "source": [
        "from sklearn.linear_model import Ridge\n",
        "clf = Ridge(alpha=10)\n",
        "clf.fit(post_imp_np_a, train_y_tensor_np_a)\n",
        "prediction_b = clf.predict(post_imp_np_b)\n",
        "r2_score(train_y_tensor_np_b , prediction_b)"
      ],
      "execution_count": null,
      "outputs": []
    },
    {
      "cell_type": "code",
      "metadata": {
        "colab": {
          "base_uri": "https://localhost:8080/"
        },
        "id": "bKjaYJWtRVCW",
        "outputId": "4ab0c938-7374-4030-fe6b-f093a5c5bd35"
      },
      "source": [
        "from sklearn.linear_model import Ridge\n",
        "\n",
        "pre_imp_np = postsimpleimp.numpy()\n",
        "train_y_tensor_np = train_y_tensor.numpy()\n",
        "\n",
        "clf_pre = Ridge(alpha=0.01)\n",
        "clf_pre.fit(pre_imp_np, train_y_tensor_np)\n",
        "\n",
        "prediction_pre = clf_pre.predict(pre_imp_np)\n",
        "r2_score(train_y_tensor_np,prediction_pre)"
      ],
      "execution_count": null,
      "outputs": [
        {
          "output_type": "stream",
          "name": "stderr",
          "text": [
            "/usr/local/lib/python3.7/dist-packages/sklearn/linear_model/_ridge.py:148: LinAlgWarning: Ill-conditioned matrix (rcond=8.84637e-50): result may not be accurate.\n",
            "  overwrite_a=True).T\n"
          ]
        },
        {
          "output_type": "execute_result",
          "data": {
            "text/plain": [
              "0.8089185316978174"
            ]
          },
          "metadata": {},
          "execution_count": 49
        }
      ]
    },
    {
      "cell_type": "markdown",
      "metadata": {
        "id": "f8GoGDv6JPaP"
      },
      "source": [
        "----------------------------------RIDGE WITH FEATURE SUBSET SELECTION-----------------------------"
      ]
    },
    {
      "cell_type": "code",
      "metadata": {
        "colab": {
          "base_uri": "https://localhost:8080/"
        },
        "id": "eAJclOljM1GA",
        "outputId": "e508b9f6-d4ef-4fd2-a0f0-4bf2e46c0e3d"
      },
      "source": [
        "from sklearn.feature_selection import SelectKBest, f_regression,  mutual_info_regression\n",
        "fs = SelectKBest(f_regression, k=200) \n",
        "post_imp_subset = fs.fit_transform(post_imp_np_a, train_y_tensor_np_a)\n",
        "post_imp_support= fs.get_support()\n",
        "post_imp_subset_a = post_imp_np_a[:,post_imp_support]"
      ],
      "execution_count": 147,
      "outputs": [
        {
          "output_type": "stream",
          "name": "stderr",
          "text": [
            "/usr/local/lib/python3.7/dist-packages/sklearn/utils/validation.py:760: DataConversionWarning: A column-vector y was passed when a 1d array was expected. Please change the shape of y to (n_samples, ), for example using ravel().\n",
            "  y = column_or_1d(y, warn=True)\n",
            "/usr/local/lib/python3.7/dist-packages/sklearn/feature_selection/_univariate_selection.py:293: RuntimeWarning: invalid value encountered in sqrt\n",
            "  n_samples * X_means ** 2)\n",
            "/usr/local/lib/python3.7/dist-packages/sklearn/feature_selection/_univariate_selection.py:299: RuntimeWarning: divide by zero encountered in true_divide\n",
            "  corr /= X_norms\n",
            "/usr/local/lib/python3.7/dist-packages/sklearn/feature_selection/_univariate_selection.py:299: RuntimeWarning: invalid value encountered in true_divide\n",
            "  corr /= X_norms\n",
            "/usr/local/lib/python3.7/dist-packages/sklearn/feature_selection/_univariate_selection.py:304: RuntimeWarning: invalid value encountered in true_divide\n",
            "  F = corr ** 2 / (1 - corr ** 2) * degrees_of_freedom\n"
          ]
        }
      ]
    },
    {
      "cell_type": "code",
      "metadata": {
        "id": "0PE-NzuqTD-h"
      },
      "source": [
        "post_imp_subset_b = post_imp_np_b[:, post_imp_support]"
      ],
      "execution_count": 148,
      "outputs": []
    },
    {
      "cell_type": "code",
      "metadata": {
        "colab": {
          "base_uri": "https://localhost:8080/"
        },
        "id": "b3lq0j3gRmUE",
        "outputId": "6061e51a-cd30-4576-e13f-dca5f6c0d633"
      },
      "source": [
        "post_imp_subset.shape"
      ],
      "execution_count": 142,
      "outputs": [
        {
          "output_type": "execute_result",
          "data": {
            "text/plain": [
              "(1100, 300)"
            ]
          },
          "metadata": {},
          "execution_count": 142
        }
      ]
    },
    {
      "cell_type": "code",
      "metadata": {
        "colab": {
          "base_uri": "https://localhost:8080/"
        },
        "id": "fB69c_8MIBii",
        "outputId": "c4d78d37-8809-4af8-b7a0-29d289d49dcb"
      },
      "source": [
        "clf_subset = Ridge(alpha=10)\n",
        "clf_subset.fit(post_imp_subset_a, train_y_tensor_np_a)\n",
        "prediction_b = clf_subset.predict(post_imp_subset_b)\n",
        "r2_score(train_y_tensor_np_b , prediction_b)"
      ],
      "execution_count": null,
      "outputs": [
        {
          "output_type": "stream",
          "name": "stderr",
          "text": [
            "/usr/local/lib/python3.7/dist-packages/sklearn/linear_model/_ridge.py:156: LinAlgWarning: Ill-conditioned matrix (rcond=8.4029e-47): result may not be accurate.\n",
            "  return linalg.solve(A, Xy, sym_pos=True, overwrite_a=True).T\n"
          ]
        },
        {
          "output_type": "execute_result",
          "data": {
            "text/plain": [
              "0.304098303142631"
            ]
          },
          "metadata": {},
          "execution_count": 130
        }
      ]
    },
    {
      "cell_type": "code",
      "metadata": {
        "id": "izunupn4khnE"
      },
      "source": [
        "post_imp_subset_full = post_imp_np[:, post_imp_support]"
      ],
      "execution_count": null,
      "outputs": []
    },
    {
      "cell_type": "code",
      "metadata": {
        "colab": {
          "base_uri": "https://localhost:8080/"
        },
        "id": "nMgwPff7kzil",
        "outputId": "d6929588-2990-44b2-d8cf-89c316a92bb7"
      },
      "source": [
        "clf_subset_full = Ridge(alpha=10)\n",
        "clf_subset_full.fit(post_imp_subset_a, train_y_tensor_np_a)\n",
        "prediction_b = clf_subset_full.predict(post_imp_subset_b)\n",
        "r2_score(train_y_tensor_np_b , prediction_b)"
      ],
      "execution_count": null,
      "outputs": [
        {
          "output_type": "stream",
          "name": "stderr",
          "text": [
            "/usr/local/lib/python3.7/dist-packages/sklearn/linear_model/_ridge.py:156: LinAlgWarning: Ill-conditioned matrix (rcond=8.4029e-47): result may not be accurate.\n",
            "  return linalg.solve(A, Xy, sym_pos=True, overwrite_a=True).T\n"
          ]
        },
        {
          "output_type": "execute_result",
          "data": {
            "text/plain": [
              "0.304098303142631"
            ]
          },
          "metadata": {},
          "execution_count": 163
        }
      ]
    },
    {
      "cell_type": "code",
      "metadata": {
        "id": "saNtlhDtRx96"
      },
      "source": [
        "prediction_a = clf_subset.predict(post_imp_subset)\n",
        "r2_score(train_y_tensor_np_a , prediction_a)"
      ],
      "execution_count": null,
      "outputs": []
    },
    {
      "cell_type": "code",
      "metadata": {
        "id": "RIKA8-v5msoJ"
      },
      "source": [
        ""
      ],
      "execution_count": null,
      "outputs": []
    },
    {
      "cell_type": "markdown",
      "metadata": {
        "id": "CzCr6tcpZyQC"
      },
      "source": [
        "---------------------------------------LASSO--------------------------------------"
      ]
    },
    {
      "cell_type": "code",
      "metadata": {
        "colab": {
          "base_uri": "https://localhost:8080/"
        },
        "id": "Ylhcbax9Z1ik",
        "outputId": "5a274491-828b-4749-c398-6f36dc15e8e1"
      },
      "source": [
        "from sklearn.linear_model import Lasso\n",
        "\n",
        "clf_lasso = Lasso(alpha=10)\n",
        "clf_lasso.fit(post_imp_np_a, train_y_tensor_np_a)\n",
        "\n",
        "prediction_lasso_b = clf_lasso.predict(post_imp_np_b)\n",
        "r2_score(train_y_tensor_np_b,prediction_lasso_b)"
      ],
      "execution_count": null,
      "outputs": [
        {
          "output_type": "stream",
          "name": "stderr",
          "text": [
            "/usr/local/lib/python3.7/dist-packages/sklearn/linear_model/_coordinate_descent.py:476: ConvergenceWarning: Objective did not converge. You might want to increase the number of iterations. Duality gap: 19544.13097898815, tolerance: 10.526156727272728\n",
            "  positive)\n"
          ]
        },
        {
          "output_type": "execute_result",
          "data": {
            "text/plain": [
              "0.07346675389841417"
            ]
          },
          "metadata": {},
          "execution_count": 25
        }
      ]
    },
    {
      "cell_type": "code",
      "metadata": {
        "colab": {
          "base_uri": "https://localhost:8080/"
        },
        "id": "-JAzFkxKSFWb",
        "outputId": "27c74071-9636-449d-e7d4-0063f0d33c29"
      },
      "source": [
        "clf_lasso = Lasso(alpha=10)\n",
        "clf_lasso.fit(post_imp_np, train_y_tensor_np)\n",
        "\n",
        "prediction_lasso = clf_lasso.predict(post_imp_np)\n",
        "r2_score(train_y_tensor_np,prediction_lasso)"
      ],
      "execution_count": null,
      "outputs": [
        {
          "output_type": "stream",
          "name": "stderr",
          "text": [
            "/usr/local/lib/python3.7/dist-packages/sklearn/linear_model/_coordinate_descent.py:476: ConvergenceWarning: Objective did not converge. You might want to increase the number of iterations. Duality gap: 22620.764673319227, tolerance: 11.550564813278012\n",
            "  positive)\n"
          ]
        },
        {
          "output_type": "execute_result",
          "data": {
            "text/plain": [
              "0.638429441685018"
            ]
          },
          "metadata": {},
          "execution_count": 27
        }
      ]
    },
    {
      "cell_type": "code",
      "metadata": {
        "colab": {
          "base_uri": "https://localhost:8080/"
        },
        "id": "rTH0imx1SKmd",
        "outputId": "a1610029-96f3-4fd2-d3dd-7fe1cf8e5085"
      },
      "source": [
        "count0 = 0\n",
        "countnot = 0\n",
        "for x in clf_lasso.coef_:\n",
        "  if x==0.0:\n",
        "    count0+=1\n",
        "  else:\n",
        "    countnot+=1\n",
        "print(count0)\n",
        "print(countnot)"
      ],
      "execution_count": null,
      "outputs": [
        {
          "output_type": "stream",
          "name": "stdout",
          "text": [
            "419\n",
            "413\n"
          ]
        }
      ]
    },
    {
      "cell_type": "code",
      "metadata": {
        "colab": {
          "base_uri": "https://localhost:8080/"
        },
        "id": "xFrFAbzyj98h",
        "outputId": "33c269a9-46f6-44b9-9b4f-5996a5ba1abb"
      },
      "source": [
        "clf_lasso_full = Lasso(alpha=1)\n",
        "clf_lasso_full.fit(post_imp_np_a, train_y_tensor_np_a)\n",
        "\n",
        "prediction_lasso = clf_lasso_full.predict(post_imp_np_b)\n",
        "r2_score(train_y_tensor_np_b,prediction_lasso)"
      ],
      "execution_count": null,
      "outputs": [
        {
          "output_type": "stream",
          "name": "stderr",
          "text": [
            "/usr/local/lib/python3.7/dist-packages/sklearn/linear_model/_coordinate_descent.py:476: ConvergenceWarning: Objective did not converge. You might want to increase the number of iterations. Duality gap: 16651.331515758757, tolerance: 10.526156727272728\n",
            "  positive)\n"
          ]
        },
        {
          "output_type": "execute_result",
          "data": {
            "text/plain": [
              "-0.05611627846509526"
            ]
          },
          "metadata": {},
          "execution_count": 37
        }
      ]
    },
    {
      "cell_type": "code",
      "metadata": {
        "colab": {
          "base_uri": "https://localhost:8080/"
        },
        "id": "GwzF6nWqVPTQ",
        "outputId": "9dd15422-9560-4cad-c505-c55c955c9a02"
      },
      "source": [
        "clf_lasso_full = Lasso(alpha=40)\n",
        "clf_lasso_full.fit(post_imp_subset_a, train_y_tensor_np_a)\n",
        "\n",
        "prediction_lasso_b = clf_lasso_full.predict(post_imp_subset_b)\n",
        "r2_score(train_y_tensor_np_b,prediction_lasso_b)"
      ],
      "execution_count": null,
      "outputs": [
        {
          "output_type": "stream",
          "name": "stderr",
          "text": [
            "/usr/local/lib/python3.7/dist-packages/sklearn/linear_model/_coordinate_descent.py:648: ConvergenceWarning: Objective did not converge. You might want to increase the number of iterations, check the scale of the features or consider increasing regularisation. Duality gap: 2.664e+04, tolerance: 1.089e+01\n",
            "  coef_, l1_reg, l2_reg, X, y, max_iter, tol, rng, random, positive\n"
          ]
        },
        {
          "output_type": "execute_result",
          "data": {
            "text/plain": [
              "0.2194315600256399"
            ]
          },
          "metadata": {},
          "execution_count": 110
        }
      ]
    },
    {
      "cell_type": "markdown",
      "metadata": {
        "id": "412-bU4TTkx1"
      },
      "source": [
        "------------------------------------------------------ENSEMBLE METHODS-------------------------------------------------------"
      ]
    },
    {
      "cell_type": "code",
      "metadata": {
        "colab": {
          "base_uri": "https://localhost:8080/"
        },
        "id": "1I8cMMilTjai",
        "outputId": "8b88b882-2ee8-4274-f9ff-65b97d4d3a48"
      },
      "source": [
        "from sklearn.svm import SVR\n",
        "from sklearn.ensemble import BaggingRegressor\n",
        "regens = BaggingRegressor(n_estimators=20, random_state=0).fit(post_imp_np_a, train_y_tensor_np_a)\n",
        "enspredb = regens.predict(post_imp_np_b)\n",
        "r2_score(train_y_tensor_np_b,enspredb)"
      ],
      "execution_count": null,
      "outputs": [
        {
          "output_type": "stream",
          "name": "stderr",
          "text": [
            "/usr/local/lib/python3.7/dist-packages/sklearn/ensemble/_bagging.py:399: DataConversionWarning: A column-vector y was passed when a 1d array was expected. Please change the shape of y to (n_samples, ), for example using ravel().\n",
            "  return column_or_1d(y, warn=True)\n"
          ]
        },
        {
          "output_type": "execute_result",
          "data": {
            "text/plain": [
              "0.4962874929710963"
            ]
          },
          "metadata": {},
          "execution_count": 38
        }
      ]
    },
    {
      "cell_type": "code",
      "metadata": {
        "colab": {
          "base_uri": "https://localhost:8080/"
        },
        "id": "xC25X9lNVbvw",
        "outputId": "ea21e870-b932-4000-e38e-f112dfbadd22"
      },
      "source": [
        "enspreda = regens.predict(post_imp_np_a)\n",
        "r2_score(train_y_tensor_np_a,enspreda)"
      ],
      "execution_count": null,
      "outputs": [
        {
          "output_type": "execute_result",
          "data": {
            "text/plain": [
              "0.9161161311884842"
            ]
          },
          "metadata": {},
          "execution_count": 39
        }
      ]
    },
    {
      "cell_type": "code",
      "metadata": {
        "colab": {
          "base_uri": "https://localhost:8080/"
        },
        "id": "VhNbeTSWVqwz",
        "outputId": "8dcae8d7-272d-4c4c-e796-30ad3c5889f9"
      },
      "source": [
        "regens3 = BaggingRegressor(n_estimators=100, random_state=0).fit(post_imp_np_a, train_y_tensor_np_a)\n",
        "enspredb = regens3.predict(post_imp_np_b)\n",
        "r2_score(train_y_tensor_np_b,enspredb)"
      ],
      "execution_count": null,
      "outputs": [
        {
          "output_type": "stream",
          "name": "stderr",
          "text": [
            "/usr/local/lib/python3.7/dist-packages/sklearn/ensemble/_bagging.py:399: DataConversionWarning: A column-vector y was passed when a 1d array was expected. Please change the shape of y to (n_samples, ), for example using ravel().\n",
            "  return column_or_1d(y, warn=True)\n"
          ]
        },
        {
          "output_type": "execute_result",
          "data": {
            "text/plain": [
              "0.5065627749265139"
            ]
          },
          "metadata": {},
          "execution_count": 42
        }
      ]
    },
    {
      "cell_type": "code",
      "metadata": {
        "colab": {
          "base_uri": "https://localhost:8080/"
        },
        "id": "VDkwxkUqoPWT",
        "outputId": "2c1d8443-e372-488f-f50c-27afc6611c93"
      },
      "source": [
        "post_imp_subset_b.shape"
      ],
      "execution_count": 132,
      "outputs": [
        {
          "output_type": "execute_result",
          "data": {
            "text/plain": [
              "(91, 200)"
            ]
          },
          "metadata": {},
          "execution_count": 132
        }
      ]
    },
    {
      "cell_type": "code",
      "metadata": {
        "colab": {
          "base_uri": "https://localhost:8080/"
        },
        "id": "ZU72AMxLWP4s",
        "outputId": "79f07d70-7513-4a35-c6a3-830821cda8bf"
      },
      "source": [
        "regens4 = BaggingRegressor(n_estimators=35, random_state=0).fit(post_imp_subset_a, train_y_tensor_np_a)\n",
        "enspredb = regens4.predict(post_imp_subset_b)\n",
        "r2_score(train_y_tensor_np_b,enspredb)"
      ],
      "execution_count": 136,
      "outputs": [
        {
          "output_type": "stream",
          "name": "stderr",
          "text": [
            "/usr/local/lib/python3.7/dist-packages/sklearn/ensemble/_bagging.py:399: DataConversionWarning: A column-vector y was passed when a 1d array was expected. Please change the shape of y to (n_samples, ), for example using ravel().\n",
            "  return column_or_1d(y, warn=True)\n"
          ]
        },
        {
          "output_type": "execute_result",
          "data": {
            "text/plain": [
              "0.5291756480872121"
            ]
          },
          "metadata": {},
          "execution_count": 136
        }
      ]
    },
    {
      "cell_type": "code",
      "metadata": {
        "colab": {
          "base_uri": "https://localhost:8080/"
        },
        "id": "SlhlzmvMohKG",
        "outputId": "b52cf4d1-4ae9-4daf-8caf-dfb9ca23bf48"
      },
      "source": [
        "from sklearn import tree\n",
        "regens10 = BaggingRegressor(base_estimator = tree.DecisionTreeRegressor(max_features=0.5), n_estimators=42, random_state=0, oob_score=True).fit(post_imp_np_a[:,post_imp_support], train_y_tensor_np_a)\n",
        "enspredb = regens10.predict(post_imp_np_b[:,post_imp_support])\n",
        "r2_score(train_y_tensor_np_b,enspredb)"
      ],
      "execution_count": 168,
      "outputs": [
        {
          "output_type": "stream",
          "name": "stderr",
          "text": [
            "/usr/local/lib/python3.7/dist-packages/sklearn/ensemble/_bagging.py:399: DataConversionWarning: A column-vector y was passed when a 1d array was expected. Please change the shape of y to (n_samples, ), for example using ravel().\n",
            "  return column_or_1d(y, warn=True)\n"
          ]
        },
        {
          "output_type": "execute_result",
          "data": {
            "text/plain": [
              "0.5430624492085476"
            ]
          },
          "metadata": {},
          "execution_count": 168
        }
      ]
    },
    {
      "cell_type": "code",
      "metadata": {
        "colab": {
          "base_uri": "https://localhost:8080/"
        },
        "id": "K4mYAo-BssN8",
        "outputId": "977ffbda-3b00-498a-d6de-65af4d1a810b"
      },
      "source": [
        "from sklearn import tree\n",
        "regens11 = BaggingRegressor(base_estimator = tree.DecisionTreeRegressor(max_features=0.5), n_estimators=42, random_state=0, oob_score=True).fit(post_imp_np[:,post_imp_support], train_y_tensor_np)\n",
        "enspredb = regens11.predict(post_imp_np[:,post_imp_support])\n",
        "r2_score(train_y_tensor_np,enspredb)"
      ],
      "execution_count": 171,
      "outputs": [
        {
          "output_type": "stream",
          "name": "stderr",
          "text": [
            "/usr/local/lib/python3.7/dist-packages/sklearn/ensemble/_bagging.py:399: DataConversionWarning: A column-vector y was passed when a 1d array was expected. Please change the shape of y to (n_samples, ), for example using ravel().\n",
            "  return column_or_1d(y, warn=True)\n"
          ]
        },
        {
          "output_type": "execute_result",
          "data": {
            "text/plain": [
              "0.9334264960934875"
            ]
          },
          "metadata": {},
          "execution_count": 171
        }
      ]
    },
    {
      "cell_type": "code",
      "metadata": {
        "id": "TROl0xw6gr8D"
      },
      "source": [
        "# from sklearn.feature_selection import RFE\n",
        "# regens7 = RFE(BaggingRegressor(n_estimators=20, random_state=0), n_features_to_select=220, step=1)\n",
        "# regens7 = regens7.fit(post_imp_np_a, train_y_tensor_np_a)\n",
        "\n",
        "# enspredb = regens7.predict(post_imp_np_b)\n",
        "# r2_score(train_y_tensor_np_b,enspredb)"
      ],
      "execution_count": null,
      "outputs": []
    },
    {
      "cell_type": "code",
      "metadata": {
        "colab": {
          "base_uri": "https://localhost:8080/"
        },
        "id": "wZzoNdLtkG0H",
        "outputId": "e4037148-0483-4db1-f75b-3cc085970c82"
      },
      "source": [
        "from sklearn.svm import SVR\n",
        "from sklearn.preprocessing import MinMaxScaler\n",
        "scaler = MinMaxScaler()\n",
        "post_a_scaled = scaler.fit_transform(post_imp_subset_a)\n",
        "post_b_scaled = scaler.fit_transform(post_imp_subset_b)\n",
        "regens8 = BaggingRegressor(base_estimator=SVR(kernel='linear'),n_estimators=100,  random_state=0).fit(post_a_scaled, train_y_tensor_np_a)\n",
        "enspredb = regens8.predict(post_b_scaled)\n",
        "r2_score(train_y_tensor_np_b,enspredb)"
      ],
      "execution_count": 103,
      "outputs": [
        {
          "output_type": "stream",
          "name": "stderr",
          "text": [
            "/usr/local/lib/python3.7/dist-packages/sklearn/ensemble/_bagging.py:399: DataConversionWarning: A column-vector y was passed when a 1d array was expected. Please change the shape of y to (n_samples, ), for example using ravel().\n",
            "  return column_or_1d(y, warn=True)\n"
          ]
        },
        {
          "output_type": "execute_result",
          "data": {
            "text/plain": [
              "0.12611112215108944"
            ]
          },
          "metadata": {},
          "execution_count": 103
        }
      ]
    },
    {
      "cell_type": "code",
      "metadata": {
        "colab": {
          "base_uri": "https://localhost:8080/"
        },
        "id": "LS9_y0tnlrSz",
        "outputId": "df175a7a-7110-41b2-a89e-da1f4b7c8575"
      },
      "source": [
        "scaler = MinMaxScaler()\n",
        "post_scaled = scaler.fit_transform(post_imp_subset)\n",
        "\n",
        "regens9 = BaggingRegressor(n_estimators=100, random_state=0).fit(post_scaled, train_y_tensor_np)\n",
        "enspredb = regens9.predict(post_scaled)\n",
        "r2_score(train_y_tensor_np,enspredb)"
      ],
      "execution_count": 108,
      "outputs": [
        {
          "output_type": "stream",
          "name": "stderr",
          "text": [
            "/usr/local/lib/python3.7/dist-packages/sklearn/ensemble/_bagging.py:399: DataConversionWarning: A column-vector y was passed when a 1d array was expected. Please change the shape of y to (n_samples, ), for example using ravel().\n",
            "  return column_or_1d(y, warn=True)\n"
          ]
        },
        {
          "output_type": "execute_result",
          "data": {
            "text/plain": [
              "0.9366550716932123"
            ]
          },
          "metadata": {},
          "execution_count": 108
        }
      ]
    },
    {
      "cell_type": "code",
      "metadata": {
        "colab": {
          "base_uri": "https://localhost:8080/"
        },
        "id": "dZRTCXNWm0Nq",
        "outputId": "9f450182-fe1f-44b4-e563-b899740b8283"
      },
      "source": [
        "post_imp_subset.shape"
      ],
      "execution_count": 113,
      "outputs": [
        {
          "output_type": "execute_result",
          "data": {
            "text/plain": [
              "(1205, 200)"
            ]
          },
          "metadata": {},
          "execution_count": 113
        }
      ]
    },
    {
      "cell_type": "code",
      "metadata": {
        "colab": {
          "base_uri": "https://localhost:8080/"
        },
        "id": "SoE2EpluZfYj",
        "outputId": "c9be2dcc-a7c9-4cab-c09f-5d3e188bd5f4"
      },
      "source": [
        "post_imp_subset = post_imp_np[:,post_imp_support]\n",
        "regens6 = BaggingRegressor(n_estimators=120, max_features=0.7, random_state=0).fit(post_imp_subset, train_y_tensor_np)\n",
        "enspredb = regens6.predict(post_imp_subset)\n",
        "r2_score(train_y_tensor_np,enspredb)"
      ],
      "execution_count": 93,
      "outputs": [
        {
          "output_type": "stream",
          "name": "stderr",
          "text": [
            "/usr/local/lib/python3.7/dist-packages/sklearn/ensemble/_bagging.py:399: DataConversionWarning: A column-vector y was passed when a 1d array was expected. Please change the shape of y to (n_samples, ), for example using ravel().\n",
            "  return column_or_1d(y, warn=True)\n"
          ]
        },
        {
          "output_type": "execute_result",
          "data": {
            "text/plain": [
              "0.9367787367617159"
            ]
          },
          "metadata": {},
          "execution_count": 93
        }
      ]
    },
    {
      "cell_type": "code",
      "metadata": {
        "colab": {
          "base_uri": "https://localhost:8080/"
        },
        "id": "YifLchdBWgTw",
        "outputId": "b9b894d0-f530-4065-b93f-1408961681a0"
      },
      "source": [
        "regens5 = BaggingRegressor(n_estimators=40, random_state=0).fit(post_imp_np, train_y_tensor_np)\n",
        "enspredb = regens5.predict(post_imp_np)\n",
        "r2_score(train_y_tensor_np,enspredb)"
      ],
      "execution_count": null,
      "outputs": [
        {
          "output_type": "stream",
          "name": "stderr",
          "text": [
            "/usr/local/lib/python3.7/dist-packages/sklearn/ensemble/_bagging.py:399: DataConversionWarning: A column-vector y was passed when a 1d array was expected. Please change the shape of y to (n_samples, ), for example using ravel().\n",
            "  return column_or_1d(y, warn=True)\n"
          ]
        },
        {
          "output_type": "execute_result",
          "data": {
            "text/plain": [
              "0.9277037085632341"
            ]
          },
          "metadata": {},
          "execution_count": 45
        }
      ]
    },
    {
      "cell_type": "markdown",
      "metadata": {
        "id": "KxUmPQBvYkgm"
      },
      "source": [
        "-------------------------------------------------------------MLP------------------------------------------------------------"
      ]
    },
    {
      "cell_type": "code",
      "metadata": {
        "colab": {
          "base_uri": "https://localhost:8080/"
        },
        "id": "VqieU12vbaAO",
        "outputId": "5f39c17c-4c01-441b-df74-6344f87c8651"
      },
      "source": [
        "from sklearn.neural_network import MLPRegressor\n",
        "from sklearn.model_selection import train_test_split\n",
        "\n",
        "regr = MLPRegressor(random_state=1, max_iter=100000).fit(post_imp_np, train_y_tensor_np[:,0])\n",
        "\n",
        "prediction_mlp_a =regr.predict(post_imp_np)\n",
        "r2_score(train_y_tensor_np[:,0],prediction_mlp_a)"
      ],
      "execution_count": null,
      "outputs": [
        {
          "output_type": "execute_result",
          "data": {
            "text/plain": [
              "-2.4766788590125114e+31"
            ]
          },
          "metadata": {},
          "execution_count": 172
        }
      ]
    },
    {
      "cell_type": "markdown",
      "metadata": {
        "id": "DkoyLvsv0ekY"
      },
      "source": [
        "-----------------------------------------------------------TABNET--------------------------------------------------------"
      ]
    },
    {
      "cell_type": "code",
      "metadata": {
        "id": "g3iyG4_D0v_d"
      },
      "source": [
        "X_tabnet_a = post_imp_np[:1150]\n",
        "X_tabnet_b = post_imp_np[1150:1200]\n",
        "X_tabnet_c = post_imp_np[1190:]\n",
        "y_tabnet_a = train_y_tensor_np[:1150]\n",
        "y_tabnet_b = train_y_tensor_np[1150:1190]\n",
        "y_tabnet_c = train_y_tensor_np[1190:]"
      ],
      "execution_count": null,
      "outputs": []
    },
    {
      "cell_type": "code",
      "metadata": {
        "colab": {
          "base_uri": "https://localhost:8080/"
        },
        "id": "VJ1N71mOzW0q",
        "outputId": "0b8cc7e0-bafe-401a-acfe-f0bb8fa51656"
      },
      "source": [
        "pip install pytorch-tabnet"
      ],
      "execution_count": null,
      "outputs": [
        {
          "output_type": "stream",
          "name": "stdout",
          "text": [
            "Collecting pytorch-tabnet\n",
            "  Downloading pytorch_tabnet-3.1.1-py3-none-any.whl (39 kB)\n",
            "Requirement already satisfied: numpy<2.0,>=1.17 in /usr/local/lib/python3.7/dist-packages (from pytorch-tabnet) (1.19.5)\n",
            "Requirement already satisfied: scipy>1.4 in /usr/local/lib/python3.7/dist-packages (from pytorch-tabnet) (1.4.1)\n",
            "Requirement already satisfied: scikit_learn>0.21 in /usr/local/lib/python3.7/dist-packages (from pytorch-tabnet) (0.22.2.post1)\n",
            "Requirement already satisfied: tqdm<5.0,>=4.36 in /usr/local/lib/python3.7/dist-packages (from pytorch-tabnet) (4.62.3)\n",
            "Requirement already satisfied: torch<2.0,>=1.2 in /usr/local/lib/python3.7/dist-packages (from pytorch-tabnet) (1.9.0+cu111)\n",
            "Requirement already satisfied: joblib>=0.11 in /usr/local/lib/python3.7/dist-packages (from scikit_learn>0.21->pytorch-tabnet) (1.0.1)\n",
            "Requirement already satisfied: typing-extensions in /usr/local/lib/python3.7/dist-packages (from torch<2.0,>=1.2->pytorch-tabnet) (3.7.4.3)\n",
            "Installing collected packages: pytorch-tabnet\n",
            "Successfully installed pytorch-tabnet-3.1.1\n"
          ]
        }
      ]
    },
    {
      "cell_type": "code",
      "metadata": {
        "colab": {
          "base_uri": "https://localhost:8080/"
        },
        "id": "fSJYtZDv0jUe",
        "outputId": "9be5a0c4-eb8c-47e5-a6ae-8739a1b2d671"
      },
      "source": [
        "from pytorch_tabnet.tab_model import TabNetClassifier, TabNetRegressor\n",
        "\n",
        "clf = TabNetRegressor()\n",
        "clf.fit(\n",
        "  X_tabnet_a, y_tabnet_a,\n",
        "  eval_set=[(X_tabnet_b, y_tabnet_b)]\n",
        ")\n",
        "tabnet_preds = clf.predict(X_tabnet_c)\n",
        "r2_score(y_tabnet_c, tabnet_preds)"
      ],
      "execution_count": null,
      "outputs": [
        {
          "output_type": "stream",
          "name": "stdout",
          "text": [
            "Device used : cpu\n",
            "epoch 0  | loss: 4789.60035| val_0_mse: 841617.90682|  0:00:00s\n",
            "epoch 1  | loss: 4668.49722| val_0_mse: 16406583002.70559|  0:00:01s\n",
            "epoch 2  | loss: 4554.29857| val_0_mse: 1800.27952|  0:00:01s\n",
            "epoch 3  | loss: 4429.74551| val_0_mse: 5128.21158|  0:00:02s\n",
            "epoch 4  | loss: 4313.58877| val_0_mse: 395455665981.3328|  0:00:03s\n",
            "epoch 5  | loss: 4186.68046| val_0_mse: 249537179110.12085|  0:00:03s\n",
            "epoch 6  | loss: 4027.90663| val_0_mse: 165238065784.23053|  0:00:04s\n",
            "epoch 7  | loss: 3872.06001| val_0_mse: 40490.78788|  0:00:04s\n",
            "epoch 8  | loss: 3720.3479| val_0_mse: 87264.15277|  0:00:05s\n",
            "epoch 9  | loss: 3530.28481| val_0_mse: 152837.75645|  0:00:06s\n",
            "epoch 10 | loss: 3368.27881| val_0_mse: 93544.4635|  0:00:06s\n",
            "epoch 11 | loss: 3153.02121| val_0_mse: 188019.28927|  0:00:07s\n",
            "epoch 12 | loss: 2958.15213| val_0_mse: 60147.618|  0:00:07s\n",
            "\n",
            "Early stopping occurred at epoch 12 with best_epoch = 2 and best_val_0_mse = 1800.27952\n",
            "Best weights from best epoch are automatically used!\n"
          ]
        },
        {
          "output_type": "execute_result",
          "data": {
            "text/plain": [
              "-8.747738229803117"
            ]
          },
          "metadata": {},
          "execution_count": 104
        }
      ]
    },
    {
      "cell_type": "markdown",
      "metadata": {
        "id": "8N59w5E4y1v1"
      },
      "source": [
        "PREDICTING THE TEST VALUES\n"
      ]
    },
    {
      "cell_type": "code",
      "metadata": {
        "id": "pIOHMi4my04a"
      },
      "source": [
        "# X = [[1, 2, nan], [3, 4, 3], [nan, 6, 5], [8, 8, 7]]\n",
        "imputertest = KNNImputer(n_neighbors=10, weights=\"uniform\")\n",
        "\n",
        "imputertest.fit(test_X_tensor.numpy())\n",
        "\n",
        "X_test_post_imp = imputertest.transform(test_X_tensor.numpy())"
      ],
      "execution_count": 59,
      "outputs": []
    },
    {
      "cell_type": "code",
      "metadata": {
        "id": "_YF8yOBLSFCP"
      },
      "source": [
        "predictiontest = clf.predict(X_test_post_imp)"
      ],
      "execution_count": null,
      "outputs": []
    },
    {
      "cell_type": "code",
      "metadata": {
        "id": "1GNmWAdXWsO_"
      },
      "source": [
        "predictiontest = regens6.predict(X_test_post_imp[:,post_imp_support])"
      ],
      "execution_count": 94,
      "outputs": []
    },
    {
      "cell_type": "code",
      "metadata": {
        "id": "t2BfcVCro9Kh"
      },
      "source": [
        "predictiontest = regens11.predict(X_test_post_imp[:,post_imp_support])"
      ],
      "execution_count": 172,
      "outputs": []
    },
    {
      "cell_type": "code",
      "metadata": {
        "id": "hSq0HqOFmX4f"
      },
      "source": [
        "scaler = MinMaxScaler()\n",
        "post_scaled = scaler.fit_transform(X_test_post_imp[:,post_imp_support])\n",
        "predictiontest = regens9.predict(post_scaled)"
      ],
      "execution_count": 109,
      "outputs": []
    },
    {
      "cell_type": "code",
      "metadata": {
        "id": "MM0zps9Xw8jv"
      },
      "source": [
        "test_y = pd.read_csv('sample.csv')\n",
        "test_y.loc[:,\"y\"] = predictiontest\n",
        "test_y.to_csv(\"predictions.csv\", index=False)"
      ],
      "execution_count": 173,
      "outputs": []
    },
    {
      "cell_type": "code",
      "metadata": {
        "colab": {
          "base_uri": "https://localhost:8080/"
        },
        "id": "KAYDVdZ36Txo",
        "outputId": "ee1275e7-bab7-409f-83db-7ca12a060622"
      },
      "source": [
        "test_y.columns"
      ],
      "execution_count": null,
      "outputs": [
        {
          "output_type": "execute_result",
          "data": {
            "text/plain": [
              "Index(['id', 'y'], dtype='object')"
            ]
          },
          "metadata": {},
          "execution_count": 77
        }
      ]
    }
  ]
}