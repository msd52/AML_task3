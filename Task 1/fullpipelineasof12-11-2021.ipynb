{
  "nbformat": 4,
  "nbformat_minor": 0,
  "metadata": {
    "colab": {
      "name": "Untitled2.ipynb",
      "provenance": [],
      "collapsed_sections": []
    },
    "kernelspec": {
      "name": "python3",
      "display_name": "Python 3"
    },
    "language_info": {
      "name": "python"
    }
  },
  "cells": [
    {
      "cell_type": "code",
      "metadata": {
        "id": "ic54j5DSwBpz"
      },
      "source": [
        "import torch\n",
        "import numpy as np\n",
        "import pandas as pd\n",
        "\n",
        "train_X = pd.read_csv('X_train.csv')\n",
        "train_X_tensor = torch.tensor(train_X.values)[:,1:]\n",
        "train_y = pd.read_csv(\"y_train.csv\")\n",
        "train_y_tensor = torch.tensor(train_y.values)[:,1:]\n",
        "\n",
        "test_X = pd.read_csv('X_test.csv')\n",
        "test_X_tensor = torch.tensor(test_X.values)[:,1:]"
      ],
      "execution_count": 145,
      "outputs": []
    },
    {
      "cell_type": "code",
      "metadata": {
        "colab": {
          "base_uri": "https://localhost:8080/"
        },
        "id": "KqQYnYNmQWmg",
        "outputId": "2f9968e8-cc32-4cc6-f38e-0000bd8b6682"
      },
      "source": [
        "train_X.shape"
      ],
      "execution_count": 129,
      "outputs": [
        {
          "output_type": "execute_result",
          "data": {
            "text/plain": [
              "(1212, 833)"
            ]
          },
          "metadata": {},
          "execution_count": 129
        }
      ]
    },
    {
      "cell_type": "markdown",
      "metadata": {
        "id": "CkKOtTpowZwy"
      },
      "source": [
        "---------------------------------------------FIRST IMPUTATION-------------------------------------------"
      ]
    },
    {
      "cell_type": "code",
      "metadata": {
        "id": "CHVMYcmTwLTe"
      },
      "source": [
        "from sklearn.experimental import enable_iterative_imputer\n",
        "from sklearn.impute import KNNImputer\n",
        "\n",
        "imputer = KNNImputer(n_neighbors=10, weights=\"uniform\")\n",
        "imputer.fit(train_X_tensor.numpy())\n",
        "\n",
        "train_X_knn_first = imputer.transform(train_X_tensor.numpy())"
      ],
      "execution_count": 146,
      "outputs": []
    },
    {
      "cell_type": "code",
      "metadata": {
        "colab": {
          "base_uri": "https://localhost:8080/"
        },
        "id": "sBEOjaj-zHZf",
        "outputId": "4816b954-c109-4aad-a8eb-71e2b91625e3"
      },
      "source": [
        "train_y_knn_first = train_y_tensor.numpy()\n",
        "print(train_X_knn_first.shape)\n",
        "print(train_y_knn_first.shape)"
      ],
      "execution_count": 147,
      "outputs": [
        {
          "output_type": "stream",
          "name": "stdout",
          "text": [
            "(1212, 832)\n",
            "(1212, 1)\n"
          ]
        }
      ]
    },
    {
      "cell_type": "markdown",
      "metadata": {
        "id": "Qk6SK0v3widn"
      },
      "source": [
        "------------------------------------------------FIRST OUTLIER DETECTION------------------------------------------------"
      ]
    },
    {
      "cell_type": "code",
      "metadata": {
        "id": "liu9wUwxwc_M"
      },
      "source": [
        "from sklearn.ensemble import IsolationForest\n",
        "clf_isoforest = IsolationForest(random_state=0, bootstrap = True)\n",
        "first_iso_outliers = clf_isoforest.fit_predict(train_X_knn_first)"
      ],
      "execution_count": 148,
      "outputs": []
    },
    {
      "cell_type": "code",
      "metadata": {
        "id": "ktrfUHLUwrbG",
        "colab": {
          "base_uri": "https://localhost:8080/"
        },
        "outputId": "395b87f7-0427-4dcf-81df-629bc057e73f"
      },
      "source": [
        "count = 0\n",
        "for x in range(len(first_iso_outliers)):\n",
        "  if first_iso_outliers[x]!=1:\n",
        "    print(x)\n",
        "    count +=1\n",
        "print(f\"count is {count}\")\n",
        "first_iso_outliers+=1\n",
        "first_iso_outliers = first_iso_outliers/2\n",
        "train_X_iso_first = train_X_knn_first[first_iso_outliers==1.0]\n",
        "train_y_iso_first = train_y_knn_first[first_iso_outliers==1.0]"
      ],
      "execution_count": 149,
      "outputs": [
        {
          "output_type": "stream",
          "name": "stdout",
          "text": [
            "40\n",
            "118\n",
            "239\n",
            "426\n",
            "427\n",
            "565\n",
            "652\n",
            "670\n",
            "732\n",
            "997\n",
            "count is 10\n"
          ]
        }
      ]
    },
    {
      "cell_type": "code",
      "metadata": {
        "id": "UmqWX8Nrx2bl",
        "colab": {
          "base_uri": "https://localhost:8080/"
        },
        "outputId": "025acc96-ce30-4964-fd0d-8e1731547417"
      },
      "source": [
        "train_X_iso_first.shape"
      ],
      "execution_count": 152,
      "outputs": [
        {
          "output_type": "execute_result",
          "data": {
            "text/plain": [
              "(1202, 832)"
            ]
          },
          "metadata": {},
          "execution_count": 152
        }
      ]
    },
    {
      "cell_type": "code",
      "metadata": {
        "id": "efD5hsKhx2_8",
        "colab": {
          "base_uri": "https://localhost:8080/"
        },
        "outputId": "ae1c3992-1136-42ad-af7e-fd232d8a0f45"
      },
      "source": [
        "train_y_iso_first.shape"
      ],
      "execution_count": 153,
      "outputs": [
        {
          "output_type": "execute_result",
          "data": {
            "text/plain": [
              "(1202, 1)"
            ]
          },
          "metadata": {},
          "execution_count": 153
        }
      ]
    },
    {
      "cell_type": "markdown",
      "metadata": {
        "id": "chrxVW9JyQqF"
      },
      "source": [
        "------------------------------------------------FIRST FEATURE SELECTION (RF)----------------------------------------------"
      ]
    },
    {
      "cell_type": "code",
      "metadata": {
        "id": "l3dX_rnlyQCs",
        "colab": {
          "base_uri": "https://localhost:8080/"
        },
        "outputId": "524a9d20-e6be-4576-f799-aaa8d2420f75"
      },
      "source": [
        "from sklearn.ensemble import RandomForestRegressor\n",
        "rf1 = RandomForestRegressor(n_estimators=100, random_state=0,oob_score=True, bootstrap=True)\n",
        "rf1.fit(train_X_iso_first, train_y_iso_first)"
      ],
      "execution_count": 154,
      "outputs": [
        {
          "output_type": "stream",
          "name": "stderr",
          "text": [
            "/usr/local/lib/python3.7/dist-packages/ipykernel_launcher.py:3: DataConversionWarning: A column-vector y was passed when a 1d array was expected. Please change the shape of y to (n_samples,), for example using ravel().\n",
            "  This is separate from the ipykernel package so we can avoid doing imports until\n"
          ]
        },
        {
          "output_type": "execute_result",
          "data": {
            "text/plain": [
              "RandomForestRegressor(bootstrap=True, ccp_alpha=0.0, criterion='mse',\n",
              "                      max_depth=None, max_features='auto', max_leaf_nodes=None,\n",
              "                      max_samples=None, min_impurity_decrease=0.0,\n",
              "                      min_impurity_split=None, min_samples_leaf=1,\n",
              "                      min_samples_split=2, min_weight_fraction_leaf=0.0,\n",
              "                      n_estimators=100, n_jobs=None, oob_score=True,\n",
              "                      random_state=0, verbose=0, warm_start=False)"
            ]
          },
          "metadata": {},
          "execution_count": 154
        }
      ]
    },
    {
      "cell_type": "code",
      "metadata": {
        "colab": {
          "base_uri": "https://localhost:8080/"
        },
        "id": "YdniIdXR1WAa",
        "outputId": "a855781b-793e-4848-ea1a-78e78cc08179"
      },
      "source": [
        "train_X_features_first = train_X_iso_first[:,rf1.feature_importances_>=sorted(rf1.feature_importances_)[-256]]\n",
        "train_y_features_first = train_y_iso_first\n",
        "print(train_X_features_first.shape)\n",
        "print(train_y_features_first.shape)"
      ],
      "execution_count": 156,
      "outputs": [
        {
          "output_type": "stream",
          "name": "stdout",
          "text": [
            "(1202, 256)\n",
            "(1202, 1)\n"
          ]
        }
      ]
    },
    {
      "cell_type": "markdown",
      "metadata": {
        "id": "s3YxcT1f-HRo"
      },
      "source": [
        "-------------------SHOULD I INCLUDE SECOND IMPUTATION?-------------------------\n"
      ]
    },
    {
      "cell_type": "code",
      "metadata": {
        "id": "_s1OT1b1GaRB"
      },
      "source": [
        "# imputer_second = KNNImputer(n_neighbors=10, weights=\"uniform\")\n",
        "# imputer_second.fit((train_X_tensor.numpy()[first_iso_outliers==1.0])[:,rf1.feature_importances_>=sorted(rf1.feature_importances_)[-256]])\n",
        "\n",
        "# train_X_knn_second = imputer_second.transform((train_X_tensor.numpy()[first_iso_outliers==1.0])[:,rf1.feature_importances_>=sorted(rf1.feature_importances_)[-256]])\n",
        "# train_y_knn_second = train_y_features_first"
      ],
      "execution_count": 65,
      "outputs": []
    },
    {
      "cell_type": "markdown",
      "metadata": {
        "id": "bOteeGf42Bse"
      },
      "source": [
        "------------------------------------------------------SECOND OUTLIER DETECTION (isoforest)-----------------------------------------------------"
      ]
    },
    {
      "cell_type": "code",
      "metadata": {
        "id": "syVyP3t55FqJ"
      },
      "source": [
        "clf_isoforest2 = IsolationForest(random_state=0, bootstrap = True)\n",
        "second_iso_outliers = clf_isoforest2.fit_predict(train_X_features_first)"
      ],
      "execution_count": 157,
      "outputs": []
    },
    {
      "cell_type": "code",
      "metadata": {
        "colab": {
          "base_uri": "https://localhost:8080/"
        },
        "id": "WH2Qq67r2W3L",
        "outputId": "b41b7b4d-2933-4f72-e2a1-e16690bff639"
      },
      "source": [
        "count = 0\n",
        "for x in range(len(second_iso_outliers)):\n",
        "  if second_iso_outliers[x]!=1:\n",
        "    print(x)\n",
        "    count +=1\n",
        "print(f\"count is {count}\")\n",
        "second_iso_outliers+=1\n",
        "second_iso_outliers = second_iso_outliers/2\n",
        "train_X_iso_second = train_X_features_first[second_iso_outliers==1.0]\n",
        "train_y_iso_second = train_y_features_first[second_iso_outliers==1.0]"
      ],
      "execution_count": 158,
      "outputs": [
        {
          "output_type": "stream",
          "name": "stdout",
          "text": [
            "1\n",
            "3\n",
            "14\n",
            "16\n",
            "34\n",
            "39\n",
            "40\n",
            "41\n",
            "93\n",
            "109\n",
            "132\n",
            "140\n",
            "141\n",
            "144\n",
            "166\n",
            "203\n",
            "213\n",
            "237\n",
            "276\n",
            "310\n",
            "320\n",
            "328\n",
            "330\n",
            "345\n",
            "390\n",
            "426\n",
            "433\n",
            "482\n",
            "516\n",
            "554\n",
            "565\n",
            "567\n",
            "579\n",
            "590\n",
            "591\n",
            "603\n",
            "608\n",
            "621\n",
            "650\n",
            "652\n",
            "665\n",
            "670\n",
            "694\n",
            "738\n",
            "756\n",
            "765\n",
            "780\n",
            "783\n",
            "817\n",
            "819\n",
            "826\n",
            "837\n",
            "839\n",
            "862\n",
            "872\n",
            "875\n",
            "909\n",
            "924\n",
            "939\n",
            "972\n",
            "984\n",
            "998\n",
            "1084\n",
            "1091\n",
            "1094\n",
            "1097\n",
            "1100\n",
            "1133\n",
            "1155\n",
            "1169\n",
            "1192\n",
            "count is 71\n"
          ]
        }
      ]
    },
    {
      "cell_type": "code",
      "metadata": {
        "colab": {
          "base_uri": "https://localhost:8080/"
        },
        "id": "Rqi6L391-YHW",
        "outputId": "b8c05e72-ddc7-464b-f31a-10226b7a5091"
      },
      "source": [
        "print(train_X_iso_second.shape)\n",
        "print(train_y_iso_second.shape)"
      ],
      "execution_count": 159,
      "outputs": [
        {
          "output_type": "stream",
          "name": "stdout",
          "text": [
            "(1131, 256)\n",
            "(1131, 1)\n"
          ]
        }
      ]
    },
    {
      "cell_type": "markdown",
      "metadata": {
        "id": "MI81rzuJ6HdJ"
      },
      "source": [
        "HERE, ADD AN EXTRA STEP OF THE ENTIRE PROCESS ABOVE"
      ]
    },
    {
      "cell_type": "markdown",
      "metadata": {
        "id": "dqurGsRR6DkL"
      },
      "source": [
        "-------------------------------------------------------REGRESSION---------------------------------------------------"
      ]
    },
    {
      "cell_type": "code",
      "metadata": {
        "id": "9x3tA2Z-59i9"
      },
      "source": [
        "from sklearn.metrics import r2_score\n",
        "from sklearn.ensemble import BaggingRegressor\n",
        "from sklearn.pipeline import make_pipeline\n",
        "from sklearn.preprocessing import StandardScaler\n",
        "from sklearn.ensemble import GradientBoostingRegressor"
      ],
      "execution_count": 160,
      "outputs": []
    },
    {
      "cell_type": "code",
      "metadata": {
        "id": "OsBS_H6h7ehy"
      },
      "source": [
        "#Split to validation and training set\n",
        "train_X_iso_second_a = train_X_iso_second[:1040]\n",
        "train_X_iso_second_b = train_X_iso_second[1040:]\n",
        "train_y_iso_second_a = train_y_iso_second[:1040]\n",
        "train_y_iso_second_b = train_y_iso_second[1040:]"
      ],
      "execution_count": 161,
      "outputs": []
    },
    {
      "cell_type": "code",
      "metadata": {
        "colab": {
          "base_uri": "https://localhost:8080/"
        },
        "id": "VsuNqH047f4n",
        "outputId": "0a23e4d3-c730-4bec-910c-09c5617c579c"
      },
      "source": [
        "gbt = make_pipeline(StandardScaler(),GradientBoostingRegressor(n_estimators=345, learning_rate=0.14, random_state=0))\n",
        "gbt.fit(train_X_iso_second_a, train_y_iso_second_a)\n",
        "r2_score(train_y_iso_second_b, gbt.predict(train_X_iso_second_b))"
      ],
      "execution_count": 163,
      "outputs": [
        {
          "output_type": "stream",
          "name": "stderr",
          "text": [
            "/usr/local/lib/python3.7/dist-packages/sklearn/ensemble/_gb.py:1454: DataConversionWarning: A column-vector y was passed when a 1d array was expected. Please change the shape of y to (n_samples, ), for example using ravel().\n",
            "  y = column_or_1d(y, warn=True)\n"
          ]
        },
        {
          "output_type": "execute_result",
          "data": {
            "text/plain": [
              "0.6140776163627466"
            ]
          },
          "metadata": {},
          "execution_count": 163
        }
      ]
    },
    {
      "cell_type": "code",
      "metadata": {
        "colab": {
          "base_uri": "https://localhost:8080/"
        },
        "id": "p6wQ1TXgINId",
        "outputId": "a50bc694-d10e-49b4-9a51-856c67a703a2"
      },
      "source": [
        "gbt2 = make_pipeline(StandardScaler(),GradientBoostingRegressor(n_estimators=345, learning_rate=0.14, random_state=0))\n",
        "gbt2.fit(train_X_iso_second, train_y_iso_second)\n",
        "r2_score(train_y_iso_second, gbt2.predict(train_X_iso_second))"
      ],
      "execution_count": 164,
      "outputs": [
        {
          "output_type": "stream",
          "name": "stderr",
          "text": [
            "/usr/local/lib/python3.7/dist-packages/sklearn/ensemble/_gb.py:1454: DataConversionWarning: A column-vector y was passed when a 1d array was expected. Please change the shape of y to (n_samples, ), for example using ravel().\n",
            "  y = column_or_1d(y, warn=True)\n"
          ]
        },
        {
          "output_type": "execute_result",
          "data": {
            "text/plain": [
              "0.9937361767779619"
            ]
          },
          "metadata": {},
          "execution_count": 164
        }
      ]
    },
    {
      "cell_type": "markdown",
      "metadata": {
        "id": "ZmB8eRPcBeqd"
      },
      "source": [
        "-------------------------------------------------SECOND FEATURE SELECTION-----------------------------------------------"
      ]
    },
    {
      "cell_type": "code",
      "metadata": {
        "colab": {
          "base_uri": "https://localhost:8080/"
        },
        "id": "HIAUGdkxBh9u",
        "outputId": "81b8deff-4a7a-46c7-d0dc-ffd689da8261"
      },
      "source": [
        "rf2 = RandomForestRegressor(n_estimators=100, random_state=0,oob_score=True, bootstrap=True)\n",
        "rf2.fit(train_X_iso_second, train_y_iso_second)"
      ],
      "execution_count": 49,
      "outputs": [
        {
          "output_type": "stream",
          "name": "stderr",
          "text": [
            "/usr/local/lib/python3.7/dist-packages/ipykernel_launcher.py:2: DataConversionWarning: A column-vector y was passed when a 1d array was expected. Please change the shape of y to (n_samples,), for example using ravel().\n",
            "  \n"
          ]
        },
        {
          "output_type": "execute_result",
          "data": {
            "text/plain": [
              "RandomForestRegressor(bootstrap=True, ccp_alpha=0.0, criterion='mse',\n",
              "                      max_depth=None, max_features='auto', max_leaf_nodes=None,\n",
              "                      max_samples=None, min_impurity_decrease=0.0,\n",
              "                      min_impurity_split=None, min_samples_leaf=1,\n",
              "                      min_samples_split=2, min_weight_fraction_leaf=0.0,\n",
              "                      n_estimators=100, n_jobs=None, oob_score=True,\n",
              "                      random_state=0, verbose=0, warm_start=False)"
            ]
          },
          "metadata": {},
          "execution_count": 49
        }
      ]
    },
    {
      "cell_type": "code",
      "metadata": {
        "colab": {
          "base_uri": "https://localhost:8080/"
        },
        "id": "1WlWFQAyBiLO",
        "outputId": "8862c0f1-ea77-43ec-b393-d95ac156c257"
      },
      "source": [
        "train_X_features_second = train_X_iso_second[:,rf2.feature_importances_>=sorted(rf2.feature_importances_)[-256]]\n",
        "train_y_features_second = train_y_iso_second\n",
        "print(train_X_features_second.shape)\n",
        "print(train_y_features_second.shape)"
      ],
      "execution_count": 50,
      "outputs": [
        {
          "output_type": "stream",
          "name": "stdout",
          "text": [
            "(1131, 256)\n",
            "(1131, 1)\n"
          ]
        }
      ]
    },
    {
      "cell_type": "markdown",
      "metadata": {
        "id": "EzmR4x41BEPw"
      },
      "source": [
        "----------------------------------------------THIRD OUTLIER DETECTION-------------------------------------------"
      ]
    },
    {
      "cell_type": "code",
      "metadata": {
        "id": "HHgSAddDBKqr"
      },
      "source": [
        "clf_isoforest3 = IsolationForest(random_state=0, bootstrap = True)\n",
        "third_iso_outliers = clf_isoforest3.fit_predict(train_X_features_second)"
      ],
      "execution_count": 51,
      "outputs": []
    },
    {
      "cell_type": "code",
      "metadata": {
        "id": "TQs5eAZxCkZz"
      },
      "source": [
        "count = 0\n",
        "for x in range(len(third_iso_outliers)):\n",
        "  if third_iso_outliers[x]!=1:\n",
        "    print(x)\n",
        "    count +=1\n",
        "print(f\"count is {count}\")\n",
        "third_iso_outliers+=1\n",
        "third_iso_outliers = third_iso_outliers/2\n",
        "train_X_iso_third = train_X_features_second[third_iso_outliers==1.0]\n",
        "train_y_iso_third = train_y_features_second[third_iso_outliers==1.0]"
      ],
      "execution_count": null,
      "outputs": []
    },
    {
      "cell_type": "code",
      "metadata": {
        "colab": {
          "base_uri": "https://localhost:8080/"
        },
        "id": "rsPWgfumDBfw",
        "outputId": "2724d44c-4812-4b55-d0b5-3df10bd17353"
      },
      "source": [
        "print(train_X_iso_third.shape)\n",
        "print(train_y_iso_third.shape)"
      ],
      "execution_count": 53,
      "outputs": [
        {
          "output_type": "stream",
          "name": "stdout",
          "text": [
            "(1084, 256)\n",
            "(1084, 1)\n"
          ]
        }
      ]
    },
    {
      "cell_type": "markdown",
      "metadata": {
        "id": "f2LjxZG6DHgA"
      },
      "source": [
        "--------------------------------------------REGRESSION (after 3 outlier steps)---------------------------------------------"
      ]
    },
    {
      "cell_type": "code",
      "metadata": {
        "id": "0O1k9w1ADGvL"
      },
      "source": [
        "train_X_iso_third_a = train_X_iso_third[:1010]\n",
        "train_X_iso_third_b = train_X_iso_third[1010:]\n",
        "train_y_iso_third_a = train_y_iso_third[:1010]\n",
        "train_y_iso_third_b = train_y_iso_third[1010:]"
      ],
      "execution_count": 54,
      "outputs": []
    },
    {
      "cell_type": "code",
      "metadata": {
        "colab": {
          "base_uri": "https://localhost:8080/"
        },
        "id": "s9_MDY4KDOcK",
        "outputId": "4e00fb4c-6389-4518-f216-62599d8bb41b"
      },
      "source": [
        "gbt_third = make_pipeline(StandardScaler(),GradientBoostingRegressor(n_estimators=350, learning_rate=0.14, random_state=0))\n",
        "gbt_third.fit(train_X_iso_third_a, train_y_iso_third_a)\n",
        "r2_score(train_y_iso_third_b, gbt_third.predict(train_X_iso_third_b))"
      ],
      "execution_count": 55,
      "outputs": [
        {
          "output_type": "stream",
          "name": "stderr",
          "text": [
            "/usr/local/lib/python3.7/dist-packages/sklearn/ensemble/_gb.py:1454: DataConversionWarning: A column-vector y was passed when a 1d array was expected. Please change the shape of y to (n_samples, ), for example using ravel().\n",
            "  y = column_or_1d(y, warn=True)\n"
          ]
        },
        {
          "output_type": "execute_result",
          "data": {
            "text/plain": [
              "0.5738980398414222"
            ]
          },
          "metadata": {},
          "execution_count": 55
        }
      ]
    },
    {
      "cell_type": "code",
      "metadata": {
        "colab": {
          "base_uri": "https://localhost:8080/"
        },
        "id": "kEhYjNdTENwl",
        "outputId": "f3efe186-1912-4685-b80e-80fe85f04774"
      },
      "source": [
        "gbt_third2 = make_pipeline(StandardScaler(),GradientBoostingRegressor(n_estimators=350, learning_rate=0.14, random_state=0))\n",
        "gbt_third2.fit(train_X_iso_third, train_y_iso_third)\n",
        "r2_score(train_y_iso_third, gbt_third2.predict(train_X_iso_third))"
      ],
      "execution_count": 43,
      "outputs": [
        {
          "output_type": "stream",
          "name": "stderr",
          "text": [
            "/usr/local/lib/python3.7/dist-packages/sklearn/ensemble/_gb.py:1454: DataConversionWarning: A column-vector y was passed when a 1d array was expected. Please change the shape of y to (n_samples, ), for example using ravel().\n",
            "  y = column_or_1d(y, warn=True)\n"
          ]
        },
        {
          "output_type": "execute_result",
          "data": {
            "text/plain": [
              "0.9947555415969989"
            ]
          },
          "metadata": {},
          "execution_count": 43
        }
      ]
    },
    {
      "cell_type": "markdown",
      "metadata": {
        "id": "66saP5ZH7gc5"
      },
      "source": [
        "--------------------------------------------------MAKING PREDICTIONS------------------------------------------------"
      ]
    },
    {
      "cell_type": "code",
      "metadata": {
        "id": "wsdJn3tR7iy9"
      },
      "source": [
        "imputertest = KNNImputer(n_neighbors=10, weights=\"uniform\") #Should I use the already trained imputer?\n",
        "\n",
        "imputertest.fit(test_X_tensor.numpy())\n",
        "\n",
        "test_X_knn = imputertest.transform(test_X_tensor.numpy())"
      ],
      "execution_count": 44,
      "outputs": []
    },
    {
      "cell_type": "code",
      "metadata": {
        "id": "RkOWmo3EORrl"
      },
      "source": [
        "test_GAIN = test_X_tensor.numpy()"
      ],
      "execution_count": 99,
      "outputs": []
    },
    {
      "cell_type": "code",
      "metadata": {
        "id": "WI3TULBUE62V"
      },
      "source": [
        "temp = test_X_knn[:,rf1.feature_importances_>=sorted(rf1.feature_importances_)[-256]]\n",
        "temp2 = temp[:,rf2.feature_importances_>=sorted(rf2.feature_importances_)[-250]]\n",
        "predictiontest = gbt_third2.predict(temp2)"
      ],
      "execution_count": 47,
      "outputs": []
    },
    {
      "cell_type": "code",
      "metadata": {
        "id": "b_sZ5lpm8RX4"
      },
      "source": [
        "predictiontest = gbt2.predict(test_GAIN[:,rf1.feature_importances_>=sorted(rf1.feature_importances_)[-256]])"
      ],
      "execution_count": 100,
      "outputs": []
    },
    {
      "cell_type": "code",
      "metadata": {
        "id": "fO0MB-rSPIiv"
      },
      "source": [
        "predictiontest = gbt2.predict(test_X_knn[:,rf1.feature_importances_>=sorted(rf1.feature_importances_)[-256]])"
      ],
      "execution_count": null,
      "outputs": []
    },
    {
      "cell_type": "code",
      "metadata": {
        "id": "ppPmS7_28VCi"
      },
      "source": [
        "test_y = pd.read_csv('sample.csv')\n",
        "test_y.loc[:,\"y\"] = predictiontest\n",
        "test_y.to_csv(\"predictions4.csv\", index=False)"
      ],
      "execution_count": 101,
      "outputs": []
    },
    {
      "cell_type": "code",
      "metadata": {
        "id": "F8nVhbEwFMOg"
      },
      "source": [
        ""
      ],
      "execution_count": null,
      "outputs": []
    }
  ]
}